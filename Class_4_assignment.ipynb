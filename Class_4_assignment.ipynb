{
  "nbformat": 4,
  "nbformat_minor": 0,
  "metadata": {
    "colab": {
      "provenance": [],
      "authorship_tag": "ABX9TyPZ5pHRRd2FkEM5qi0Npk4W",
      "include_colab_link": true
    },
    "kernelspec": {
      "name": "python3",
      "display_name": "Python 3"
    },
    "language_info": {
      "name": "python"
    }
  },
  "cells": [
    {
      "cell_type": "markdown",
      "metadata": {
        "id": "view-in-github",
        "colab_type": "text"
      },
      "source": [
        "<a href=\"https://colab.research.google.com/github/MeSamiulIslam/aiQuest/blob/main/Class_4_assignment.ipynb\" target=\"_parent\"><img src=\"https://colab.research.google.com/assets/colab-badge.svg\" alt=\"Open In Colab\"/></a>"
      ]
    },
    {
      "cell_type": "code",
      "execution_count": 1,
      "metadata": {
        "id": "sdsnkyvXz6NS"
      },
      "outputs": [],
      "source": [
        "import pandas as pd\n",
        "import matplotlib.pyplot as plt\n",
        "from sklearn.linear_model import LinearRegression\n",
        "import warnings as wr\n",
        "wr.filterwarnings('ignore')\n",
        "from sklearn.metrics import mean_squared_error, mean_absolute_error"
      ]
    },
    {
      "cell_type": "code",
      "source": [
        "from itables import init_notebook_mode\n",
        "init_notebook_mode(all_interactive=True)"
      ],
      "metadata": {
        "id": "Cz_Q6Lss3vWv"
      },
      "execution_count": 2,
      "outputs": []
    },
    {
      "cell_type": "code",
      "source": [
        "url = 'https://raw.githubusercontent.com/MeSamiulIslam/aiQuest/main/Height-Weight%20Data.csv'\n",
        "df = pd.read_csv(url) #df = pd.read_csv(url)\n",
        "df.head(5) ##to get the last 5 rows"
      ],
      "metadata": {
        "colab": {
          "base_uri": "https://localhost:8080/",
          "height": 282
        },
        "id": "5wucMtfy0CZr",
        "outputId": "7e560952-339e-4339-fcd1-7d803e132ce0"
      },
      "execution_count": 3,
      "outputs": [
        {
          "output_type": "execute_result",
          "data": {
            "text/plain": [
              "      Height      Weight\n",
              "0  73.847017  241.893563\n",
              "1  68.781904  162.310473\n",
              "2  74.110105  212.740856\n",
              "3  71.730978  220.042470\n",
              "4  69.881796  206.349801"
            ],
            "text/html": [
              "\n",
              "  <div id=\"df-4ca1a231-deb6-4b92-be30-5d3a4805aad1\">\n",
              "    <div class=\"colab-df-container\">\n",
              "      <style>.itables table td {\n",
              "    text-overflow: ellipsis;\n",
              "    overflow: hidden;\n",
              "}\n",
              "\n",
              ".itables table th {\n",
              "    text-overflow: ellipsis;\n",
              "    overflow: hidden;\n",
              "}\n",
              "\n",
              ".itables thead input {\n",
              "    width: 100%;\n",
              "    padding: 3px;\n",
              "    box-sizing: border-box;\n",
              "}\n",
              "\n",
              ".itables tfoot input {\n",
              "    width: 100%;\n",
              "    padding: 3px;\n",
              "    box-sizing: border-box;\n",
              "}\n",
              "</style>\n",
              "<div class=\"itables\">\n",
              "<table id=\"6da9b8a9-fa63-4042-b566-6834bf9e408a\" class=\"display nowrap\"style=\"table-layout:auto;width:auto;margin:auto;caption-side:bottom\"><thead>\n",
              "    <tr style=\"text-align: right;\">\n",
              "      \n",
              "      <th>Height</th>\n",
              "      <th>Weight</th>\n",
              "    </tr>\n",
              "  </thead><tbody><tr><td>Loading... (need <a href=https://mwouts.github.io/itables/troubleshooting.html>help</a>?)</td></tr></tbody></table>\n",
              "<link rel=\"stylesheet\" type=\"text/css\" href=\"https://cdn.datatables.net/1.13.1/css/jquery.dataTables.min.css\">\n",
              "<script type=\"module\">\n",
              "    // Import jquery and DataTable\n",
              "    import 'https://code.jquery.com/jquery-3.6.0.min.js';\n",
              "    import dt from 'https://cdn.datatables.net/1.12.1/js/jquery.dataTables.mjs';\n",
              "    dt($);\n",
              "\n",
              "    // Define the table data\n",
              "    const data = [[73.847017, 241.893563], [68.781904, 162.310473], [74.110105, 212.740856], [71.730978, 220.04247], [69.881796, 206.349801]];\n",
              "\n",
              "    // Define the dt_args\n",
              "    let dt_args = {\"order\": [], \"paging\": false};\n",
              "    dt_args[\"data\"] = data;\n",
              "\n",
              "    $(document).ready(function () {\n",
              "        \n",
              "        $('#6da9b8a9-fa63-4042-b566-6834bf9e408a').DataTable(dt_args);\n",
              "    });\n",
              "</script>\n",
              "</div>\n",
              "\n",
              "      <button class=\"colab-df-convert\" onclick=\"convertToInteractive('df-4ca1a231-deb6-4b92-be30-5d3a4805aad1')\"\n",
              "              title=\"Convert this dataframe to an interactive table.\"\n",
              "              style=\"display:none;\">\n",
              "        \n",
              "  <svg xmlns=\"http://www.w3.org/2000/svg\" height=\"24px\"viewBox=\"0 0 24 24\"\n",
              "       width=\"24px\">\n",
              "    <path d=\"M0 0h24v24H0V0z\" fill=\"none\"/>\n",
              "    <path d=\"M18.56 5.44l.94 2.06.94-2.06 2.06-.94-2.06-.94-.94-2.06-.94 2.06-2.06.94zm-11 1L8.5 8.5l.94-2.06 2.06-.94-2.06-.94L8.5 2.5l-.94 2.06-2.06.94zm10 10l.94 2.06.94-2.06 2.06-.94-2.06-.94-.94-2.06-.94 2.06-2.06.94z\"/><path d=\"M17.41 7.96l-1.37-1.37c-.4-.4-.92-.59-1.43-.59-.52 0-1.04.2-1.43.59L10.3 9.45l-7.72 7.72c-.78.78-.78 2.05 0 2.83L4 21.41c.39.39.9.59 1.41.59.51 0 1.02-.2 1.41-.59l7.78-7.78 2.81-2.81c.8-.78.8-2.07 0-2.86zM5.41 20L4 18.59l7.72-7.72 1.47 1.35L5.41 20z\"/>\n",
              "  </svg>\n",
              "      </button>\n",
              "      \n",
              "  <style>\n",
              "    .colab-df-container {\n",
              "      display:flex;\n",
              "      flex-wrap:wrap;\n",
              "      gap: 12px;\n",
              "    }\n",
              "\n",
              "    .colab-df-convert {\n",
              "      background-color: #E8F0FE;\n",
              "      border: none;\n",
              "      border-radius: 50%;\n",
              "      cursor: pointer;\n",
              "      display: none;\n",
              "      fill: #1967D2;\n",
              "      height: 32px;\n",
              "      padding: 0 0 0 0;\n",
              "      width: 32px;\n",
              "    }\n",
              "\n",
              "    .colab-df-convert:hover {\n",
              "      background-color: #E2EBFA;\n",
              "      box-shadow: 0px 1px 2px rgba(60, 64, 67, 0.3), 0px 1px 3px 1px rgba(60, 64, 67, 0.15);\n",
              "      fill: #174EA6;\n",
              "    }\n",
              "\n",
              "    [theme=dark] .colab-df-convert {\n",
              "      background-color: #3B4455;\n",
              "      fill: #D2E3FC;\n",
              "    }\n",
              "\n",
              "    [theme=dark] .colab-df-convert:hover {\n",
              "      background-color: #434B5C;\n",
              "      box-shadow: 0px 1px 3px 1px rgba(0, 0, 0, 0.15);\n",
              "      filter: drop-shadow(0px 1px 2px rgba(0, 0, 0, 0.3));\n",
              "      fill: #FFFFFF;\n",
              "    }\n",
              "  </style>\n",
              "\n",
              "      <script>\n",
              "        const buttonEl =\n",
              "          document.querySelector('#df-4ca1a231-deb6-4b92-be30-5d3a4805aad1 button.colab-df-convert');\n",
              "        buttonEl.style.display =\n",
              "          google.colab.kernel.accessAllowed ? 'block' : 'none';\n",
              "\n",
              "        async function convertToInteractive(key) {\n",
              "          const element = document.querySelector('#df-4ca1a231-deb6-4b92-be30-5d3a4805aad1');\n",
              "          const dataTable =\n",
              "            await google.colab.kernel.invokeFunction('convertToInteractive',\n",
              "                                                     [key], {});\n",
              "          if (!dataTable) return;\n",
              "\n",
              "          const docLinkHtml = 'Like what you see? Visit the ' +\n",
              "            '<a target=\"_blank\" href=https://colab.research.google.com/notebooks/data_table.ipynb>data table notebook</a>'\n",
              "            + ' to learn more about interactive tables.';\n",
              "          element.innerHTML = '';\n",
              "          dataTable['output_type'] = 'display_data';\n",
              "          await google.colab.output.renderOutput(dataTable, element);\n",
              "          const docLink = document.createElement('div');\n",
              "          docLink.innerHTML = docLinkHtml;\n",
              "          element.appendChild(docLink);\n",
              "        }\n",
              "      </script>\n",
              "    </div>\n",
              "  </div>\n",
              "  "
            ]
          },
          "metadata": {},
          "execution_count": 3
        }
      ]
    },
    {
      "cell_type": "code",
      "source": [
        "df.tail(3) #to get the last 3 rows"
      ],
      "metadata": {
        "colab": {
          "base_uri": "https://localhost:8080/",
          "height": 213
        },
        "id": "JQ6fr3AU1rZI",
        "outputId": "f9627f16-d4ce-4faf-b6d3-4c5ccd05ec63"
      },
      "execution_count": 4,
      "outputs": [
        {
          "output_type": "execute_result",
          "data": {
            "text/plain": [
              "         Height      Weight\n",
              "3498  73.912549  202.429960\n",
              "3499  67.396021  144.277671\n",
              "3500  72.738970  187.222909"
            ],
            "text/html": [
              "\n",
              "  <div id=\"df-cd0fcdb1-ae7f-4eb0-9d2b-0c9f00719032\">\n",
              "    <div class=\"colab-df-container\">\n",
              "      <style>.itables table td {\n",
              "    text-overflow: ellipsis;\n",
              "    overflow: hidden;\n",
              "}\n",
              "\n",
              ".itables table th {\n",
              "    text-overflow: ellipsis;\n",
              "    overflow: hidden;\n",
              "}\n",
              "\n",
              ".itables thead input {\n",
              "    width: 100%;\n",
              "    padding: 3px;\n",
              "    box-sizing: border-box;\n",
              "}\n",
              "\n",
              ".itables tfoot input {\n",
              "    width: 100%;\n",
              "    padding: 3px;\n",
              "    box-sizing: border-box;\n",
              "}\n",
              "</style>\n",
              "<div class=\"itables\">\n",
              "<table id=\"831c761e-56ea-42f3-a263-4aef3f58793d\" class=\"display nowrap\"style=\"table-layout:auto;width:auto;margin:auto;caption-side:bottom\"><thead>\n",
              "    <tr style=\"text-align: right;\">\n",
              "      \n",
              "      <th>Height</th>\n",
              "      <th>Weight</th>\n",
              "    </tr>\n",
              "  </thead><tbody><tr><td>Loading... (need <a href=https://mwouts.github.io/itables/troubleshooting.html>help</a>?)</td></tr></tbody></table>\n",
              "<link rel=\"stylesheet\" type=\"text/css\" href=\"https://cdn.datatables.net/1.13.1/css/jquery.dataTables.min.css\">\n",
              "<script type=\"module\">\n",
              "    // Import jquery and DataTable\n",
              "    import 'https://code.jquery.com/jquery-3.6.0.min.js';\n",
              "    import dt from 'https://cdn.datatables.net/1.12.1/js/jquery.dataTables.mjs';\n",
              "    dt($);\n",
              "\n",
              "    // Define the table data\n",
              "    const data = [[73.912549, 202.42996], [67.396021, 144.277671], [72.73897, 187.222909]];\n",
              "\n",
              "    // Define the dt_args\n",
              "    let dt_args = {\"order\": [], \"paging\": false};\n",
              "    dt_args[\"data\"] = data;\n",
              "\n",
              "    $(document).ready(function () {\n",
              "        \n",
              "        $('#831c761e-56ea-42f3-a263-4aef3f58793d').DataTable(dt_args);\n",
              "    });\n",
              "</script>\n",
              "</div>\n",
              "\n",
              "      <button class=\"colab-df-convert\" onclick=\"convertToInteractive('df-cd0fcdb1-ae7f-4eb0-9d2b-0c9f00719032')\"\n",
              "              title=\"Convert this dataframe to an interactive table.\"\n",
              "              style=\"display:none;\">\n",
              "        \n",
              "  <svg xmlns=\"http://www.w3.org/2000/svg\" height=\"24px\"viewBox=\"0 0 24 24\"\n",
              "       width=\"24px\">\n",
              "    <path d=\"M0 0h24v24H0V0z\" fill=\"none\"/>\n",
              "    <path d=\"M18.56 5.44l.94 2.06.94-2.06 2.06-.94-2.06-.94-.94-2.06-.94 2.06-2.06.94zm-11 1L8.5 8.5l.94-2.06 2.06-.94-2.06-.94L8.5 2.5l-.94 2.06-2.06.94zm10 10l.94 2.06.94-2.06 2.06-.94-2.06-.94-.94-2.06-.94 2.06-2.06.94z\"/><path d=\"M17.41 7.96l-1.37-1.37c-.4-.4-.92-.59-1.43-.59-.52 0-1.04.2-1.43.59L10.3 9.45l-7.72 7.72c-.78.78-.78 2.05 0 2.83L4 21.41c.39.39.9.59 1.41.59.51 0 1.02-.2 1.41-.59l7.78-7.78 2.81-2.81c.8-.78.8-2.07 0-2.86zM5.41 20L4 18.59l7.72-7.72 1.47 1.35L5.41 20z\"/>\n",
              "  </svg>\n",
              "      </button>\n",
              "      \n",
              "  <style>\n",
              "    .colab-df-container {\n",
              "      display:flex;\n",
              "      flex-wrap:wrap;\n",
              "      gap: 12px;\n",
              "    }\n",
              "\n",
              "    .colab-df-convert {\n",
              "      background-color: #E8F0FE;\n",
              "      border: none;\n",
              "      border-radius: 50%;\n",
              "      cursor: pointer;\n",
              "      display: none;\n",
              "      fill: #1967D2;\n",
              "      height: 32px;\n",
              "      padding: 0 0 0 0;\n",
              "      width: 32px;\n",
              "    }\n",
              "\n",
              "    .colab-df-convert:hover {\n",
              "      background-color: #E2EBFA;\n",
              "      box-shadow: 0px 1px 2px rgba(60, 64, 67, 0.3), 0px 1px 3px 1px rgba(60, 64, 67, 0.15);\n",
              "      fill: #174EA6;\n",
              "    }\n",
              "\n",
              "    [theme=dark] .colab-df-convert {\n",
              "      background-color: #3B4455;\n",
              "      fill: #D2E3FC;\n",
              "    }\n",
              "\n",
              "    [theme=dark] .colab-df-convert:hover {\n",
              "      background-color: #434B5C;\n",
              "      box-shadow: 0px 1px 3px 1px rgba(0, 0, 0, 0.15);\n",
              "      filter: drop-shadow(0px 1px 2px rgba(0, 0, 0, 0.3));\n",
              "      fill: #FFFFFF;\n",
              "    }\n",
              "  </style>\n",
              "\n",
              "      <script>\n",
              "        const buttonEl =\n",
              "          document.querySelector('#df-cd0fcdb1-ae7f-4eb0-9d2b-0c9f00719032 button.colab-df-convert');\n",
              "        buttonEl.style.display =\n",
              "          google.colab.kernel.accessAllowed ? 'block' : 'none';\n",
              "\n",
              "        async function convertToInteractive(key) {\n",
              "          const element = document.querySelector('#df-cd0fcdb1-ae7f-4eb0-9d2b-0c9f00719032');\n",
              "          const dataTable =\n",
              "            await google.colab.kernel.invokeFunction('convertToInteractive',\n",
              "                                                     [key], {});\n",
              "          if (!dataTable) return;\n",
              "\n",
              "          const docLinkHtml = 'Like what you see? Visit the ' +\n",
              "            '<a target=\"_blank\" href=https://colab.research.google.com/notebooks/data_table.ipynb>data table notebook</a>'\n",
              "            + ' to learn more about interactive tables.';\n",
              "          element.innerHTML = '';\n",
              "          dataTable['output_type'] = 'display_data';\n",
              "          await google.colab.output.renderOutput(dataTable, element);\n",
              "          const docLink = document.createElement('div');\n",
              "          docLink.innerHTML = docLinkHtml;\n",
              "          element.appendChild(docLink);\n",
              "        }\n",
              "      </script>\n",
              "    </div>\n",
              "  </div>\n",
              "  "
            ]
          },
          "metadata": {},
          "execution_count": 4
        }
      ]
    },
    {
      "cell_type": "code",
      "source": [
        "df.shape #Returns tuple of shape (Rows, columns) of dataframe"
      ],
      "metadata": {
        "id": "ihhr0e9V1tkw",
        "colab": {
          "base_uri": "https://localhost:8080/"
        },
        "outputId": "3f046d54-be0b-4361-f613-e2b272d37094"
      },
      "execution_count": 5,
      "outputs": [
        {
          "output_type": "execute_result",
          "data": {
            "text/plain": [
              "(3501, 2)"
            ]
          },
          "metadata": {},
          "execution_count": 5
        }
      ]
    },
    {
      "cell_type": "code",
      "source": [
        "df.size #Returns size of dataframe which is equivalent to total number of elements. That is rows x columns."
      ],
      "metadata": {
        "colab": {
          "base_uri": "https://localhost:8080/"
        },
        "id": "lOhYJ6xN6hPQ",
        "outputId": "4569dc66-2476-4d46-ab36-a521434dff6d"
      },
      "execution_count": 6,
      "outputs": [
        {
          "output_type": "execute_result",
          "data": {
            "text/plain": [
              "7002"
            ]
          },
          "metadata": {},
          "execution_count": 6
        }
      ]
    },
    {
      "cell_type": "code",
      "source": [
        "df.ndim #Returns dimension of dataframe."
      ],
      "metadata": {
        "colab": {
          "base_uri": "https://localhost:8080/"
        },
        "id": "GxG_YlGJ6tL_",
        "outputId": "96783824-0780-4c9f-8b72-9a049542f931"
      },
      "execution_count": 7,
      "outputs": [
        {
          "output_type": "execute_result",
          "data": {
            "text/plain": [
              "2"
            ]
          },
          "metadata": {},
          "execution_count": 7
        }
      ]
    },
    {
      "cell_type": "code",
      "source": [
        "df.isnull().sum() #calculates the sum of null elements for each row and column"
      ],
      "metadata": {
        "colab": {
          "base_uri": "https://localhost:8080/",
          "height": 179
        },
        "id": "Fmse-7wY5Orc",
        "outputId": "62e321d9-2fe7-4ba7-f871-c8682a39f468"
      },
      "execution_count": 8,
      "outputs": [
        {
          "output_type": "execute_result",
          "data": {
            "text/plain": [
              "Height    0\n",
              "Weight    0\n",
              "dtype: int64"
            ],
            "text/html": [
              "<style>.itables table td {\n",
              "    text-overflow: ellipsis;\n",
              "    overflow: hidden;\n",
              "}\n",
              "\n",
              ".itables table th {\n",
              "    text-overflow: ellipsis;\n",
              "    overflow: hidden;\n",
              "}\n",
              "\n",
              ".itables thead input {\n",
              "    width: 100%;\n",
              "    padding: 3px;\n",
              "    box-sizing: border-box;\n",
              "}\n",
              "\n",
              ".itables tfoot input {\n",
              "    width: 100%;\n",
              "    padding: 3px;\n",
              "    box-sizing: border-box;\n",
              "}\n",
              "</style>\n",
              "<div class=\"itables\">\n",
              "<table id=\"b1bfe19e-8f17-4a32-8200-02b812901253\" class=\"display nowrap\"style=\"table-layout:auto;width:auto;margin:auto;caption-side:bottom\"><thead>\n",
              "    <tr style=\"text-align: right;\">\n",
              "      <th></th>\n",
              "      <th>0</th>\n",
              "    </tr>\n",
              "  </thead><tbody><tr><td>Loading... (need <a href=https://mwouts.github.io/itables/troubleshooting.html>help</a>?)</td></tr></tbody></table>\n",
              "<link rel=\"stylesheet\" type=\"text/css\" href=\"https://cdn.datatables.net/1.13.1/css/jquery.dataTables.min.css\">\n",
              "<script type=\"module\">\n",
              "    // Import jquery and DataTable\n",
              "    import 'https://code.jquery.com/jquery-3.6.0.min.js';\n",
              "    import dt from 'https://cdn.datatables.net/1.12.1/js/jquery.dataTables.mjs';\n",
              "    dt($);\n",
              "\n",
              "    // Define the table data\n",
              "    const data = [[\"Height\", 0], [\"Weight\", 0]];\n",
              "\n",
              "    // Define the dt_args\n",
              "    let dt_args = {\"order\": [], \"paging\": false};\n",
              "    dt_args[\"data\"] = data;\n",
              "\n",
              "    $(document).ready(function () {\n",
              "        \n",
              "        $('#b1bfe19e-8f17-4a32-8200-02b812901253').DataTable(dt_args);\n",
              "    });\n",
              "</script>\n",
              "</div>\n"
            ]
          },
          "metadata": {},
          "execution_count": 8
        }
      ]
    },
    {
      "cell_type": "code",
      "source": [
        "df.info()  #get a concise summary of the dataframe"
      ],
      "metadata": {
        "colab": {
          "base_uri": "https://localhost:8080/"
        },
        "id": "ySAJ7wE15qBO",
        "outputId": "55288b8b-3de9-4230-a5a4-c03827396889"
      },
      "execution_count": 9,
      "outputs": [
        {
          "output_type": "stream",
          "name": "stdout",
          "text": [
            "<class 'pandas.core.frame.DataFrame'>\n",
            "RangeIndex: 3501 entries, 0 to 3500\n",
            "Data columns (total 2 columns):\n",
            " #   Column  Non-Null Count  Dtype  \n",
            "---  ------  --------------  -----  \n",
            " 0   Height  3501 non-null   float64\n",
            " 1   Weight  3501 non-null   float64\n",
            "dtypes: float64(2)\n",
            "memory usage: 54.8 KB\n"
          ]
        }
      ]
    },
    {
      "cell_type": "code",
      "source": [
        "plt.scatter(df.Height, df.Weight) # to explore the relationship between two variables"
      ],
      "metadata": {
        "colab": {
          "base_uri": "https://localhost:8080/",
          "height": 282
        },
        "id": "xqD0FvZe5yd9",
        "outputId": "9d527f45-2b53-415e-f331-9e12f2b49d11"
      },
      "execution_count": 10,
      "outputs": [
        {
          "output_type": "execute_result",
          "data": {
            "text/plain": [
              "<matplotlib.collections.PathCollection at 0x7fad5578eb50>"
            ]
          },
          "metadata": {},
          "execution_count": 10
        },
        {
          "output_type": "display_data",
          "data": {
            "text/plain": [
              "<Figure size 432x288 with 1 Axes>"
            ],
            "image/png": "[encoded data removed]"
          },
          "metadata": {
            "needs_background": "light"
          }
        }
      ]
    },
    {
      "cell_type": "code",
      "source": [
        "plt.scatter (df.Height, df.Weight, color='magenta',marker=\"d\") #set color and marker type \n",
        "plt.xlabel('Height', color='red') #renamed x label as Height and set text color\n",
        "plt.ylabel('Weight', color='red')#renamed y label as Height and set text color\n",
        "plt.title('Height-Weight Plot', color='red') ##renamed plot name and set text color"
      ],
      "metadata": {
        "colab": {
          "base_uri": "https://localhost:8080/",
          "height": 312
        },
        "id": "wsbBTp6X7Q61",
        "outputId": "7b8f4097-1709-4c0a-fc8b-ecb11bab3f28"
      },
      "execution_count": 11,
      "outputs": [
        {
          "output_type": "execute_result",
          "data": {
            "text/plain": [
              "Text(0.5, 1.0, 'Height-Weight Plot')"
            ]
          },
          "metadata": {},
          "execution_count": 11
        },
        {
          "output_type": "display_data",
          "data": {
            "text/plain": [
              "<Figure size 432x288 with 1 Axes>"
            ],
            "image/png": "[encoded data removed]"
          },
          "metadata": {
            "needs_background": "light"
          }
        }
      ]
    },
    {
      "cell_type": "code",
      "source": [
        "plt.bar(df.Height, df.Weight, width = 0.01) #bar chart describes the comparisons between the discrete categories\n",
        "plt.xlabel('Height', color='red') #renamed x label as Height and set text color\n",
        "plt.ylabel('Weight', color='red')#renamed y label as Height and set text color\n",
        "plt.title('Height-Weight Plot', color='red') ##renamed plot name and set text color"
      ],
      "metadata": {
        "colab": {
          "base_uri": "https://localhost:8080/",
          "height": 312
        },
        "id": "ahKBVliR8wrr",
        "outputId": "131e4412-9490-477e-8038-55d8e992718e"
      },
      "execution_count": 12,
      "outputs": [
        {
          "output_type": "execute_result",
          "data": {
            "text/plain": [
              "Text(0.5, 1.0, 'Height-Weight Plot')"
            ]
          },
          "metadata": {},
          "execution_count": 12
        },
        {
          "output_type": "display_data",
          "data": {
            "text/plain": [
              "<Figure size 432x288 with 1 Axes>"
            ],
            "image/png": "[encoded data removed]"
          },
          "metadata": {
            "needs_background": "light"
          }
        }
      ]
    },
    {
      "cell_type": "code",
      "source": [
        "plt.figure(figsize=(15, 5)) #figsize() allows you to change the dimensions of the graph, here we increase width.\n",
        "plt.bar(df.Height, df.Weight, width = 0.01, color='orange') #bar chart describes the comparisons between the discrete categories.\n",
        "plt.xlabel('Height', color='red') #renamed x label as Height and set text color.\n",
        "plt.ylabel('Weight', color='red')#renamed y label as Height and set text color.\n",
        "plt.title('Height-Weight Plot', color='red') ##renamed plot name and set text color."
      ],
      "metadata": {
        "colab": {
          "base_uri": "https://localhost:8080/",
          "height": 367
        },
        "id": "NMzPA7WtAp1b",
        "outputId": "a8ae1bd4-e18c-4bcd-b66b-34d6ad6a8636"
      },
      "execution_count": 13,
      "outputs": [
        {
          "output_type": "execute_result",
          "data": {
            "text/plain": [
              "Text(0.5, 1.0, 'Height-Weight Plot')"
            ]
          },
          "metadata": {},
          "execution_count": 13
        },
        {
          "output_type": "display_data",
          "data": {
            "text/plain": [
              "<Figure size 1080x360 with 1 Axes>"
            ],
            "image/png": "[encoded data removed]"
          },
          "metadata": {
            "needs_background": "light"
          }
        }
      ]
    },
    {
      "cell_type": "code",
      "source": [
        "df['Height'].plot(kind = 'hist') "
      ],
      "metadata": {
        "colab": {
          "base_uri": "https://localhost:8080/",
          "height": 282
        },
        "id": "6NcZpDP9FOWH",
        "outputId": "a0d1b549-07bc-4f51-fbc1-4affebb3d02c"
      },
      "execution_count": 14,
      "outputs": [
        {
          "output_type": "execute_result",
          "data": {
            "text/plain": [
              "<matplotlib.axes._subplots.AxesSubplot at 0x7fad50ae7550>"
            ]
          },
          "metadata": {},
          "execution_count": 14
        },
        {
          "output_type": "display_data",
          "data": {
            "text/plain": [
              "<Figure size 432x288 with 1 Axes>"
            ],
            "image/png": "[encoded data removed]"
          },
          "metadata": {
            "needs_background": "light"
          }
        }
      ]
    },
    {
      "cell_type": "code",
      "source": [
        "df['Weight'].plot(kind = 'hist')"
      ],
      "metadata": {
        "colab": {
          "base_uri": "https://localhost:8080/",
          "height": 282
        },
        "id": "NTCIUl1LHLct",
        "outputId": "59904765-9c07-4166-e875-1c874206ea88"
      },
      "execution_count": 15,
      "outputs": [
        {
          "output_type": "execute_result",
          "data": {
            "text/plain": [
              "<matplotlib.axes._subplots.AxesSubplot at 0x7fad5082ddf0>"
            ]
          },
          "metadata": {},
          "execution_count": 15
        },
        {
          "output_type": "display_data",
          "data": {
            "text/plain": [
              "<Figure size 432x288 with 1 Axes>"
            ],
            "image/png": "[encoded data removed]"
          },
          "metadata": {
            "needs_background": "light"
          }
        }
      ]
    },
    {
      "cell_type": "code",
      "source": [
        "df.Height.mean()"
      ],
      "metadata": {
        "colab": {
          "base_uri": "https://localhost:8080/"
        },
        "id": "iS_XUNnXJsu_",
        "outputId": "9f674347-2194-4122-8338-a041718b71ed"
      },
      "execution_count": 16,
      "outputs": [
        {
          "output_type": "execute_result",
          "data": {
            "text/plain": [
              "69.02441087268781"
            ]
          },
          "metadata": {},
          "execution_count": 16
        }
      ]
    },
    {
      "cell_type": "code",
      "source": [
        "df.Weight.mean()"
      ],
      "metadata": {
        "colab": {
          "base_uri": "https://localhost:8080/"
        },
        "id": "9uZzB9nMKmao",
        "outputId": "56b7cd59-9a69-476d-ed44-e9ba90c48b27"
      },
      "execution_count": 17,
      "outputs": [
        {
          "output_type": "execute_result",
          "data": {
            "text/plain": [
              "186.891257979463"
            ]
          },
          "metadata": {},
          "execution_count": 17
        }
      ]
    },
    {
      "cell_type": "code",
      "source": [
        "reg = LinearRegression() # creating object for linear regression "
      ],
      "metadata": {
        "id": "BrvVNLZHKpbP"
      },
      "execution_count": 18,
      "outputs": []
    },
    {
      "cell_type": "code",
      "source": [
        "x = df[['Height']] # x = df.drop('rent', axis=1)\n",
        "y = df[['Weight']] # y = df.drop('area', axis=1)"
      ],
      "metadata": {
        "id": "zA2P-HUWLN7W"
      },
      "execution_count": 19,
      "outputs": []
    },
    {
      "cell_type": "code",
      "source": [
        "reg.fit(x,y) # training the maodel"
      ],
      "metadata": {
        "colab": {
          "base_uri": "https://localhost:8080/"
        },
        "id": "AGiRI5N-LRKe",
        "outputId": "db3aaddd-1cde-499c-d537-7866c4432eeb"
      },
      "execution_count": 20,
      "outputs": [
        {
          "output_type": "execute_result",
          "data": {
            "text/plain": [
              "LinearRegression()"
            ]
          },
          "metadata": {},
          "execution_count": 20
        }
      ]
    },
    {
      "cell_type": "code",
      "source": [
        "reg.coef_ #m"
      ],
      "metadata": {
        "colab": {
          "base_uri": "https://localhost:8080/"
        },
        "id": "1BaKI70ILr12",
        "outputId": "9d73a63e-3f2f-49b1-cc53-1e32cc0ae831"
      },
      "execution_count": 21,
      "outputs": [
        {
          "output_type": "execute_result",
          "data": {
            "text/plain": [
              "array([[5.95843786]])"
            ]
          },
          "metadata": {},
          "execution_count": 21
        }
      ]
    },
    {
      "cell_type": "code",
      "source": [
        "reg.intercept_ #c"
      ],
      "metadata": {
        "colab": {
          "base_uri": "https://localhost:8080/"
        },
        "id": "sv92pGq7LubG",
        "outputId": "36e2f1e6-5aba-410a-a168-217ed1042fc8"
      },
      "execution_count": 22,
      "outputs": [
        {
          "output_type": "execute_result",
          "data": {
            "text/plain": [
              "array([-224.38640537])"
            ]
          },
          "metadata": {},
          "execution_count": 22
        }
      ]
    },
    {
      "cell_type": "code",
      "source": [
        "df.head()"
      ],
      "metadata": {
        "colab": {
          "base_uri": "https://localhost:8080/",
          "height": 282
        },
        "id": "RuFrOTC3L4TZ",
        "outputId": "fa47400e-ae1e-43fc-deaf-9af3188ac9ff"
      },
      "execution_count": 23,
      "outputs": [
        {
          "output_type": "execute_result",
          "data": {
            "text/plain": [
              "      Height      Weight\n",
              "0  73.847017  241.893563\n",
              "1  68.781904  162.310473\n",
              "2  74.110105  212.740856\n",
              "3  71.730978  220.042470\n",
              "4  69.881796  206.349801"
            ],
            "text/html": [
              "\n",
              "  <div id=\"df-54da9aad-4cd6-4cc1-ba7b-9414910f0bda\">\n",
              "    <div class=\"colab-df-container\">\n",
              "      <style>.itables table td {\n",
              "    text-overflow: ellipsis;\n",
              "    overflow: hidden;\n",
              "}\n",
              "\n",
              ".itables table th {\n",
              "    text-overflow: ellipsis;\n",
              "    overflow: hidden;\n",
              "}\n",
              "\n",
              ".itables thead input {\n",
              "    width: 100%;\n",
              "    padding: 3px;\n",
              "    box-sizing: border-box;\n",
              "}\n",
              "\n",
              ".itables tfoot input {\n",
              "    width: 100%;\n",
              "    padding: 3px;\n",
              "    box-sizing: border-box;\n",
              "}\n",
              "</style>\n",
              "<div class=\"itables\">\n",
              "<table id=\"560a1406-60dc-4a43-b682-d3add86d4dba\" class=\"display nowrap\"style=\"table-layout:auto;width:auto;margin:auto;caption-side:bottom\"><thead>\n",
              "    <tr style=\"text-align: right;\">\n",
              "      \n",
              "      <th>Height</th>\n",
              "      <th>Weight</th>\n",
              "    </tr>\n",
              "  </thead><tbody><tr><td>Loading... (need <a href=https://mwouts.github.io/itables/troubleshooting.html>help</a>?)</td></tr></tbody></table>\n",
              "<link rel=\"stylesheet\" type=\"text/css\" href=\"https://cdn.datatables.net/1.13.1/css/jquery.dataTables.min.css\">\n",
              "<script type=\"module\">\n",
              "    // Import jquery and DataTable\n",
              "    import 'https://code.jquery.com/jquery-3.6.0.min.js';\n",
              "    import dt from 'https://cdn.datatables.net/1.12.1/js/jquery.dataTables.mjs';\n",
              "    dt($);\n",
              "\n",
              "    // Define the table data\n",
              "    const data = [[73.847017, 241.893563], [68.781904, 162.310473], [74.110105, 212.740856], [71.730978, 220.04247], [69.881796, 206.349801]];\n",
              "\n",
              "    // Define the dt_args\n",
              "    let dt_args = {\"order\": [], \"paging\": false};\n",
              "    dt_args[\"data\"] = data;\n",
              "\n",
              "    $(document).ready(function () {\n",
              "        \n",
              "        $('#560a1406-60dc-4a43-b682-d3add86d4dba').DataTable(dt_args);\n",
              "    });\n",
              "</script>\n",
              "</div>\n",
              "\n",
              "      <button class=\"colab-df-convert\" onclick=\"convertToInteractive('df-54da9aad-4cd6-4cc1-ba7b-9414910f0bda')\"\n",
              "              title=\"Convert this dataframe to an interactive table.\"\n",
              "              style=\"display:none;\">\n",
              "        \n",
              "  <svg xmlns=\"http://www.w3.org/2000/svg\" height=\"24px\"viewBox=\"0 0 24 24\"\n",
              "       width=\"24px\">\n",
              "    <path d=\"M0 0h24v24H0V0z\" fill=\"none\"/>\n",
              "    <path d=\"M18.56 5.44l.94 2.06.94-2.06 2.06-.94-2.06-.94-.94-2.06-.94 2.06-2.06.94zm-11 1L8.5 8.5l.94-2.06 2.06-.94-2.06-.94L8.5 2.5l-.94 2.06-2.06.94zm10 10l.94 2.06.94-2.06 2.06-.94-2.06-.94-.94-2.06-.94 2.06-2.06.94z\"/><path d=\"M17.41 7.96l-1.37-1.37c-.4-.4-.92-.59-1.43-.59-.52 0-1.04.2-1.43.59L10.3 9.45l-7.72 7.72c-.78.78-.78 2.05 0 2.83L4 21.41c.39.39.9.59 1.41.59.51 0 1.02-.2 1.41-.59l7.78-7.78 2.81-2.81c.8-.78.8-2.07 0-2.86zM5.41 20L4 18.59l7.72-7.72 1.47 1.35L5.41 20z\"/>\n",
              "  </svg>\n",
              "      </button>\n",
              "      \n",
              "  <style>\n",
              "    .colab-df-container {\n",
              "      display:flex;\n",
              "      flex-wrap:wrap;\n",
              "      gap: 12px;\n",
              "    }\n",
              "\n",
              "    .colab-df-convert {\n",
              "      background-color: #E8F0FE;\n",
              "      border: none;\n",
              "      border-radius: 50%;\n",
              "      cursor: pointer;\n",
              "      display: none;\n",
              "      fill: #1967D2;\n",
              "      height: 32px;\n",
              "      padding: 0 0 0 0;\n",
              "      width: 32px;\n",
              "    }\n",
              "\n",
              "    .colab-df-convert:hover {\n",
              "      background-color: #E2EBFA;\n",
              "      box-shadow: 0px 1px 2px rgba(60, 64, 67, 0.3), 0px 1px 3px 1px rgba(60, 64, 67, 0.15);\n",
              "      fill: #174EA6;\n",
              "    }\n",
              "\n",
              "    [theme=dark] .colab-df-convert {\n",
              "      background-color: #3B4455;\n",
              "      fill: #D2E3FC;\n",
              "    }\n",
              "\n",
              "    [theme=dark] .colab-df-convert:hover {\n",
              "      background-color: #434B5C;\n",
              "      box-shadow: 0px 1px 3px 1px rgba(0, 0, 0, 0.15);\n",
              "      filter: drop-shadow(0px 1px 2px rgba(0, 0, 0, 0.3));\n",
              "      fill: #FFFFFF;\n",
              "    }\n",
              "  </style>\n",
              "\n",
              "      <script>\n",
              "        const buttonEl =\n",
              "          document.querySelector('#df-54da9aad-4cd6-4cc1-ba7b-9414910f0bda button.colab-df-convert');\n",
              "        buttonEl.style.display =\n",
              "          google.colab.kernel.accessAllowed ? 'block' : 'none';\n",
              "\n",
              "        async function convertToInteractive(key) {\n",
              "          const element = document.querySelector('#df-54da9aad-4cd6-4cc1-ba7b-9414910f0bda');\n",
              "          const dataTable =\n",
              "            await google.colab.kernel.invokeFunction('convertToInteractive',\n",
              "                                                     [key], {});\n",
              "          if (!dataTable) return;\n",
              "\n",
              "          const docLinkHtml = 'Like what you see? Visit the ' +\n",
              "            '<a target=\"_blank\" href=https://colab.research.google.com/notebooks/data_table.ipynb>data table notebook</a>'\n",
              "            + ' to learn more about interactive tables.';\n",
              "          element.innerHTML = '';\n",
              "          dataTable['output_type'] = 'display_data';\n",
              "          await google.colab.output.renderOutput(dataTable, element);\n",
              "          const docLink = document.createElement('div');\n",
              "          docLink.innerHTML = docLinkHtml;\n",
              "          element.appendChild(docLink);\n",
              "        }\n",
              "      </script>\n",
              "    </div>\n",
              "  </div>\n",
              "  "
            ]
          },
          "metadata": {},
          "execution_count": 23
        }
      ]
    },
    {
      "cell_type": "code",
      "source": [
        "reg.predict([[75]])"
      ],
      "metadata": {
        "colab": {
          "base_uri": "https://localhost:8080/"
        },
        "id": "XpjWcBmaLyI2",
        "outputId": "55ed42f5-b358-4d05-be12-7cd8b8203beb"
      },
      "execution_count": 24,
      "outputs": [
        {
          "output_type": "execute_result",
          "data": {
            "text/plain": [
              "array([[222.4964345]])"
            ]
          },
          "metadata": {},
          "execution_count": 24
        }
      ]
    },
    {
      "cell_type": "code",
      "source": [
        "reg.predict([[71.73]])"
      ],
      "metadata": {
        "colab": {
          "base_uri": "https://localhost:8080/"
        },
        "id": "2KXRhIUtMGdO",
        "outputId": "8de95b4e-28fa-45fe-9646-d2155746dbfa"
      },
      "execution_count": 25,
      "outputs": [
        {
          "output_type": "execute_result",
          "data": {
            "text/plain": [
              "array([[203.01234268]])"
            ]
          },
          "metadata": {},
          "execution_count": 25
        }
      ]
    },
    {
      "cell_type": "code",
      "source": [
        "result = ((reg.coef_) * 71) + (reg.intercept_) #y = m*x+c\n",
        "result"
      ],
      "metadata": {
        "colab": {
          "base_uri": "https://localhost:8080/"
        },
        "id": "FWMJ8pXWMOlm",
        "outputId": "fad25961-3709-49eb-e168-4017fedc6c61"
      },
      "execution_count": 26,
      "outputs": [
        {
          "output_type": "execute_result",
          "data": {
            "text/plain": [
              "array([[198.66268304]])"
            ]
          },
          "metadata": {},
          "execution_count": 26
        }
      ]
    },
    {
      "cell_type": "code",
      "source": [
        "reg.predict(x)"
      ],
      "metadata": {
        "colab": {
          "base_uri": "https://localhost:8080/"
        },
        "id": "7FeNIZUBMaDd",
        "outputId": "1f2bbd32-298f-4422-cd9b-c406db14c32d"
      },
      "execution_count": 27,
      "outputs": [
        {
          "output_type": "execute_result",
          "data": {
            "text/plain": [
              "array([[215.62645706],\n",
              "       [185.44629614],\n",
              "       [217.19405276],\n",
              "       ...,\n",
              "       [216.01692618],\n",
              "       [177.18859679],\n",
              "       [209.02422774]])"
            ]
          },
          "metadata": {},
          "execution_count": 27
        }
      ]
    },
    {
      "cell_type": "code",
      "source": [
        "df['Predict_Weight'] = reg.predict(x)"
      ],
      "metadata": {
        "id": "GMeat4xTMjgN"
      },
      "execution_count": 28,
      "outputs": []
    },
    {
      "cell_type": "code",
      "source": [
        "df.head()"
      ],
      "metadata": {
        "colab": {
          "base_uri": "https://localhost:8080/",
          "height": 282
        },
        "id": "bxoxTnZ1MrbG",
        "outputId": "74361ec8-2300-409f-9628-8af9f1d6bfc3"
      },
      "execution_count": 29,
      "outputs": [
        {
          "output_type": "execute_result",
          "data": {
            "text/plain": [
              "      Height      Weight  Predict_Weight\n",
              "0  73.847017  241.893563      215.626457\n",
              "1  68.781904  162.310473      185.446296\n",
              "2  74.110105  212.740856      217.194053\n",
              "3  71.730978  220.042470      203.018172\n",
              "4  69.881796  206.349801      191.999933"
            ],
            "text/html": [
              "\n",
              "  <div id=\"df-8c505a7c-de0b-4a90-b1d7-226858e2d240\">\n",
              "    <div class=\"colab-df-container\">\n",
              "      <style>.itables table td {\n",
              "    text-overflow: ellipsis;\n",
              "    overflow: hidden;\n",
              "}\n",
              "\n",
              ".itables table th {\n",
              "    text-overflow: ellipsis;\n",
              "    overflow: hidden;\n",
              "}\n",
              "\n",
              ".itables thead input {\n",
              "    width: 100%;\n",
              "    padding: 3px;\n",
              "    box-sizing: border-box;\n",
              "}\n",
              "\n",
              ".itables tfoot input {\n",
              "    width: 100%;\n",
              "    padding: 3px;\n",
              "    box-sizing: border-box;\n",
              "}\n",
              "</style>\n",
              "<div class=\"itables\">\n",
              "<table id=\"09e784e8-0cf3-4eae-afa8-9a5513878814\" class=\"display nowrap\"style=\"table-layout:auto;width:auto;margin:auto;caption-side:bottom\"><thead>\n",
              "    <tr style=\"text-align: right;\">\n",
              "      \n",
              "      <th>Height</th>\n",
              "      <th>Weight</th>\n",
              "      <th>Predict_Weight</th>\n",
              "    </tr>\n",
              "  </thead><tbody><tr><td>Loading... (need <a href=https://mwouts.github.io/itables/troubleshooting.html>help</a>?)</td></tr></tbody></table>\n",
              "<link rel=\"stylesheet\" type=\"text/css\" href=\"https://cdn.datatables.net/1.13.1/css/jquery.dataTables.min.css\">\n",
              "<script type=\"module\">\n",
              "    // Import jquery and DataTable\n",
              "    import 'https://code.jquery.com/jquery-3.6.0.min.js';\n",
              "    import dt from 'https://cdn.datatables.net/1.12.1/js/jquery.dataTables.mjs';\n",
              "    dt($);\n",
              "\n",
              "    // Define the table data\n",
              "    const data = [[73.847017, 241.893563, 215.626457], [68.781904, 162.310473, 185.446296], [74.110105, 212.740856, 217.194053], [71.730978, 220.04247, 203.018172], [69.881796, 206.349801, 191.999933]];\n",
              "\n",
              "    // Define the dt_args\n",
              "    let dt_args = {\"order\": [], \"paging\": false};\n",
              "    dt_args[\"data\"] = data;\n",
              "\n",
              "    $(document).ready(function () {\n",
              "        \n",
              "        $('#09e784e8-0cf3-4eae-afa8-9a5513878814').DataTable(dt_args);\n",
              "    });\n",
              "</script>\n",
              "</div>\n",
              "\n",
              "      <button class=\"colab-df-convert\" onclick=\"convertToInteractive('df-8c505a7c-de0b-4a90-b1d7-226858e2d240')\"\n",
              "              title=\"Convert this dataframe to an interactive table.\"\n",
              "              style=\"display:none;\">\n",
              "        \n",
              "  <svg xmlns=\"http://www.w3.org/2000/svg\" height=\"24px\"viewBox=\"0 0 24 24\"\n",
              "       width=\"24px\">\n",
              "    <path d=\"M0 0h24v24H0V0z\" fill=\"none\"/>\n",
              "    <path d=\"M18.56 5.44l.94 2.06.94-2.06 2.06-.94-2.06-.94-.94-2.06-.94 2.06-2.06.94zm-11 1L8.5 8.5l.94-2.06 2.06-.94-2.06-.94L8.5 2.5l-.94 2.06-2.06.94zm10 10l.94 2.06.94-2.06 2.06-.94-2.06-.94-.94-2.06-.94 2.06-2.06.94z\"/><path d=\"M17.41 7.96l-1.37-1.37c-.4-.4-.92-.59-1.43-.59-.52 0-1.04.2-1.43.59L10.3 9.45l-7.72 7.72c-.78.78-.78 2.05 0 2.83L4 21.41c.39.39.9.59 1.41.59.51 0 1.02-.2 1.41-.59l7.78-7.78 2.81-2.81c.8-.78.8-2.07 0-2.86zM5.41 20L4 18.59l7.72-7.72 1.47 1.35L5.41 20z\"/>\n",
              "  </svg>\n",
              "      </button>\n",
              "      \n",
              "  <style>\n",
              "    .colab-df-container {\n",
              "      display:flex;\n",
              "      flex-wrap:wrap;\n",
              "      gap: 12px;\n",
              "    }\n",
              "\n",
              "    .colab-df-convert {\n",
              "      background-color: #E8F0FE;\n",
              "      border: none;\n",
              "      border-radius: 50%;\n",
              "      cursor: pointer;\n",
              "      display: none;\n",
              "      fill: #1967D2;\n",
              "      height: 32px;\n",
              "      padding: 0 0 0 0;\n",
              "      width: 32px;\n",
              "    }\n",
              "\n",
              "    .colab-df-convert:hover {\n",
              "      background-color: #E2EBFA;\n",
              "      box-shadow: 0px 1px 2px rgba(60, 64, 67, 0.3), 0px 1px 3px 1px rgba(60, 64, 67, 0.15);\n",
              "      fill: #174EA6;\n",
              "    }\n",
              "\n",
              "    [theme=dark] .colab-df-convert {\n",
              "      background-color: #3B4455;\n",
              "      fill: #D2E3FC;\n",
              "    }\n",
              "\n",
              "    [theme=dark] .colab-df-convert:hover {\n",
              "      background-color: #434B5C;\n",
              "      box-shadow: 0px 1px 3px 1px rgba(0, 0, 0, 0.15);\n",
              "      filter: drop-shadow(0px 1px 2px rgba(0, 0, 0, 0.3));\n",
              "      fill: #FFFFFF;\n",
              "    }\n",
              "  </style>\n",
              "\n",
              "      <script>\n",
              "        const buttonEl =\n",
              "          document.querySelector('#df-8c505a7c-de0b-4a90-b1d7-226858e2d240 button.colab-df-convert');\n",
              "        buttonEl.style.display =\n",
              "          google.colab.kernel.accessAllowed ? 'block' : 'none';\n",
              "\n",
              "        async function convertToInteractive(key) {\n",
              "          const element = document.querySelector('#df-8c505a7c-de0b-4a90-b1d7-226858e2d240');\n",
              "          const dataTable =\n",
              "            await google.colab.kernel.invokeFunction('convertToInteractive',\n",
              "                                                     [key], {});\n",
              "          if (!dataTable) return;\n",
              "\n",
              "          const docLinkHtml = 'Like what you see? Visit the ' +\n",
              "            '<a target=\"_blank\" href=https://colab.research.google.com/notebooks/data_table.ipynb>data table notebook</a>'\n",
              "            + ' to learn more about interactive tables.';\n",
              "          element.innerHTML = '';\n",
              "          dataTable['output_type'] = 'display_data';\n",
              "          await google.colab.output.renderOutput(dataTable, element);\n",
              "          const docLink = document.createElement('div');\n",
              "          docLink.innerHTML = docLinkHtml;\n",
              "          element.appendChild(docLink);\n",
              "        }\n",
              "      </script>\n",
              "    </div>\n",
              "  </div>\n",
              "  "
            ]
          },
          "metadata": {},
          "execution_count": 29
        }
      ]
    },
    {
      "cell_type": "code",
      "source": [
        "df.head()"
      ],
      "metadata": {
        "colab": {
          "base_uri": "https://localhost:8080/",
          "height": 282
        },
        "id": "K9F6_lFfNabl",
        "outputId": "d37bb396-6902-4a77-e1c8-f50647b46df5"
      },
      "execution_count": 30,
      "outputs": [
        {
          "output_type": "execute_result",
          "data": {
            "text/plain": [
              "      Height      Weight  Predict_Weight\n",
              "0  73.847017  241.893563      215.626457\n",
              "1  68.781904  162.310473      185.446296\n",
              "2  74.110105  212.740856      217.194053\n",
              "3  71.730978  220.042470      203.018172\n",
              "4  69.881796  206.349801      191.999933"
            ],
            "text/html": [
              "\n",
              "  <div id=\"df-5d26c187-7d40-4c02-bf4c-4d0ed2ef9279\">\n",
              "    <div class=\"colab-df-container\">\n",
              "      <style>.itables table td {\n",
              "    text-overflow: ellipsis;\n",
              "    overflow: hidden;\n",
              "}\n",
              "\n",
              ".itables table th {\n",
              "    text-overflow: ellipsis;\n",
              "    overflow: hidden;\n",
              "}\n",
              "\n",
              ".itables thead input {\n",
              "    width: 100%;\n",
              "    padding: 3px;\n",
              "    box-sizing: border-box;\n",
              "}\n",
              "\n",
              ".itables tfoot input {\n",
              "    width: 100%;\n",
              "    padding: 3px;\n",
              "    box-sizing: border-box;\n",
              "}\n",
              "</style>\n",
              "<div class=\"itables\">\n",
              "<table id=\"d000d9e0-be6a-4388-965c-9b603ff4ce0b\" class=\"display nowrap\"style=\"table-layout:auto;width:auto;margin:auto;caption-side:bottom\"><thead>\n",
              "    <tr style=\"text-align: right;\">\n",
              "      \n",
              "      <th>Height</th>\n",
              "      <th>Weight</th>\n",
              "      <th>Predict_Weight</th>\n",
              "    </tr>\n",
              "  </thead><tbody><tr><td>Loading... (need <a href=https://mwouts.github.io/itables/troubleshooting.html>help</a>?)</td></tr></tbody></table>\n",
              "<link rel=\"stylesheet\" type=\"text/css\" href=\"https://cdn.datatables.net/1.13.1/css/jquery.dataTables.min.css\">\n",
              "<script type=\"module\">\n",
              "    // Import jquery and DataTable\n",
              "    import 'https://code.jquery.com/jquery-3.6.0.min.js';\n",
              "    import dt from 'https://cdn.datatables.net/1.12.1/js/jquery.dataTables.mjs';\n",
              "    dt($);\n",
              "\n",
              "    // Define the table data\n",
              "    const data = [[73.847017, 241.893563, 215.626457], [68.781904, 162.310473, 185.446296], [74.110105, 212.740856, 217.194053], [71.730978, 220.04247, 203.018172], [69.881796, 206.349801, 191.999933]];\n",
              "\n",
              "    // Define the dt_args\n",
              "    let dt_args = {\"order\": [], \"paging\": false};\n",
              "    dt_args[\"data\"] = data;\n",
              "\n",
              "    $(document).ready(function () {\n",
              "        \n",
              "        $('#d000d9e0-be6a-4388-965c-9b603ff4ce0b').DataTable(dt_args);\n",
              "    });\n",
              "</script>\n",
              "</div>\n",
              "\n",
              "      <button class=\"colab-df-convert\" onclick=\"convertToInteractive('df-5d26c187-7d40-4c02-bf4c-4d0ed2ef9279')\"\n",
              "              title=\"Convert this dataframe to an interactive table.\"\n",
              "              style=\"display:none;\">\n",
              "        \n",
              "  <svg xmlns=\"http://www.w3.org/2000/svg\" height=\"24px\"viewBox=\"0 0 24 24\"\n",
              "       width=\"24px\">\n",
              "    <path d=\"M0 0h24v24H0V0z\" fill=\"none\"/>\n",
              "    <path d=\"M18.56 5.44l.94 2.06.94-2.06 2.06-.94-2.06-.94-.94-2.06-.94 2.06-2.06.94zm-11 1L8.5 8.5l.94-2.06 2.06-.94-2.06-.94L8.5 2.5l-.94 2.06-2.06.94zm10 10l.94 2.06.94-2.06 2.06-.94-2.06-.94-.94-2.06-.94 2.06-2.06.94z\"/><path d=\"M17.41 7.96l-1.37-1.37c-.4-.4-.92-.59-1.43-.59-.52 0-1.04.2-1.43.59L10.3 9.45l-7.72 7.72c-.78.78-.78 2.05 0 2.83L4 21.41c.39.39.9.59 1.41.59.51 0 1.02-.2 1.41-.59l7.78-7.78 2.81-2.81c.8-.78.8-2.07 0-2.86zM5.41 20L4 18.59l7.72-7.72 1.47 1.35L5.41 20z\"/>\n",
              "  </svg>\n",
              "      </button>\n",
              "      \n",
              "  <style>\n",
              "    .colab-df-container {\n",
              "      display:flex;\n",
              "      flex-wrap:wrap;\n",
              "      gap: 12px;\n",
              "    }\n",
              "\n",
              "    .colab-df-convert {\n",
              "      background-color: #E8F0FE;\n",
              "      border: none;\n",
              "      border-radius: 50%;\n",
              "      cursor: pointer;\n",
              "      display: none;\n",
              "      fill: #1967D2;\n",
              "      height: 32px;\n",
              "      padding: 0 0 0 0;\n",
              "      width: 32px;\n",
              "    }\n",
              "\n",
              "    .colab-df-convert:hover {\n",
              "      background-color: #E2EBFA;\n",
              "      box-shadow: 0px 1px 2px rgba(60, 64, 67, 0.3), 0px 1px 3px 1px rgba(60, 64, 67, 0.15);\n",
              "      fill: #174EA6;\n",
              "    }\n",
              "\n",
              "    [theme=dark] .colab-df-convert {\n",
              "      background-color: #3B4455;\n",
              "      fill: #D2E3FC;\n",
              "    }\n",
              "\n",
              "    [theme=dark] .colab-df-convert:hover {\n",
              "      background-color: #434B5C;\n",
              "      box-shadow: 0px 1px 3px 1px rgba(0, 0, 0, 0.15);\n",
              "      filter: drop-shadow(0px 1px 2px rgba(0, 0, 0, 0.3));\n",
              "      fill: #FFFFFF;\n",
              "    }\n",
              "  </style>\n",
              "\n",
              "      <script>\n",
              "        const buttonEl =\n",
              "          document.querySelector('#df-5d26c187-7d40-4c02-bf4c-4d0ed2ef9279 button.colab-df-convert');\n",
              "        buttonEl.style.display =\n",
              "          google.colab.kernel.accessAllowed ? 'block' : 'none';\n",
              "\n",
              "        async function convertToInteractive(key) {\n",
              "          const element = document.querySelector('#df-5d26c187-7d40-4c02-bf4c-4d0ed2ef9279');\n",
              "          const dataTable =\n",
              "            await google.colab.kernel.invokeFunction('convertToInteractive',\n",
              "                                                     [key], {});\n",
              "          if (!dataTable) return;\n",
              "\n",
              "          const docLinkHtml = 'Like what you see? Visit the ' +\n",
              "            '<a target=\"_blank\" href=https://colab.research.google.com/notebooks/data_table.ipynb>data table notebook</a>'\n",
              "            + ' to learn more about interactive tables.';\n",
              "          element.innerHTML = '';\n",
              "          dataTable['output_type'] = 'display_data';\n",
              "          await google.colab.output.renderOutput(dataTable, element);\n",
              "          const docLink = document.createElement('div');\n",
              "          docLink.innerHTML = docLinkHtml;\n",
              "          element.appendChild(docLink);\n",
              "        }\n",
              "      </script>\n",
              "    </div>\n",
              "  </div>\n",
              "  "
            ]
          },
          "metadata": {},
          "execution_count": 30
        }
      ]
    },
    {
      "cell_type": "code",
      "source": [
        "reg.predict([[70]])"
      ],
      "metadata": {
        "colab": {
          "base_uri": "https://localhost:8080/"
        },
        "id": "xCo9p5qoNb82",
        "outputId": "607bea37-1f61-42a8-aaeb-a61c257bf202"
      },
      "execution_count": 31,
      "outputs": [
        {
          "output_type": "execute_result",
          "data": {
            "text/plain": [
              "array([[192.70424518]])"
            ]
          },
          "metadata": {},
          "execution_count": 31
        }
      ]
    },
    {
      "cell_type": "code",
      "source": [
        "plt.plot(df.Height, reg.predict(x))"
      ],
      "metadata": {
        "colab": {
          "base_uri": "https://localhost:8080/",
          "height": 282
        },
        "id": "0drhBOljNlB4",
        "outputId": "338ff2e1-e747-4a4c-d50c-b47f89de2a7c"
      },
      "execution_count": 32,
      "outputs": [
        {
          "output_type": "execute_result",
          "data": {
            "text/plain": [
              "[<matplotlib.lines.Line2D at 0x7fad5098ac70>]"
            ]
          },
          "metadata": {},
          "execution_count": 32
        },
        {
          "output_type": "display_data",
          "data": {
            "text/plain": [
              "<Figure size 432x288 with 1 Axes>"
            ],
            "image/png": "[encoded data removed]"
          },
          "metadata": {
            "needs_background": "light"
          }
        }
      ]
    },
    {
      "cell_type": "code",
      "source": [
        "plt.plot(df.Height, reg.predict(df[['Height']]))\n",
        "\n",
        "plt.scatter(df.Height, df.Weight, color='orange')\n",
        "plt.xlabel('Height in Feet')\n",
        "plt.ylabel('Weight in Pound')\n",
        "plt.title('Height - Weight Plot')\n",
        "#plt.savefig('img1.png')"
      ],
      "metadata": {
        "colab": {
          "base_uri": "https://localhost:8080/",
          "height": 312
        },
        "id": "xrS8vxj6N7At",
        "outputId": "f2b41abd-24e1-4e04-b7aa-9d82bea821a7"
      },
      "execution_count": 33,
      "outputs": [
        {
          "output_type": "execute_result",
          "data": {
            "text/plain": [
              "Text(0.5, 1.0, 'Height - Weight Plot')"
            ]
          },
          "metadata": {},
          "execution_count": 33
        },
        {
          "output_type": "display_data",
          "data": {
            "text/plain": [
              "<Figure size 432x288 with 1 Axes>"
            ],
            "image/png": "[encoded data removed]"
          },
          "metadata": {
            "needs_background": "light"
          }
        }
      ]
    },
    {
      "cell_type": "code",
      "source": [
        "reg.score(x,y) # training sccuracy "
      ],
      "metadata": {
        "colab": {
          "base_uri": "https://localhost:8080/"
        },
        "id": "hs57sc2mOjrk",
        "outputId": "61c97e66-4e65-4991-bfb5-34454271171c"
      },
      "execution_count": 34,
      "outputs": [
        {
          "output_type": "execute_result",
          "data": {
            "text/plain": [
              "0.7323584758139253"
            ]
          },
          "metadata": {},
          "execution_count": 34
        }
      ]
    },
    {
      "cell_type": "code",
      "source": [
        "mean_squared_error(df[['Weight']], reg.predict(df[['Height']]))"
      ],
      "metadata": {
        "colab": {
          "base_uri": "https://localhost:8080/"
        },
        "id": "z11lOaISQeuc",
        "outputId": "f1f4c366-1e17-421c-a49e-9de643776f5e"
      },
      "execution_count": 35,
      "outputs": [
        {
          "output_type": "execute_result",
          "data": {
            "text/plain": [
              "105.99179779708444"
            ]
          },
          "metadata": {},
          "execution_count": 35
        }
      ]
    },
    {
      "cell_type": "code",
      "source": [
        "mean_squared_error(y, df.Predict_Weight)"
      ],
      "metadata": {
        "colab": {
          "base_uri": "https://localhost:8080/"
        },
        "id": "uOdVhKVVQ0Ws",
        "outputId": "61520be1-b0fc-4434-c050-b025d7af3f6e"
      },
      "execution_count": 36,
      "outputs": [
        {
          "output_type": "execute_result",
          "data": {
            "text/plain": [
              "105.99179779708444"
            ]
          },
          "metadata": {},
          "execution_count": 36
        }
      ]
    },
    {
      "cell_type": "code",
      "source": [
        "mean_absolute_error(y, df.Predict_Weight) "
      ],
      "metadata": {
        "id": "WyiVefd7-RJ9",
        "outputId": "a3f5a9a8-f327-422e-fcf1-9661717f19cb",
        "colab": {
          "base_uri": "https://localhost:8080/"
        }
      },
      "execution_count": 38,
      "outputs": [
        {
          "output_type": "execute_result",
          "data": {
            "text/plain": [
              "8.070234283451889"
            ]
          },
          "metadata": {},
          "execution_count": 38
        }
      ]
    },
    {
      "cell_type": "code",
      "source": [
        "df.head()"
      ],
      "metadata": {
        "colab": {
          "base_uri": "https://localhost:8080/",
          "height": 282
        },
        "id": "JdPaGWgNRCbz",
        "outputId": "8184de2e-6c76-4397-9b52-b496b25b114d"
      },
      "execution_count": 39,
      "outputs": [
        {
          "output_type": "execute_result",
          "data": {
            "text/plain": [
              "      Height      Weight  Predict_Weight\n",
              "0  73.847017  241.893563      215.626457\n",
              "1  68.781904  162.310473      185.446296\n",
              "2  74.110105  212.740856      217.194053\n",
              "3  71.730978  220.042470      203.018172\n",
              "4  69.881796  206.349801      191.999933"
            ],
            "text/html": [
              "\n",
              "  <div id=\"df-267595b9-3155-4dc5-ab4f-2452cd921270\">\n",
              "    <div class=\"colab-df-container\">\n",
              "      <style>.itables table td {\n",
              "    text-overflow: ellipsis;\n",
              "    overflow: hidden;\n",
              "}\n",
              "\n",
              ".itables table th {\n",
              "    text-overflow: ellipsis;\n",
              "    overflow: hidden;\n",
              "}\n",
              "\n",
              ".itables thead input {\n",
              "    width: 100%;\n",
              "    padding: 3px;\n",
              "    box-sizing: border-box;\n",
              "}\n",
              "\n",
              ".itables tfoot input {\n",
              "    width: 100%;\n",
              "    padding: 3px;\n",
              "    box-sizing: border-box;\n",
              "}\n",
              "</style>\n",
              "<div class=\"itables\">\n",
              "<table id=\"959d9a1d-4f6c-4494-892d-03a90cea1d5d\" class=\"display nowrap\"style=\"table-layout:auto;width:auto;margin:auto;caption-side:bottom\"><thead>\n",
              "    <tr style=\"text-align: right;\">\n",
              "      \n",
              "      <th>Height</th>\n",
              "      <th>Weight</th>\n",
              "      <th>Predict_Weight</th>\n",
              "    </tr>\n",
              "  </thead><tbody><tr><td>Loading... (need <a href=https://mwouts.github.io/itables/troubleshooting.html>help</a>?)</td></tr></tbody></table>\n",
              "<link rel=\"stylesheet\" type=\"text/css\" href=\"https://cdn.datatables.net/1.13.1/css/jquery.dataTables.min.css\">\n",
              "<script type=\"module\">\n",
              "    // Import jquery and DataTable\n",
              "    import 'https://code.jquery.com/jquery-3.6.0.min.js';\n",
              "    import dt from 'https://cdn.datatables.net/1.12.1/js/jquery.dataTables.mjs';\n",
              "    dt($);\n",
              "\n",
              "    // Define the table data\n",
              "    const data = [[73.847017, 241.893563, 215.626457], [68.781904, 162.310473, 185.446296], [74.110105, 212.740856, 217.194053], [71.730978, 220.04247, 203.018172], [69.881796, 206.349801, 191.999933]];\n",
              "\n",
              "    // Define the dt_args\n",
              "    let dt_args = {\"order\": [], \"paging\": false};\n",
              "    dt_args[\"data\"] = data;\n",
              "\n",
              "    $(document).ready(function () {\n",
              "        \n",
              "        $('#959d9a1d-4f6c-4494-892d-03a90cea1d5d').DataTable(dt_args);\n",
              "    });\n",
              "</script>\n",
              "</div>\n",
              "\n",
              "      <button class=\"colab-df-convert\" onclick=\"convertToInteractive('df-267595b9-3155-4dc5-ab4f-2452cd921270')\"\n",
              "              title=\"Convert this dataframe to an interactive table.\"\n",
              "              style=\"display:none;\">\n",
              "        \n",
              "  <svg xmlns=\"http://www.w3.org/2000/svg\" height=\"24px\"viewBox=\"0 0 24 24\"\n",
              "       width=\"24px\">\n",
              "    <path d=\"M0 0h24v24H0V0z\" fill=\"none\"/>\n",
              "    <path d=\"M18.56 5.44l.94 2.06.94-2.06 2.06-.94-2.06-.94-.94-2.06-.94 2.06-2.06.94zm-11 1L8.5 8.5l.94-2.06 2.06-.94-2.06-.94L8.5 2.5l-.94 2.06-2.06.94zm10 10l.94 2.06.94-2.06 2.06-.94-2.06-.94-.94-2.06-.94 2.06-2.06.94z\"/><path d=\"M17.41 7.96l-1.37-1.37c-.4-.4-.92-.59-1.43-.59-.52 0-1.04.2-1.43.59L10.3 9.45l-7.72 7.72c-.78.78-.78 2.05 0 2.83L4 21.41c.39.39.9.59 1.41.59.51 0 1.02-.2 1.41-.59l7.78-7.78 2.81-2.81c.8-.78.8-2.07 0-2.86zM5.41 20L4 18.59l7.72-7.72 1.47 1.35L5.41 20z\"/>\n",
              "  </svg>\n",
              "      </button>\n",
              "      \n",
              "  <style>\n",
              "    .colab-df-container {\n",
              "      display:flex;\n",
              "      flex-wrap:wrap;\n",
              "      gap: 12px;\n",
              "    }\n",
              "\n",
              "    .colab-df-convert {\n",
              "      background-color: #E8F0FE;\n",
              "      border: none;\n",
              "      border-radius: 50%;\n",
              "      cursor: pointer;\n",
              "      display: none;\n",
              "      fill: #1967D2;\n",
              "      height: 32px;\n",
              "      padding: 0 0 0 0;\n",
              "      width: 32px;\n",
              "    }\n",
              "\n",
              "    .colab-df-convert:hover {\n",
              "      background-color: #E2EBFA;\n",
              "      box-shadow: 0px 1px 2px rgba(60, 64, 67, 0.3), 0px 1px 3px 1px rgba(60, 64, 67, 0.15);\n",
              "      fill: #174EA6;\n",
              "    }\n",
              "\n",
              "    [theme=dark] .colab-df-convert {\n",
              "      background-color: #3B4455;\n",
              "      fill: #D2E3FC;\n",
              "    }\n",
              "\n",
              "    [theme=dark] .colab-df-convert:hover {\n",
              "      background-color: #434B5C;\n",
              "      box-shadow: 0px 1px 3px 1px rgba(0, 0, 0, 0.15);\n",
              "      filter: drop-shadow(0px 1px 2px rgba(0, 0, 0, 0.3));\n",
              "      fill: #FFFFFF;\n",
              "    }\n",
              "  </style>\n",
              "\n",
              "      <script>\n",
              "        const buttonEl =\n",
              "          document.querySelector('#df-267595b9-3155-4dc5-ab4f-2452cd921270 button.colab-df-convert');\n",
              "        buttonEl.style.display =\n",
              "          google.colab.kernel.accessAllowed ? 'block' : 'none';\n",
              "\n",
              "        async function convertToInteractive(key) {\n",
              "          const element = document.querySelector('#df-267595b9-3155-4dc5-ab4f-2452cd921270');\n",
              "          const dataTable =\n",
              "            await google.colab.kernel.invokeFunction('convertToInteractive',\n",
              "                                                     [key], {});\n",
              "          if (!dataTable) return;\n",
              "\n",
              "          const docLinkHtml = 'Like what you see? Visit the ' +\n",
              "            '<a target=\"_blank\" href=https://colab.research.google.com/notebooks/data_table.ipynb>data table notebook</a>'\n",
              "            + ' to learn more about interactive tables.';\n",
              "          element.innerHTML = '';\n",
              "          dataTable['output_type'] = 'display_data';\n",
              "          await google.colab.output.renderOutput(dataTable, element);\n",
              "          const docLink = document.createElement('div');\n",
              "          docLink.innerHTML = docLinkHtml;\n",
              "          element.appendChild(docLink);\n",
              "        }\n",
              "      </script>\n",
              "    </div>\n",
              "  </div>\n",
              "  "
            ]
          },
          "metadata": {},
          "execution_count": 39
        }
      ]
    },
    {
      "cell_type": "code",
      "source": [
        "reg.predict([[75]])"
      ],
      "metadata": {
        "colab": {
          "base_uri": "https://localhost:8080/"
        },
        "id": "9qJt0vRgRoyk",
        "outputId": "fa848ee6-6443-4ca4-85f9-053804d71b78"
      },
      "execution_count": 40,
      "outputs": [
        {
          "output_type": "execute_result",
          "data": {
            "text/plain": [
              "array([[222.4964345]])"
            ]
          },
          "metadata": {},
          "execution_count": 40
        }
      ]
    },
    {
      "cell_type": "code",
      "source": [],
      "metadata": {
        "id": "1PFGoBEHR8Iz"
      },
      "execution_count": 40,
      "outputs": []
    }
  ]
}