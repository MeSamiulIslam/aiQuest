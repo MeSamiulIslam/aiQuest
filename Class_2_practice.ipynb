{
  "nbformat": 4,
  "nbformat_minor": 0,
  "metadata": {
    "colab": {
      "provenance": [],
      "authorship_tag": "ABX9TyPM0cmjVkLQ8dy1BBg1fnRt",
      "include_colab_link": true
    },
    "kernelspec": {
      "name": "python3",
      "display_name": "Python 3"
    },
    "language_info": {
      "name": "python"
    }
  },
  "cells": [
    {
      "cell_type": "markdown",
      "metadata": {
        "id": "view-in-github",
        "colab_type": "text"
      },
      "source": [
        "<a href=\"https://colab.research.google.com/github/MeSamiulIslam/aiQuest/blob/main/Class_2_practice.ipynb\" target=\"_parent\"><img src=\"https://colab.research.google.com/assets/colab-badge.svg\" alt=\"Open In Colab\"/></a>"
      ]
    },
    {
      "cell_type": "markdown",
      "source": [
        "#Print Function"
      ],
      "metadata": {
        "id": "9UbGMMf7pVUH"
      }
    },
    {
      "cell_type": "code",
      "execution_count": 1,
      "metadata": {
        "colab": {
          "base_uri": "https://localhost:8080/"
        },
        "id": "Xoqp98rLnkyg",
        "outputId": "3bb81e0b-49c9-4207-97f5-964e425ce426"
      },
      "outputs": [
        {
          "output_type": "stream",
          "name": "stdout",
          "text": [
            "Hellow world, welcome to Data Science World\n"
          ]
        }
      ],
      "source": [
        "print('Hellow world, welcome to Data Science World')"
      ]
    },
    {
      "cell_type": "code",
      "source": [
        "var1 = 'Hello world'\n",
        "print(var1)"
      ],
      "metadata": {
        "colab": {
          "base_uri": "https://localhost:8080/"
        },
        "id": "DpVJ1A8woDT2",
        "outputId": "67435f7a-0611-4196-df38-8ba168243964"
      },
      "execution_count": 2,
      "outputs": [
        {
          "output_type": "stream",
          "name": "stdout",
          "text": [
            "Hello world\n"
          ]
        }
      ]
    },
    {
      "cell_type": "code",
      "source": [
        "var1 = 'Hello world'\n",
        "print(var1)\n",
        "print(var1+ ',''welcome to Data Science World')"
      ],
      "metadata": {
        "colab": {
          "base_uri": "https://localhost:8080/"
        },
        "id": "IFlTKK8UoSwP",
        "outputId": "a96163f6-7cbd-4f59-a2c3-5ba32d9fd134"
      },
      "execution_count": 3,
      "outputs": [
        {
          "output_type": "stream",
          "name": "stdout",
          "text": [
            "Hello world\n",
            "Hello world,welcome to Data Science World\n"
          ]
        }
      ]
    },
    {
      "cell_type": "code",
      "source": [
        "id(var1) #check location"
      ],
      "metadata": {
        "colab": {
          "base_uri": "https://localhost:8080/"
        },
        "id": "SFK2lrpboopN",
        "outputId": "5841003b-6f0a-44e6-b196-5297a4f3076a"
      },
      "execution_count": 4,
      "outputs": [
        {
          "output_type": "execute_result",
          "data": {
            "text/plain": [
              "140205020475184"
            ]
          },
          "metadata": {},
          "execution_count": 4
        }
      ]
    },
    {
      "cell_type": "code",
      "source": [
        "type(var1) #variable type"
      ],
      "metadata": {
        "colab": {
          "base_uri": "https://localhost:8080/"
        },
        "id": "crNYey9Zo90F",
        "outputId": "44c78394-1dc8-4e79-ee90-6be6e301f8cd"
      },
      "execution_count": 5,
      "outputs": [
        {
          "output_type": "execute_result",
          "data": {
            "text/plain": [
              "str"
            ]
          },
          "metadata": {},
          "execution_count": 5
        }
      ]
    },
    {
      "cell_type": "code",
      "source": [
        "import sys\n",
        "sys.getsizeof(var1) #check howw much memory use"
      ],
      "metadata": {
        "colab": {
          "base_uri": "https://localhost:8080/"
        },
        "id": "JKpupMTFpALs",
        "outputId": "0bdaab9b-da7c-447a-d929-83cefd2cd583"
      },
      "execution_count": 6,
      "outputs": [
        {
          "output_type": "execute_result",
          "data": {
            "text/plain": [
              "60"
            ]
          },
          "metadata": {},
          "execution_count": 6
        }
      ]
    },
    {
      "cell_type": "markdown",
      "source": [
        "variables"
      ],
      "metadata": {
        "id": "BQuRQpQjqWuA"
      }
    },
    {
      "cell_type": "code",
      "source": [
        "num = 100\n",
        "str = \"Python course\"\n",
        "print(num)\n",
        "print(str)"
      ],
      "metadata": {
        "colab": {
          "base_uri": "https://localhost:8080/"
        },
        "id": "g7SofycCpR3M",
        "outputId": "bf63e9e7-efd4-4b7b-d0a8-94bd14d932ba"
      },
      "execution_count": 7,
      "outputs": [
        {
          "output_type": "stream",
          "name": "stdout",
          "text": [
            "100\n",
            "Python course\n"
          ]
        }
      ]
    },
    {
      "cell_type": "code",
      "source": [
        "x = y = z = 99 #multiple assignment\n",
        "print(x)\n",
        "print(y)\n",
        "print(z+x)"
      ],
      "metadata": {
        "colab": {
          "base_uri": "https://localhost:8080/"
        },
        "id": "lCsMon41qecq",
        "outputId": "15a7231d-c54f-473c-cebb-accca90162d5"
      },
      "execution_count": 8,
      "outputs": [
        {
          "output_type": "stream",
          "name": "stdout",
          "text": [
            "99\n",
            "99\n",
            "198\n"
          ]
        }
      ]
    },
    {
      "cell_type": "code",
      "source": [
        "a, b, c = 5, 6, 7\n",
        "print(a)\n",
        "print(b)\n",
        "print(c)"
      ],
      "metadata": {
        "colab": {
          "base_uri": "https://localhost:8080/"
        },
        "id": "51y8pJnmqrsh",
        "outputId": "6d055f51-4bfd-4184-b527-7afb011bda80"
      },
      "execution_count": 9,
      "outputs": [
        {
          "output_type": "stream",
          "name": "stdout",
          "text": [
            "5\n",
            "6\n",
            "7\n"
          ]
        }
      ]
    },
    {
      "cell_type": "code",
      "source": [
        "p = \"Hello\"\n",
        "q = \"World\"\n",
        "print(p + \" \" + q) #concatenation operation"
      ],
      "metadata": {
        "colab": {
          "base_uri": "https://localhost:8080/"
        },
        "id": "P6_-0iinqzkM",
        "outputId": "313503d3-87b9-42b1-d232-a8188648ce08"
      },
      "execution_count": 10,
      "outputs": [
        {
          "output_type": "stream",
          "name": "stdout",
          "text": [
            "Hello World\n"
          ]
        }
      ]
    },
    {
      "cell_type": "markdown",
      "source": [
        "#Input Function"
      ],
      "metadata": {
        "id": "u1Z-48gjsRTB"
      }
    },
    {
      "cell_type": "code",
      "source": [
        "data = input()"
      ],
      "metadata": {
        "colab": {
          "base_uri": "https://localhost:8080/"
        },
        "id": "otAFFA66reb8",
        "outputId": "de5a9968-fbbd-4148-bf59-aea544ef52d1"
      },
      "execution_count": 11,
      "outputs": [
        {
          "name": "stdout",
          "output_type": "stream",
          "text": [
            "samiul\n"
          ]
        }
      ]
    },
    {
      "cell_type": "code",
      "source": [
        "data"
      ],
      "metadata": {
        "colab": {
          "base_uri": "https://localhost:8080/",
          "height": 35
        },
        "id": "wqYSaFiHsaNc",
        "outputId": "390c7055-9d93-48c0-f280-7fad4e0950d9"
      },
      "execution_count": 12,
      "outputs": [
        {
          "output_type": "execute_result",
          "data": {
            "text/plain": [
              "'samiul'"
            ],
            "application/vnd.google.colaboratory.intrinsic+json": {
              "type": "string"
            }
          },
          "metadata": {},
          "execution_count": 12
        }
      ]
    },
    {
      "cell_type": "code",
      "source": [
        "type(data)"
      ],
      "metadata": {
        "colab": {
          "base_uri": "https://localhost:8080/"
        },
        "id": "h5nXlTefsoIM",
        "outputId": "299b74e0-7382-4951-c9e4-52b88dd1d3ed"
      },
      "execution_count": 13,
      "outputs": [
        {
          "output_type": "execute_result",
          "data": {
            "text/plain": [
              "str"
            ]
          },
          "metadata": {},
          "execution_count": 13
        }
      ]
    },
    {
      "cell_type": "code",
      "source": [
        "num1 = input()\n",
        "num2 = input()\n",
        "sum = num1 + num2\n",
        "print(sum)"
      ],
      "metadata": {
        "colab": {
          "base_uri": "https://localhost:8080/"
        },
        "id": "dxYioIqesqfl",
        "outputId": "e6571bf5-96be-46c9-c5db-3253f705cc15"
      },
      "execution_count": 14,
      "outputs": [
        {
          "output_type": "stream",
          "name": "stdout",
          "text": [
            "10\n",
            "20\n",
            "1020\n"
          ]
        }
      ]
    },
    {
      "cell_type": "code",
      "source": [
        "type(sum)"
      ],
      "metadata": {
        "colab": {
          "base_uri": "https://localhost:8080/"
        },
        "id": "rQaRmaRas64c",
        "outputId": "f6edd348-a921-434d-fac2-ac81c342e903"
      },
      "execution_count": 15,
      "outputs": [
        {
          "output_type": "execute_result",
          "data": {
            "text/plain": [
              "str"
            ]
          },
          "metadata": {},
          "execution_count": 15
        }
      ]
    },
    {
      "cell_type": "markdown",
      "source": [
        "#Type casting start"
      ],
      "metadata": {
        "id": "H47VLI6VuzS_"
      }
    },
    {
      "cell_type": "code",
      "source": [
        "num3 = int(input()) #string to integer\n",
        "num4 = int(input())\n",
        "sum = num3 + num4\n",
        "print(sum)"
      ],
      "metadata": {
        "colab": {
          "base_uri": "https://localhost:8080/"
        },
        "id": "s-I6OcU6tHhf",
        "outputId": "23141fd0-dddc-41f8-aad3-dc99fbe89292"
      },
      "execution_count": 16,
      "outputs": [
        {
          "output_type": "stream",
          "name": "stdout",
          "text": [
            "15\n",
            "13\n",
            "28\n"
          ]
        }
      ]
    },
    {
      "cell_type": "code",
      "source": [
        "type(sum)"
      ],
      "metadata": {
        "colab": {
          "base_uri": "https://localhost:8080/"
        },
        "id": "r44VtFeCttzl",
        "outputId": "e237fcf9-8697-40cb-d3d0-ce82ecb66f0d"
      },
      "execution_count": 17,
      "outputs": [
        {
          "output_type": "execute_result",
          "data": {
            "text/plain": [
              "int"
            ]
          },
          "metadata": {},
          "execution_count": 17
        }
      ]
    },
    {
      "cell_type": "code",
      "source": [
        "num5 = float(input()) #string to float\n",
        "num6 = float(input())\n",
        "sum = num5 + num6\n",
        "print(sum)"
      ],
      "metadata": {
        "colab": {
          "base_uri": "https://localhost:8080/"
        },
        "id": "EqPdjdBDuBQ8",
        "outputId": "23a0a935-cd92-4932-bbb5-f030fa38fffa"
      },
      "execution_count": 18,
      "outputs": [
        {
          "output_type": "stream",
          "name": "stdout",
          "text": [
            "12.6\n",
            "15.9\n",
            "28.5\n"
          ]
        }
      ]
    },
    {
      "cell_type": "code",
      "source": [
        "type(sum)"
      ],
      "metadata": {
        "colab": {
          "base_uri": "https://localhost:8080/"
        },
        "id": "4c23kE1huOl8",
        "outputId": "a3f70312-f449-40ec-e8ba-ac5152b9b2c1"
      },
      "execution_count": 19,
      "outputs": [
        {
          "output_type": "execute_result",
          "data": {
            "text/plain": [
              "float"
            ]
          },
          "metadata": {},
          "execution_count": 19
        }
      ]
    },
    {
      "cell_type": "markdown",
      "source": [
        "#type casting end"
      ],
      "metadata": {
        "id": "oyBGA3QPu32A"
      }
    },
    {
      "cell_type": "code",
      "source": [
        "data=('Hellow world, welcome to Data Science world')\n",
        "len(data)"
      ],
      "metadata": {
        "colab": {
          "base_uri": "https://localhost:8080/"
        },
        "id": "jeNElldauWok",
        "outputId": "6674f93c-a648-4ba8-f0f4-e70422cecfcc"
      },
      "execution_count": 20,
      "outputs": [
        {
          "output_type": "execute_result",
          "data": {
            "text/plain": [
              "43"
            ]
          },
          "metadata": {},
          "execution_count": 20
        }
      ]
    },
    {
      "cell_type": "code",
      "source": [
        "sub= 'world'\n",
        "data.count(sub) #check sub string"
      ],
      "metadata": {
        "colab": {
          "base_uri": "https://localhost:8080/"
        },
        "id": "2SotrenkvKWt",
        "outputId": "4cb2d398-e540-4bd3-869b-33ec52a7ca56"
      },
      "execution_count": 21,
      "outputs": [
        {
          "output_type": "execute_result",
          "data": {
            "text/plain": [
              "2"
            ]
          },
          "metadata": {},
          "execution_count": 21
        }
      ]
    },
    {
      "cell_type": "markdown",
      "source": [
        "#String Method"
      ],
      "metadata": {
        "id": "A3Ic4474wHfD"
      }
    },
    {
      "cell_type": "code",
      "source": [
        "data.find('Science') #check index number"
      ],
      "metadata": {
        "colab": {
          "base_uri": "https://localhost:8080/"
        },
        "id": "c79D3ONkv8Q0",
        "outputId": "3a857bef-35d8-4d4f-ff2a-f78d0cd15408"
      },
      "execution_count": 22,
      "outputs": [
        {
          "output_type": "execute_result",
          "data": {
            "text/plain": [
              "30"
            ]
          },
          "metadata": {},
          "execution_count": 22
        }
      ]
    },
    {
      "cell_type": "code",
      "source": [
        "data.find('of') #find through -1"
      ],
      "metadata": {
        "colab": {
          "base_uri": "https://localhost:8080/"
        },
        "id": "H-jfQ1PIwTJU",
        "outputId": "5c90d3bd-d796-40f5-9362-a2db26559e5d"
      },
      "execution_count": 23,
      "outputs": [
        {
          "output_type": "execute_result",
          "data": {
            "text/plain": [
              "-1"
            ]
          },
          "metadata": {},
          "execution_count": 23
        }
      ]
    },
    {
      "cell_type": "code",
      "source": [
        "data.lower() #convert lower case"
      ],
      "metadata": {
        "colab": {
          "base_uri": "https://localhost:8080/",
          "height": 0
        },
        "id": "eTOHb8yexNfs",
        "outputId": "1cf726f9-ca39-44cc-d848-dd8481e36c5b"
      },
      "execution_count": 24,
      "outputs": [
        {
          "output_type": "execute_result",
          "data": {
            "text/plain": [
              "'hellow world, welcome to data science world'"
            ],
            "application/vnd.google.colaboratory.intrinsic+json": {
              "type": "string"
            }
          },
          "metadata": {},
          "execution_count": 24
        }
      ]
    },
    {
      "cell_type": "code",
      "source": [
        "data.upper() #convert uppper case"
      ],
      "metadata": {
        "colab": {
          "base_uri": "https://localhost:8080/",
          "height": 0
        },
        "id": "6BBv6-xAxoSM",
        "outputId": "e19f48af-b246-416c-e3aa-77f5f16d82f4"
      },
      "execution_count": 25,
      "outputs": [
        {
          "output_type": "execute_result",
          "data": {
            "text/plain": [
              "'HELLOW WORLD, WELCOME TO DATA SCIENCE WORLD'"
            ],
            "application/vnd.google.colaboratory.intrinsic+json": {
              "type": "string"
            }
          },
          "metadata": {},
          "execution_count": 25
        }
      ]
    },
    {
      "cell_type": "code",
      "source": [
        "data.casefold() #lower case"
      ],
      "metadata": {
        "colab": {
          "base_uri": "https://localhost:8080/",
          "height": 0
        },
        "id": "vgpxMXx3xuwU",
        "outputId": "04544f44-2bdb-48e2-c29d-89ad507ab41e"
      },
      "execution_count": 26,
      "outputs": [
        {
          "output_type": "execute_result",
          "data": {
            "text/plain": [
              "'hellow world, welcome to data science world'"
            ],
            "application/vnd.google.colaboratory.intrinsic+json": {
              "type": "string"
            }
          },
          "metadata": {},
          "execution_count": 26
        }
      ]
    },
    {
      "cell_type": "code",
      "source": [
        "data.capitalize() #only 1st letter capital"
      ],
      "metadata": {
        "colab": {
          "base_uri": "https://localhost:8080/",
          "height": 0
        },
        "id": "NWTHihGzyC4u",
        "outputId": "1a79dd27-a703-415f-82cc-3af6b44e0bbf"
      },
      "execution_count": 27,
      "outputs": [
        {
          "output_type": "execute_result",
          "data": {
            "text/plain": [
              "'Hellow world, welcome to data science world'"
            ],
            "application/vnd.google.colaboratory.intrinsic+json": {
              "type": "string"
            }
          },
          "metadata": {},
          "execution_count": 27
        }
      ]
    },
    {
      "cell_type": "code",
      "source": [
        "data.swapcase() #swap all letters"
      ],
      "metadata": {
        "colab": {
          "base_uri": "https://localhost:8080/",
          "height": 0
        },
        "id": "PVEfaXLvyLe9",
        "outputId": "83cf6b4a-9e35-461f-f198-16db67b442b7"
      },
      "execution_count": 28,
      "outputs": [
        {
          "output_type": "execute_result",
          "data": {
            "text/plain": [
              "'hELLOW WORLD, WELCOME TO dATA sCIENCE WORLD'"
            ],
            "application/vnd.google.colaboratory.intrinsic+json": {
              "type": "string"
            }
          },
          "metadata": {},
          "execution_count": 28
        }
      ]
    },
    {
      "cell_type": "code",
      "source": [
        "data.title() #every word 1st letter upper case"
      ],
      "metadata": {
        "colab": {
          "base_uri": "https://localhost:8080/",
          "height": 0
        },
        "id": "ho_O_H-YyarE",
        "outputId": "0e0c3107-5613-4398-8d4f-978d59aaaeda"
      },
      "execution_count": 29,
      "outputs": [
        {
          "output_type": "execute_result",
          "data": {
            "text/plain": [
              "'Hellow World, Welcome To Data Science World'"
            ],
            "application/vnd.google.colaboratory.intrinsic+json": {
              "type": "string"
            }
          },
          "metadata": {},
          "execution_count": 29
        }
      ]
    },
    {
      "cell_type": "code",
      "source": [
        "data.split() #split as list"
      ],
      "metadata": {
        "colab": {
          "base_uri": "https://localhost:8080/"
        },
        "id": "VuxSdl-CytdM",
        "outputId": "827a2bf0-2e90-4140-8d37-0d93df046605"
      },
      "execution_count": 30,
      "outputs": [
        {
          "output_type": "execute_result",
          "data": {
            "text/plain": [
              "['Hellow', 'world,', 'welcome', 'to', 'Data', 'Science', 'world']"
            ]
          },
          "metadata": {},
          "execution_count": 30
        }
      ]
    },
    {
      "cell_type": "code",
      "source": [
        "data.split()[2]"
      ],
      "metadata": {
        "colab": {
          "base_uri": "https://localhost:8080/",
          "height": 0
        },
        "id": "h2ettgFNzAzl",
        "outputId": "44ba1de9-eb06-468a-f91b-e130583a1de1"
      },
      "execution_count": 31,
      "outputs": [
        {
          "output_type": "execute_result",
          "data": {
            "text/plain": [
              "'welcome'"
            ],
            "application/vnd.google.colaboratory.intrinsic+json": {
              "type": "string"
            }
          },
          "metadata": {},
          "execution_count": 31
        }
      ]
    },
    {
      "cell_type": "code",
      "source": [
        "data.center(100) #pick 100 char and shift in middle"
      ],
      "metadata": {
        "colab": {
          "base_uri": "https://localhost:8080/",
          "height": 0
        },
        "id": "t2bEnlwWzKV9",
        "outputId": "b5ae5a2a-df6e-4be5-8ea0-574f1a7ae0ea"
      },
      "execution_count": 32,
      "outputs": [
        {
          "output_type": "execute_result",
          "data": {
            "text/plain": [
              "'                            Hellow world, welcome to Data Science world                             '"
            ],
            "application/vnd.google.colaboratory.intrinsic+json": {
              "type": "string"
            }
          },
          "metadata": {},
          "execution_count": 32
        }
      ]
    },
    {
      "cell_type": "code",
      "source": [
        "data"
      ],
      "metadata": {
        "colab": {
          "base_uri": "https://localhost:8080/",
          "height": 0
        },
        "id": "FmRvRLBg2wDK",
        "outputId": "a7d4b7c2-510b-4034-9b20-daebcecdb684"
      },
      "execution_count": 33,
      "outputs": [
        {
          "output_type": "execute_result",
          "data": {
            "text/plain": [
              "'Hellow world, welcome to Data Science world'"
            ],
            "application/vnd.google.colaboratory.intrinsic+json": {
              "type": "string"
            }
          },
          "metadata": {},
          "execution_count": 33
        }
      ]
    },
    {
      "cell_type": "code",
      "source": [
        "data.replace('Data Science' , 'Artificial Intelligence')"
      ],
      "metadata": {
        "colab": {
          "base_uri": "https://localhost:8080/",
          "height": 0
        },
        "id": "CZp3JBiZzjmV",
        "outputId": "bad4864f-a35c-4569-c842-d8e273c58dee"
      },
      "execution_count": 34,
      "outputs": [
        {
          "output_type": "execute_result",
          "data": {
            "text/plain": [
              "'Hellow world, welcome to Artificial Intelligence world'"
            ],
            "application/vnd.google.colaboratory.intrinsic+json": {
              "type": "string"
            }
          },
          "metadata": {},
          "execution_count": 34
        }
      ]
    },
    {
      "cell_type": "code",
      "source": [
        "num10=10\n",
        "num11=20\n",
        "sum=num10*num11\n",
        "print('I have', sum, 'taka')"
      ],
      "metadata": {
        "colab": {
          "base_uri": "https://localhost:8080/"
        },
        "id": "vKd-GK6U3Cnt",
        "outputId": "60078ef5-57de-4774-e533-2c3edeae245c"
      },
      "execution_count": 35,
      "outputs": [
        {
          "output_type": "stream",
          "name": "stdout",
          "text": [
            "I have 200 taka\n"
          ]
        }
      ]
    },
    {
      "cell_type": "code",
      "source": [
        "num10=10\n",
        "num11=20\n",
        "sum=num10*num11\n",
        "print('I have {} taka'.format(sum))"
      ],
      "metadata": {
        "colab": {
          "base_uri": "https://localhost:8080/"
        },
        "id": "ZIeVPUfl3q9E",
        "outputId": "3649125c-93ec-43e2-a9f9-7683de67f682"
      },
      "execution_count": 36,
      "outputs": [
        {
          "output_type": "stream",
          "name": "stdout",
          "text": [
            "I have 200 taka\n"
          ]
        }
      ]
    },
    {
      "cell_type": "markdown",
      "source": [
        "# Data type"
      ],
      "metadata": {
        "id": "8HMz236C4XJB"
      }
    },
    {
      "cell_type": "code",
      "source": [
        "x = 10 #integer\n",
        "y = 13.5 #floating\n",
        "z = 10+5j #10 is real number and 5j is imaginary"
      ],
      "metadata": {
        "id": "ZLyqpWZj36cV"
      },
      "execution_count": 37,
      "outputs": []
    },
    {
      "cell_type": "code",
      "source": [
        "type(x)"
      ],
      "metadata": {
        "colab": {
          "base_uri": "https://localhost:8080/"
        },
        "id": "Uq9mMe0N2_q7",
        "outputId": "f2e3c93f-9c5f-428b-d8f5-21c880cdd816"
      },
      "execution_count": 38,
      "outputs": [
        {
          "output_type": "execute_result",
          "data": {
            "text/plain": [
              "int"
            ]
          },
          "metadata": {},
          "execution_count": 38
        }
      ]
    },
    {
      "cell_type": "code",
      "source": [
        "type(y)"
      ],
      "metadata": {
        "colab": {
          "base_uri": "https://localhost:8080/"
        },
        "id": "dHG5Diug3LN-",
        "outputId": "8be4ccc5-5bfd-4e2a-8bff-f6b111901caa"
      },
      "execution_count": 39,
      "outputs": [
        {
          "output_type": "execute_result",
          "data": {
            "text/plain": [
              "float"
            ]
          },
          "metadata": {},
          "execution_count": 39
        }
      ]
    },
    {
      "cell_type": "code",
      "source": [
        "type(z)"
      ],
      "metadata": {
        "colab": {
          "base_uri": "https://localhost:8080/"
        },
        "id": "LmNux-E03My2",
        "outputId": "fd456c78-05f3-43c6-c88d-bbdd36e29339"
      },
      "execution_count": 40,
      "outputs": [
        {
          "output_type": "execute_result",
          "data": {
            "text/plain": [
              "complex"
            ]
          },
          "metadata": {},
          "execution_count": 40
        }
      ]
    },
    {
      "cell_type": "code",
      "source": [
        "isinstance(z,complex)"
      ],
      "metadata": {
        "colab": {
          "base_uri": "https://localhost:8080/"
        },
        "id": "DtXodmPx3OMW",
        "outputId": "2f2bbdd5-37b3-4489-c515-847b0fa48430"
      },
      "execution_count": 41,
      "outputs": [
        {
          "output_type": "execute_result",
          "data": {
            "text/plain": [
              "True"
            ]
          },
          "metadata": {},
          "execution_count": 41
        }
      ]
    },
    {
      "cell_type": "code",
      "source": [
        "isinstance(x,float)"
      ],
      "metadata": {
        "colab": {
          "base_uri": "https://localhost:8080/"
        },
        "id": "-WL849P-3cb2",
        "outputId": "5c5ccf01-20c3-42ad-ae7c-8495aafbe27b"
      },
      "execution_count": 42,
      "outputs": [
        {
          "output_type": "execute_result",
          "data": {
            "text/plain": [
              "False"
            ]
          },
          "metadata": {},
          "execution_count": 42
        }
      ]
    },
    {
      "cell_type": "code",
      "source": [
        "p = float(x)\n",
        "p"
      ],
      "metadata": {
        "colab": {
          "base_uri": "https://localhost:8080/"
        },
        "id": "9g1_KSvs4CvF",
        "outputId": "2e84a6ae-397c-49bd-9978-ee86d9faced0"
      },
      "execution_count": 43,
      "outputs": [
        {
          "output_type": "execute_result",
          "data": {
            "text/plain": [
              "10.0"
            ]
          },
          "metadata": {},
          "execution_count": 43
        }
      ]
    },
    {
      "cell_type": "code",
      "source": [
        "n = complex(input('Enter a number: '))"
      ],
      "metadata": {
        "colab": {
          "base_uri": "https://localhost:8080/"
        },
        "id": "mo9kPLmX4Rgt",
        "outputId": "32f36998-3292-4f26-c181-7d4c0a25c4e9"
      },
      "execution_count": 44,
      "outputs": [
        {
          "name": "stdout",
          "output_type": "stream",
          "text": [
            "Enter a number: 10\n"
          ]
        }
      ]
    },
    {
      "cell_type": "code",
      "source": [
        "n"
      ],
      "metadata": {
        "colab": {
          "base_uri": "https://localhost:8080/"
        },
        "id": "iuSNYAOZ5EEr",
        "outputId": "eac9f665-7795-479d-fe1d-3fd2ebfc59bb"
      },
      "execution_count": 45,
      "outputs": [
        {
          "output_type": "execute_result",
          "data": {
            "text/plain": [
              "(10+0j)"
            ]
          },
          "metadata": {},
          "execution_count": 45
        }
      ]
    },
    {
      "cell_type": "code",
      "source": [
        "type(n)"
      ],
      "metadata": {
        "colab": {
          "base_uri": "https://localhost:8080/"
        },
        "id": "V4S8WAuS5SKm",
        "outputId": "1a47c7b7-ae74-459a-cb76-06cbd805f9e6"
      },
      "execution_count": 46,
      "outputs": [
        {
          "output_type": "execute_result",
          "data": {
            "text/plain": [
              "complex"
            ]
          },
          "metadata": {},
          "execution_count": 46
        }
      ]
    },
    {
      "cell_type": "code",
      "source": [
        "l = [2,3,4,5,(1,4), True,'data']\n",
        "l "
      ],
      "metadata": {
        "colab": {
          "base_uri": "https://localhost:8080/"
        },
        "id": "9MhNBILh5d0O",
        "outputId": "21e7f282-a3ca-49fb-f5dc-ba65ce7b077e"
      },
      "execution_count": 47,
      "outputs": [
        {
          "output_type": "execute_result",
          "data": {
            "text/plain": [
              "[2, 3, 4, 5, (1, 4), True, 'data']"
            ]
          },
          "metadata": {},
          "execution_count": 47
        }
      ]
    },
    {
      "cell_type": "code",
      "source": [
        "type(l)"
      ],
      "metadata": {
        "colab": {
          "base_uri": "https://localhost:8080/"
        },
        "id": "GrlIRxhYLrtf",
        "outputId": "d0caced7-6be4-4c76-e2a8-e6eedddadeb7"
      },
      "execution_count": 48,
      "outputs": [
        {
          "output_type": "execute_result",
          "data": {
            "text/plain": [
              "list"
            ]
          },
          "metadata": {},
          "execution_count": 48
        }
      ]
    },
    {
      "cell_type": "code",
      "source": [
        "isinstance(l,list)"
      ],
      "metadata": {
        "colab": {
          "base_uri": "https://localhost:8080/"
        },
        "id": "JFWCIbPJMMgf",
        "outputId": "305c4a19-0e8a-4754-f745-c9d4c16330bf"
      },
      "execution_count": 49,
      "outputs": [
        {
          "output_type": "execute_result",
          "data": {
            "text/plain": [
              "True"
            ]
          },
          "metadata": {},
          "execution_count": 49
        }
      ]
    },
    {
      "cell_type": "code",
      "source": [
        "t = (1,3,4,6,'ti') #tuple"
      ],
      "metadata": {
        "id": "xYF_9BJOMUGW"
      },
      "execution_count": 50,
      "outputs": []
    },
    {
      "cell_type": "code",
      "source": [
        "type(t)"
      ],
      "metadata": {
        "colab": {
          "base_uri": "https://localhost:8080/"
        },
        "id": "so_bITprMhpe",
        "outputId": "3a5619b5-4516-45de-a401-c5fa0c45466b"
      },
      "execution_count": 51,
      "outputs": [
        {
          "output_type": "execute_result",
          "data": {
            "text/plain": [
              "tuple"
            ]
          },
          "metadata": {},
          "execution_count": 51
        }
      ]
    },
    {
      "cell_type": "code",
      "source": [
        "t [1:3]"
      ],
      "metadata": {
        "colab": {
          "base_uri": "https://localhost:8080/"
        },
        "id": "YuYR2Tf_MiZ_",
        "outputId": "d1f57733-64be-4c51-ec92-1c5729d94fdc"
      },
      "execution_count": 52,
      "outputs": [
        {
          "output_type": "execute_result",
          "data": {
            "text/plain": [
              "(3, 4)"
            ]
          },
          "metadata": {},
          "execution_count": 52
        }
      ]
    },
    {
      "cell_type": "code",
      "source": [
        "x =range(10) #range\n",
        "x"
      ],
      "metadata": {
        "colab": {
          "base_uri": "https://localhost:8080/"
        },
        "id": "0THG8cmYMxTv",
        "outputId": "0a4eb182-a8fb-4743-9fe8-4355fc42d926"
      },
      "execution_count": 53,
      "outputs": [
        {
          "output_type": "execute_result",
          "data": {
            "text/plain": [
              "range(0, 10)"
            ]
          },
          "metadata": {},
          "execution_count": 53
        }
      ]
    },
    {
      "cell_type": "code",
      "source": [
        "for i in x:\n",
        "  print (i)"
      ],
      "metadata": {
        "colab": {
          "base_uri": "https://localhost:8080/"
        },
        "id": "7I6KqBxiOFFH",
        "outputId": "29ba890f-a98a-4f8a-9299-850e4011f119"
      },
      "execution_count": 54,
      "outputs": [
        {
          "output_type": "stream",
          "name": "stdout",
          "text": [
            "0\n",
            "1\n",
            "2\n",
            "3\n",
            "4\n",
            "5\n",
            "6\n",
            "7\n",
            "8\n",
            "9\n"
          ]
        }
      ]
    },
    {
      "cell_type": "code",
      "source": [
        "x = range(5,20) #2nd case\n",
        "for i in x:\n",
        "  print(i)"
      ],
      "metadata": {
        "colab": {
          "base_uri": "https://localhost:8080/"
        },
        "id": "waeQMuviONKh",
        "outputId": "5dc3143d-65fc-44a3-8c92-0d537ff48875"
      },
      "execution_count": 55,
      "outputs": [
        {
          "output_type": "stream",
          "name": "stdout",
          "text": [
            "5\n",
            "6\n",
            "7\n",
            "8\n",
            "9\n",
            "10\n",
            "11\n",
            "12\n",
            "13\n",
            "14\n",
            "15\n",
            "16\n",
            "17\n",
            "18\n",
            "19\n"
          ]
        }
      ]
    },
    {
      "cell_type": "code",
      "source": [
        "x = range (20,5,-3) #3rd case\n",
        "for i in x:\n",
        "  print(i)"
      ],
      "metadata": {
        "colab": {
          "base_uri": "https://localhost:8080/"
        },
        "id": "gAcgOdpuZYtt",
        "outputId": "48d21386-76ce-4834-b278-146333a03273"
      },
      "execution_count": 56,
      "outputs": [
        {
          "output_type": "stream",
          "name": "stdout",
          "text": [
            "20\n",
            "17\n",
            "14\n",
            "11\n",
            "8\n"
          ]
        }
      ]
    },
    {
      "cell_type": "markdown",
      "source": [
        "##Boolean"
      ],
      "metadata": {
        "id": "GLtc99C_STDf"
      }
    },
    {
      "cell_type": "code",
      "source": [
        "x = True\n",
        "y = False\n",
        "x"
      ],
      "metadata": {
        "colab": {
          "base_uri": "https://localhost:8080/"
        },
        "id": "3UAzAG-IOpUu",
        "outputId": "9132913d-902b-46f0-d30f-7092ed6077d4"
      },
      "execution_count": 57,
      "outputs": [
        {
          "output_type": "execute_result",
          "data": {
            "text/plain": [
              "True"
            ]
          },
          "metadata": {},
          "execution_count": 57
        }
      ]
    },
    {
      "cell_type": "markdown",
      "source": [
        "#Sequence Data"
      ],
      "metadata": {
        "id": "n8CKd2zsTlhS"
      }
    },
    {
      "cell_type": "markdown",
      "source": [
        "list represent with [ ]"
      ],
      "metadata": {
        "id": "m8Z6e-L4UlLn"
      }
    },
    {
      "cell_type": "code",
      "source": [
        "l = [1,3,4,5,(1,6,7),'data',10,('country',15,45)]\n",
        "l"
      ],
      "metadata": {
        "colab": {
          "base_uri": "https://localhost:8080/"
        },
        "id": "uBtzTwhCSjzV",
        "outputId": "d9d616fb-2636-416e-98af-5a320001d7b4"
      },
      "execution_count": 58,
      "outputs": [
        {
          "output_type": "execute_result",
          "data": {
            "text/plain": [
              "[1, 3, 4, 5, (1, 6, 7), 'data', 10, ('country', 15, 45)]"
            ]
          },
          "metadata": {},
          "execution_count": 58
        }
      ]
    },
    {
      "cell_type": "code",
      "source": [
        "type(l)"
      ],
      "metadata": {
        "colab": {
          "base_uri": "https://localhost:8080/"
        },
        "id": "fifkKAYmT9kX",
        "outputId": "5f111df9-6572-4620-ab7b-619f997f80a4"
      },
      "execution_count": 59,
      "outputs": [
        {
          "output_type": "execute_result",
          "data": {
            "text/plain": [
              "list"
            ]
          },
          "metadata": {},
          "execution_count": 59
        }
      ]
    },
    {
      "cell_type": "code",
      "source": [
        "l[4]"
      ],
      "metadata": {
        "colab": {
          "base_uri": "https://localhost:8080/"
        },
        "id": "0aFjOOr-T_UG",
        "outputId": "88642898-6c8f-4d42-de9d-a5c7f8bd0142"
      },
      "execution_count": 60,
      "outputs": [
        {
          "output_type": "execute_result",
          "data": {
            "text/plain": [
              "(1, 6, 7)"
            ]
          },
          "metadata": {},
          "execution_count": 60
        }
      ]
    },
    {
      "cell_type": "code",
      "source": [
        "l[-1][0:2]"
      ],
      "metadata": {
        "colab": {
          "base_uri": "https://localhost:8080/"
        },
        "id": "rHkhAX6hUG0e",
        "outputId": "67fef571-17c6-4c9d-907d-f12434b00366"
      },
      "execution_count": 61,
      "outputs": [
        {
          "output_type": "execute_result",
          "data": {
            "text/plain": [
              "('country', 15)"
            ]
          },
          "metadata": {},
          "execution_count": 61
        }
      ]
    },
    {
      "cell_type": "markdown",
      "source": [
        "Tuple represent with ( )"
      ],
      "metadata": {
        "id": "9nwx4oGfUu_7"
      }
    },
    {
      "cell_type": "code",
      "source": [
        "t = (1,3,4,5,(1,6,7),'data',10,('country',15,45))\n",
        "t"
      ],
      "metadata": {
        "colab": {
          "base_uri": "https://localhost:8080/"
        },
        "id": "bI5Nzj4eUPJf",
        "outputId": "5404deb7-63e0-45cb-c70a-adfb1be590c8"
      },
      "execution_count": 62,
      "outputs": [
        {
          "output_type": "execute_result",
          "data": {
            "text/plain": [
              "(1, 3, 4, 5, (1, 6, 7), 'data', 10, ('country', 15, 45))"
            ]
          },
          "metadata": {},
          "execution_count": 62
        }
      ]
    },
    {
      "cell_type": "code",
      "source": [
        "type(t)"
      ],
      "metadata": {
        "colab": {
          "base_uri": "https://localhost:8080/"
        },
        "id": "k8i6saopVA5G",
        "outputId": "67a92b8d-c84a-4c15-fef0-fe9aa63331de"
      },
      "execution_count": 63,
      "outputs": [
        {
          "output_type": "execute_result",
          "data": {
            "text/plain": [
              "tuple"
            ]
          },
          "metadata": {},
          "execution_count": 63
        }
      ]
    },
    {
      "cell_type": "code",
      "source": [
        "t[3]"
      ],
      "metadata": {
        "colab": {
          "base_uri": "https://localhost:8080/"
        },
        "id": "5H0BoW-YVCf_",
        "outputId": "84b7ae71-7fc2-4688-94b7-39fcc80e690c"
      },
      "execution_count": 64,
      "outputs": [
        {
          "output_type": "execute_result",
          "data": {
            "text/plain": [
              "5"
            ]
          },
          "metadata": {},
          "execution_count": 64
        }
      ]
    },
    {
      "cell_type": "code",
      "source": [
        "t [0:4]"
      ],
      "metadata": {
        "colab": {
          "base_uri": "https://localhost:8080/"
        },
        "id": "XU2JRZfEVG-_",
        "outputId": "87a393a7-ab07-466a-f154-df0883f98ad0"
      },
      "execution_count": 65,
      "outputs": [
        {
          "output_type": "execute_result",
          "data": {
            "text/plain": [
              "(1, 3, 4, 5)"
            ]
          },
          "metadata": {},
          "execution_count": 65
        }
      ]
    },
    {
      "cell_type": "markdown",
      "source": [
        "Array"
      ],
      "metadata": {
        "id": "5t2tQr4ZaEOU"
      }
    },
    {
      "cell_type": "code",
      "source": [
        "import array as ar\n",
        "a = ar.array('i', [1,3,5,7])\n",
        "a"
      ],
      "metadata": {
        "colab": {
          "base_uri": "https://localhost:8080/"
        },
        "id": "AC8TSE0tVLsY",
        "outputId": "f8307375-ccc4-49e1-967e-0a75697b5755"
      },
      "execution_count": 66,
      "outputs": [
        {
          "output_type": "execute_result",
          "data": {
            "text/plain": [
              "array('i', [1, 3, 5, 7])"
            ]
          },
          "metadata": {},
          "execution_count": 66
        }
      ]
    },
    {
      "cell_type": "code",
      "source": [
        "type(a)"
      ],
      "metadata": {
        "colab": {
          "base_uri": "https://localhost:8080/"
        },
        "id": "WqbBSQzbFOgX",
        "outputId": "82a8459e-019f-41ab-8d65-b5f67a769699"
      },
      "execution_count": 67,
      "outputs": [
        {
          "output_type": "execute_result",
          "data": {
            "text/plain": [
              "array.array"
            ]
          },
          "metadata": {},
          "execution_count": 67
        }
      ]
    },
    {
      "cell_type": "code",
      "source": [
        "b = ar.array('f', [1,3,5,7])\n",
        "b"
      ],
      "metadata": {
        "colab": {
          "base_uri": "https://localhost:8080/"
        },
        "id": "xvsDy3VgFYEW",
        "outputId": "598c7ba3-8b3c-4974-98d0-dcb2525a0101"
      },
      "execution_count": 68,
      "outputs": [
        {
          "output_type": "execute_result",
          "data": {
            "text/plain": [
              "array('f', [1.0, 3.0, 5.0, 7.0])"
            ]
          },
          "metadata": {},
          "execution_count": 68
        }
      ]
    },
    {
      "cell_type": "code",
      "source": [
        "type(b)"
      ],
      "metadata": {
        "colab": {
          "base_uri": "https://localhost:8080/"
        },
        "id": "eedAeGhaFovH",
        "outputId": "1dc8d8f9-ee57-472e-9d9a-dc76a7c119d7"
      },
      "execution_count": 69,
      "outputs": [
        {
          "output_type": "execute_result",
          "data": {
            "text/plain": [
              "array.array"
            ]
          },
          "metadata": {},
          "execution_count": 69
        }
      ]
    },
    {
      "cell_type": "markdown",
      "source": [
        "Set"
      ],
      "metadata": {
        "id": "mZ32ztZ2F98e"
      }
    },
    {
      "cell_type": "code",
      "source": [
        "s = {1,2,3,4}\n",
        "s"
      ],
      "metadata": {
        "colab": {
          "base_uri": "https://localhost:8080/"
        },
        "id": "grZSSexdFqMf",
        "outputId": "fef7f98f-5cda-43a6-9819-9c53d114788c"
      },
      "execution_count": 70,
      "outputs": [
        {
          "output_type": "execute_result",
          "data": {
            "text/plain": [
              "{1, 2, 3, 4}"
            ]
          },
          "metadata": {},
          "execution_count": 70
        }
      ]
    },
    {
      "cell_type": "code",
      "source": [
        "type(s)"
      ],
      "metadata": {
        "colab": {
          "base_uri": "https://localhost:8080/"
        },
        "id": "jH9bLdbmGD8o",
        "outputId": "c61ce043-6227-4469-d2ea-46c8ff5a9e52"
      },
      "execution_count": 71,
      "outputs": [
        {
          "output_type": "execute_result",
          "data": {
            "text/plain": [
              "set"
            ]
          },
          "metadata": {},
          "execution_count": 71
        }
      ]
    },
    {
      "cell_type": "markdown",
      "source": [
        "Dictionary"
      ],
      "metadata": {
        "id": "9CsIgo4xGOrt"
      }
    },
    {
      "cell_type": "code",
      "source": [
        "dic = {\n",
        "    'versity': 'Diu',\n",
        "    'deperatment': 'CSE',\n",
        "    'faculty': 'Science'\n",
        "}"
      ],
      "metadata": {
        "id": "oRCEdc-wGFbQ"
      },
      "execution_count": 72,
      "outputs": []
    },
    {
      "cell_type": "code",
      "source": [
        "dic"
      ],
      "metadata": {
        "colab": {
          "base_uri": "https://localhost:8080/"
        },
        "id": "hMxQIifLGyMX",
        "outputId": "48cad1c2-38cb-40fd-b6f9-33fb648eae21"
      },
      "execution_count": 73,
      "outputs": [
        {
          "output_type": "execute_result",
          "data": {
            "text/plain": [
              "{'versity': 'Diu', 'deperatment': 'CSE', 'faculty': 'Science'}"
            ]
          },
          "metadata": {},
          "execution_count": 73
        }
      ]
    },
    {
      "cell_type": "code",
      "source": [
        "type(dic)"
      ],
      "metadata": {
        "colab": {
          "base_uri": "https://localhost:8080/"
        },
        "id": "OmiDX87sG5HQ",
        "outputId": "ba88edb5-d429-4ce3-937c-04845cb6cdda"
      },
      "execution_count": 74,
      "outputs": [
        {
          "output_type": "execute_result",
          "data": {
            "text/plain": [
              "dict"
            ]
          },
          "metadata": {},
          "execution_count": 74
        }
      ]
    },
    {
      "cell_type": "code",
      "source": [
        "dic.keys()"
      ],
      "metadata": {
        "colab": {
          "base_uri": "https://localhost:8080/"
        },
        "id": "BCkgySfbG7Pg",
        "outputId": "0d3715e0-4d6d-4c70-ed52-f33e482acaf7"
      },
      "execution_count": 75,
      "outputs": [
        {
          "output_type": "execute_result",
          "data": {
            "text/plain": [
              "dict_keys(['versity', 'deperatment', 'faculty'])"
            ]
          },
          "metadata": {},
          "execution_count": 75
        }
      ]
    },
    {
      "cell_type": "markdown",
      "source": [
        "Binary types"
      ],
      "metadata": {
        "id": "dC1sRltvigTc"
      }
    },
    {
      "cell_type": "code",
      "source": [
        "byte_arrray = bytearray ('A,B,C,D,E,F', 'utf-8')\n",
        "type(byte_arrray)"
      ],
      "metadata": {
        "id": "H-JdTreqHGY4",
        "outputId": "53347fa3-d012-4840-d62f-fe4f7a466c53",
        "colab": {
          "base_uri": "https://localhost:8080/"
        }
      },
      "execution_count": 76,
      "outputs": [
        {
          "output_type": "execute_result",
          "data": {
            "text/plain": [
              "bytearray"
            ]
          },
          "metadata": {},
          "execution_count": 76
        }
      ]
    },
    {
      "cell_type": "code",
      "source": [
        "memoryview(byte_arrray)"
      ],
      "metadata": {
        "id": "hfppuqGli-54",
        "outputId": "8255878c-c1a9-4523-a40d-e577bf693e40",
        "colab": {
          "base_uri": "https://localhost:8080/"
        }
      },
      "execution_count": 77,
      "outputs": [
        {
          "output_type": "execute_result",
          "data": {
            "text/plain": [
              "<memory at 0x7f8406386280>"
            ]
          },
          "metadata": {},
          "execution_count": 77
        }
      ]
    },
    {
      "cell_type": "code",
      "source": [
        "memoryview(byte_arrray)[1]"
      ],
      "metadata": {
        "id": "25b63p8ujNyO",
        "outputId": "82dfc5a5-a8a0-43d6-88a5-dc71c517d6ca",
        "colab": {
          "base_uri": "https://localhost:8080/"
        }
      },
      "execution_count": 78,
      "outputs": [
        {
          "output_type": "execute_result",
          "data": {
            "text/plain": [
              "44"
            ]
          },
          "metadata": {},
          "execution_count": 78
        }
      ]
    },
    {
      "cell_type": "code",
      "source": [
        "mv = memoryview(byte_arrray)\n",
        "mv[0]= 97"
      ],
      "metadata": {
        "id": "w8wCXp2ZjlXe"
      },
      "execution_count": 79,
      "outputs": []
    },
    {
      "cell_type": "code",
      "source": [
        "memoryview(byte_arrray)[0]"
      ],
      "metadata": {
        "id": "W9-k-zmykE2m",
        "outputId": "283fc0ba-eea3-4bf0-af9a-5e644c2afd69",
        "colab": {
          "base_uri": "https://localhost:8080/"
        }
      },
      "execution_count": 80,
      "outputs": [
        {
          "output_type": "execute_result",
          "data": {
            "text/plain": [
              "97"
            ]
          },
          "metadata": {},
          "execution_count": 80
        }
      ]
    },
    {
      "cell_type": "markdown",
      "source": [
        "#Operators In Python"
      ],
      "metadata": {
        "id": "3i43VZbBhxQm"
      }
    },
    {
      "cell_type": "code",
      "source": [
        "x = 15\n",
        "y = 4\n",
        "z = 10\n",
        "\n",
        "x+y"
      ],
      "metadata": {
        "id": "D04subO-kF3W",
        "outputId": "e7d29d22-cffc-4588-8ae0-d34a8d1b59b8",
        "colab": {
          "base_uri": "https://localhost:8080/"
        }
      },
      "execution_count": 81,
      "outputs": [
        {
          "output_type": "execute_result",
          "data": {
            "text/plain": [
              "19"
            ]
          },
          "metadata": {},
          "execution_count": 81
        }
      ]
    },
    {
      "cell_type": "code",
      "source": [
        "x-y"
      ],
      "metadata": {
        "id": "MtiWbRIGh60B",
        "outputId": "f0ac6f0a-b8cb-4388-c53b-2e358e09987a",
        "colab": {
          "base_uri": "https://localhost:8080/"
        }
      },
      "execution_count": 82,
      "outputs": [
        {
          "output_type": "execute_result",
          "data": {
            "text/plain": [
              "11"
            ]
          },
          "metadata": {},
          "execution_count": 82
        }
      ]
    },
    {
      "cell_type": "code",
      "source": [
        "x/y"
      ],
      "metadata": {
        "id": "XWXDl-Iah91h",
        "outputId": "b1d2fb37-6618-43c7-fb68-8c520f3e108b",
        "colab": {
          "base_uri": "https://localhost:8080/"
        }
      },
      "execution_count": 83,
      "outputs": [
        {
          "output_type": "execute_result",
          "data": {
            "text/plain": [
              "3.75"
            ]
          },
          "metadata": {},
          "execution_count": 83
        }
      ]
    },
    {
      "cell_type": "code",
      "source": [
        "x*x"
      ],
      "metadata": {
        "id": "60V-QBMVh_1A",
        "outputId": "1a0430be-f1f7-4779-b37e-4388a218fe7b",
        "colab": {
          "base_uri": "https://localhost:8080/"
        }
      },
      "execution_count": 84,
      "outputs": [
        {
          "output_type": "execute_result",
          "data": {
            "text/plain": [
              "225"
            ]
          },
          "metadata": {},
          "execution_count": 84
        }
      ]
    },
    {
      "cell_type": "code",
      "source": [
        "10*10*10*10"
      ],
      "metadata": {
        "id": "u-e7wb9KiB0w",
        "outputId": "dfa7421f-22db-4632-9cdb-ab99c942b360",
        "colab": {
          "base_uri": "https://localhost:8080/"
        }
      },
      "execution_count": 85,
      "outputs": [
        {
          "output_type": "execute_result",
          "data": {
            "text/plain": [
              "10000"
            ]
          },
          "metadata": {},
          "execution_count": 85
        }
      ]
    },
    {
      "cell_type": "code",
      "source": [
        "x**y"
      ],
      "metadata": {
        "id": "ohnHjpCZiGGS",
        "outputId": "792811a4-c4d5-493d-d928-f47c2b08d5da",
        "colab": {
          "base_uri": "https://localhost:8080/"
        }
      },
      "execution_count": 86,
      "outputs": [
        {
          "output_type": "execute_result",
          "data": {
            "text/plain": [
              "50625"
            ]
          },
          "metadata": {},
          "execution_count": 86
        }
      ]
    },
    {
      "cell_type": "code",
      "source": [
        "x / y"
      ],
      "metadata": {
        "id": "LPtrmysfiIE4",
        "outputId": "272acd7f-5cbc-4a37-d941-3d7ecc1a8788",
        "colab": {
          "base_uri": "https://localhost:8080/"
        }
      },
      "execution_count": 87,
      "outputs": [
        {
          "output_type": "execute_result",
          "data": {
            "text/plain": [
              "3.75"
            ]
          },
          "metadata": {},
          "execution_count": 87
        }
      ]
    },
    {
      "cell_type": "code",
      "source": [
        "x // y #Flooring point will be removed"
      ],
      "metadata": {
        "id": "mVH01SCEiJ8a",
        "outputId": "c06180d2-d722-4144-aac3-d0ff098d33b5",
        "colab": {
          "base_uri": "https://localhost:8080/"
        }
      },
      "execution_count": 88,
      "outputs": [
        {
          "output_type": "execute_result",
          "data": {
            "text/plain": [
              "3"
            ]
          },
          "metadata": {},
          "execution_count": 88
        }
      ]
    },
    {
      "cell_type": "markdown",
      "source": [
        "Flooring"
      ],
      "metadata": {
        "id": "ojXeX8zxiVn1"
      }
    },
    {
      "cell_type": "code",
      "source": [
        "import math\n",
        "math.floor(x/y)"
      ],
      "metadata": {
        "id": "GRE_UOqHiP4A",
        "outputId": "d02e77f2-aa8d-4a81-854e-78b40f692433",
        "colab": {
          "base_uri": "https://localhost:8080/"
        }
      },
      "execution_count": 89,
      "outputs": [
        {
          "output_type": "execute_result",
          "data": {
            "text/plain": [
              "3"
            ]
          },
          "metadata": {},
          "execution_count": 89
        }
      ]
    },
    {
      "cell_type": "code",
      "source": [
        "math.ceil(x/y) #Round figure"
      ],
      "metadata": {
        "id": "SE3tM2BMiXGQ",
        "outputId": "19813881-353f-46cf-f0a3-7cc794bd9814",
        "colab": {
          "base_uri": "https://localhost:8080/"
        }
      },
      "execution_count": 90,
      "outputs": [
        {
          "output_type": "execute_result",
          "data": {
            "text/plain": [
              "4"
            ]
          },
          "metadata": {},
          "execution_count": 90
        }
      ]
    },
    {
      "cell_type": "code",
      "source": [
        "x = 10\n",
        "y = 10\n",
        "x is y #Identity Operators"
      ],
      "metadata": {
        "id": "Pc_8OSH7ig5h",
        "outputId": "85835af7-08a5-4c7b-f986-e473e59af5cc",
        "colab": {
          "base_uri": "https://localhost:8080/"
        }
      },
      "execution_count": 91,
      "outputs": [
        {
          "output_type": "execute_result",
          "data": {
            "text/plain": [
              "True"
            ]
          },
          "metadata": {},
          "execution_count": 91
        }
      ]
    },
    {
      "cell_type": "code",
      "source": [
        "x == y #Comparison operator"
      ],
      "metadata": {
        "id": "ZX9It612ip15",
        "outputId": "7a96ee2b-8d77-4fdb-a33f-228857eb6a15",
        "colab": {
          "base_uri": "https://localhost:8080/"
        }
      },
      "execution_count": 92,
      "outputs": [
        {
          "output_type": "execute_result",
          "data": {
            "text/plain": [
              "True"
            ]
          },
          "metadata": {},
          "execution_count": 92
        }
      ]
    },
    {
      "cell_type": "code",
      "source": [
        "x = 12345\n",
        "y = x\n",
        "z = 12345\n",
        "x is y"
      ],
      "metadata": {
        "id": "ps9IWvbkiuWR",
        "outputId": "f0e32d5d-6351-4c7a-e513-5bae71bd30c0",
        "colab": {
          "base_uri": "https://localhost:8080/"
        }
      },
      "execution_count": 93,
      "outputs": [
        {
          "output_type": "execute_result",
          "data": {
            "text/plain": [
              "True"
            ]
          },
          "metadata": {},
          "execution_count": 93
        }
      ]
    },
    {
      "cell_type": "code",
      "source": [
        "x is z #address of x and z are compared, Upto 3 digits the address will match but after that memory address changes."
      ],
      "metadata": {
        "id": "1Cm3qQ9wi00Z",
        "outputId": "c943d673-bf6f-4646-c50c-a7cc7b9f7d79",
        "colab": {
          "base_uri": "https://localhost:8080/"
        }
      },
      "execution_count": 94,
      "outputs": [
        {
          "output_type": "execute_result",
          "data": {
            "text/plain": [
              "False"
            ]
          },
          "metadata": {},
          "execution_count": 94
        }
      ]
    },
    {
      "cell_type": "code",
      "source": [
        "id(x)"
      ],
      "metadata": {
        "id": "NRpAGW8PjISI",
        "outputId": "927d12b3-2a0e-4701-e661-1407b2ee0bcb",
        "colab": {
          "base_uri": "https://localhost:8080/"
        }
      },
      "execution_count": 95,
      "outputs": [
        {
          "output_type": "execute_result",
          "data": {
            "text/plain": [
              "140204953938352"
            ]
          },
          "metadata": {},
          "execution_count": 95
        }
      ]
    },
    {
      "cell_type": "code",
      "source": [
        "id(y)"
      ],
      "metadata": {
        "id": "m_IBjnBdjObB",
        "outputId": "6166acee-8521-43d2-ca8b-3ab1fb14ae23",
        "colab": {
          "base_uri": "https://localhost:8080/"
        }
      },
      "execution_count": 96,
      "outputs": [
        {
          "output_type": "execute_result",
          "data": {
            "text/plain": [
              "140204953938352"
            ]
          },
          "metadata": {},
          "execution_count": 96
        }
      ]
    },
    {
      "cell_type": "code",
      "source": [
        "id(z)"
      ],
      "metadata": {
        "id": "0wQFK6jqjUA5",
        "outputId": "2b888e30-1e86-4011-959f-fe8982656066",
        "colab": {
          "base_uri": "https://localhost:8080/"
        }
      },
      "execution_count": 97,
      "outputs": [
        {
          "output_type": "execute_result",
          "data": {
            "text/plain": [
              "140204953938320"
            ]
          },
          "metadata": {},
          "execution_count": 97
        }
      ]
    },
    {
      "cell_type": "markdown",
      "source": [
        "#Comparison Operators"
      ],
      "metadata": {
        "id": "BBPZ7cAhkpHe"
      }
    },
    {
      "cell_type": "code",
      "source": [
        "15 == 15"
      ],
      "metadata": {
        "id": "jNTB8hZSjWDM",
        "outputId": "22cbdd8d-37d8-49b5-d9e2-3538b91bdab1",
        "colab": {
          "base_uri": "https://localhost:8080/"
        }
      },
      "execution_count": 98,
      "outputs": [
        {
          "output_type": "execute_result",
          "data": {
            "text/plain": [
              "True"
            ]
          },
          "metadata": {},
          "execution_count": 98
        }
      ]
    },
    {
      "cell_type": "code",
      "source": [
        "15 > 15"
      ],
      "metadata": {
        "id": "1oUnrW5zkxZw",
        "outputId": "4ee76840-566a-4088-d44d-ef58ff0c0e6f",
        "colab": {
          "base_uri": "https://localhost:8080/"
        }
      },
      "execution_count": 99,
      "outputs": [
        {
          "output_type": "execute_result",
          "data": {
            "text/plain": [
              "False"
            ]
          },
          "metadata": {},
          "execution_count": 99
        }
      ]
    },
    {
      "cell_type": "code",
      "source": [
        "10 >= 5"
      ],
      "metadata": {
        "id": "Rm0tIn_Mk15g",
        "outputId": "da3babd7-e9d7-404a-f74f-49e31314ac2c",
        "colab": {
          "base_uri": "https://localhost:8080/"
        }
      },
      "execution_count": 100,
      "outputs": [
        {
          "output_type": "execute_result",
          "data": {
            "text/plain": [
              "True"
            ]
          },
          "metadata": {},
          "execution_count": 100
        }
      ]
    },
    {
      "cell_type": "markdown",
      "source": [
        "Python Logical Operators"
      ],
      "metadata": {
        "id": "JWb0e8b9lEet"
      }
    },
    {
      "cell_type": "code",
      "source": [
        "10>4 and 10<100"
      ],
      "metadata": {
        "id": "ItUCjhC9k6iI",
        "outputId": "0cacf22e-2aec-4055-ecd1-cd144c670d6e",
        "colab": {
          "base_uri": "https://localhost:8080/"
        }
      },
      "execution_count": 101,
      "outputs": [
        {
          "output_type": "execute_result",
          "data": {
            "text/plain": [
              "True"
            ]
          },
          "metadata": {},
          "execution_count": 101
        }
      ]
    },
    {
      "cell_type": "code",
      "source": [
        "10>5 or 10<5"
      ],
      "metadata": {
        "id": "w74C2Dp7lF44",
        "outputId": "670b3272-1902-429e-df8a-72a9cfac3ce1",
        "colab": {
          "base_uri": "https://localhost:8080/"
        }
      },
      "execution_count": 102,
      "outputs": [
        {
          "output_type": "execute_result",
          "data": {
            "text/plain": [
              "True"
            ]
          },
          "metadata": {},
          "execution_count": 102
        }
      ]
    },
    {
      "cell_type": "code",
      "source": [
        "not(10>4 or 10<3) #not means opposite\n"
      ],
      "metadata": {
        "id": "KM6Il-SFlNWi",
        "outputId": "78ad41c2-0a7a-41cb-ddff-c8ee6dc5951e",
        "colab": {
          "base_uri": "https://localhost:8080/"
        }
      },
      "execution_count": 103,
      "outputs": [
        {
          "output_type": "execute_result",
          "data": {
            "text/plain": [
              "False"
            ]
          },
          "metadata": {},
          "execution_count": 103
        }
      ]
    },
    {
      "cell_type": "markdown",
      "source": [
        "Assignment Operators"
      ],
      "metadata": {
        "id": "O7eKSy2ZlWrc"
      }
    },
    {
      "cell_type": "code",
      "source": [
        "x = 10\n",
        "x += 3\n",
        "x"
      ],
      "metadata": {
        "id": "XZ92i6GulTkY",
        "outputId": "7253277d-fd40-467e-a9e6-eb6227c8c7fa",
        "colab": {
          "base_uri": "https://localhost:8080/"
        }
      },
      "execution_count": 104,
      "outputs": [
        {
          "output_type": "execute_result",
          "data": {
            "text/plain": [
              "13"
            ]
          },
          "metadata": {},
          "execution_count": 104
        }
      ]
    },
    {
      "cell_type": "code",
      "source": [
        "x-=3\n",
        "x"
      ],
      "metadata": {
        "id": "RqQy4N4-lXWR",
        "outputId": "2cd21af6-afcc-4a39-8f41-8f2becab3a9f",
        "colab": {
          "base_uri": "https://localhost:8080/"
        }
      },
      "execution_count": 105,
      "outputs": [
        {
          "output_type": "execute_result",
          "data": {
            "text/plain": [
              "10"
            ]
          },
          "metadata": {},
          "execution_count": 105
        }
      ]
    },
    {
      "cell_type": "code",
      "source": [
        "x*=3\n",
        "x"
      ],
      "metadata": {
        "id": "cYdGCkiClfTh",
        "outputId": "2b9e180c-2534-429d-9592-800dcb7f6d45",
        "colab": {
          "base_uri": "https://localhost:8080/"
        }
      },
      "execution_count": 106,
      "outputs": [
        {
          "output_type": "execute_result",
          "data": {
            "text/plain": [
              "30"
            ]
          },
          "metadata": {},
          "execution_count": 106
        }
      ]
    },
    {
      "cell_type": "code",
      "source": [
        "x = 2\n",
        "x**=3\n",
        "x"
      ],
      "metadata": {
        "id": "Q6gy7oYTljHp",
        "outputId": "0acf30ef-0838-41d4-8cfe-2a6464d2ada3",
        "colab": {
          "base_uri": "https://localhost:8080/"
        }
      },
      "execution_count": 107,
      "outputs": [
        {
          "output_type": "execute_result",
          "data": {
            "text/plain": [
              "8"
            ]
          },
          "metadata": {},
          "execution_count": 107
        }
      ]
    },
    {
      "cell_type": "code",
      "source": [
        "2**5"
      ],
      "metadata": {
        "id": "l4Y5IRJkllbR",
        "outputId": "fafb29d1-191c-468a-817b-668c0afa9283",
        "colab": {
          "base_uri": "https://localhost:8080/"
        }
      },
      "execution_count": 108,
      "outputs": [
        {
          "output_type": "execute_result",
          "data": {
            "text/plain": [
              "32"
            ]
          },
          "metadata": {},
          "execution_count": 108
        }
      ]
    },
    {
      "cell_type": "code",
      "source": [],
      "metadata": {
        "id": "tK6f-29CloGJ"
      },
      "execution_count": 108,
      "outputs": []
    },
    {
      "cell_type": "markdown",
      "source": [
        "#Conditions: if,else,elif"
      ],
      "metadata": {
        "id": "rX76i9SOlraV"
      }
    },
    {
      "cell_type": "code",
      "source": [
        "x = int(input('Enter 1st Number: '))\n",
        "y = int(input('Enter 2nd Number: '))\n",
        "\n",
        "if x > y:\n",
        "    print('x is greater than y')\n",
        "else:\n",
        "    print('y is greater than x')\n",
        "    print('Data science')\n",
        "    if x != y: #Nested if \n",
        "        print('Not equal')"
      ],
      "metadata": {
        "id": "tlLub2y1ltPQ",
        "outputId": "0dca6a10-329f-43ff-b9c2-8f7545aaa946",
        "colab": {
          "base_uri": "https://localhost:8080/"
        }
      },
      "execution_count": 109,
      "outputs": [
        {
          "output_type": "stream",
          "name": "stdout",
          "text": [
            "Enter 1st Number: 20\n",
            "Enter 2nd Number: 21\n",
            "y is greater than x\n",
            "Data science\n",
            "Not equal\n"
          ]
        }
      ]
    },
    {
      "cell_type": "markdown",
      "source": [
        "Indentation Rules"
      ],
      "metadata": {
        "id": "2BYEj18-muDF"
      }
    },
    {
      "cell_type": "code",
      "source": [
        "data = input('Enter Your course: ')\n",
        "if data == 'data science':\n",
        "    print('You will have a great future!')\n",
        "    \n",
        "else:\n",
        "    print('Do not worry!You can shine from anything!')\n",
        "          \n",
        "print('Learn Data science whole-heartedly')"
      ],
      "metadata": {
        "id": "_0_joRScl5ux",
        "outputId": "69ed9dbd-3762-46ca-ab61-e30caa0cd613",
        "colab": {
          "base_uri": "https://localhost:8080/"
        }
      },
      "execution_count": 110,
      "outputs": [
        {
          "output_type": "stream",
          "name": "stdout",
          "text": [
            "Enter Your course: Computer science\n",
            "Do not worry!You can shine from anything!\n",
            "Learn Data science whole-heartedly\n"
          ]
        }
      ]
    },
    {
      "cell_type": "code",
      "source": [
        "num1 = float(input('Enter your 1st num: '))\n",
        "num2 = float(input('Enter your 2nd num: '))\n",
        "\n",
        "if num1 % num2 == 0:\n",
        "    print('First number is divisible by second number: ')\n",
        "\n",
        "else:\n",
        "    print('Not divisible')"
      ],
      "metadata": {
        "id": "Nedk982Sm4wA",
        "outputId": "d2230c66-b1aa-4bf8-d6bd-0cd12725f2bf",
        "colab": {
          "base_uri": "https://localhost:8080/"
        }
      },
      "execution_count": 111,
      "outputs": [
        {
          "output_type": "stream",
          "name": "stdout",
          "text": [
            "Enter your 1st num: 20\n",
            "Enter your 2nd num: 50\n",
            "Not divisible\n"
          ]
        }
      ]
    },
    {
      "cell_type": "code",
      "source": [
        "x = float(input('Enter your number: '))\n",
        "if x % 2 == 0:\n",
        "    if x % 5 == 0:\n",
        "        print('x is divisible by both 2 and 5')\n",
        "    \n",
        "    else:\n",
        "        print('x is only divisible by 2')\n",
        "        \n",
        "else:\n",
        "    print('Not divisible')"
      ],
      "metadata": {
        "id": "U8DAh7gqnkVJ",
        "outputId": "6784d665-337e-47d5-e7c6-ad8e4b5007f8",
        "colab": {
          "base_uri": "https://localhost:8080/"
        }
      },
      "execution_count": 112,
      "outputs": [
        {
          "output_type": "stream",
          "name": "stdout",
          "text": [
            "Enter your number: 25\n",
            "Not divisible\n"
          ]
        }
      ]
    },
    {
      "cell_type": "markdown",
      "source": [
        "Import image "
      ],
      "metadata": {
        "id": "g3biGiI8oi0N"
      }
    },
    {
      "cell_type": "code",
      "source": [
        "net_units = float(input('Enter your usage of unit: '))\n",
        "\n",
        "if net_units <= 100:\n",
        "    print('You have no charge.Thank you!')\n",
        "\n",
        "elif net_units > 100 and net_units <= 200:\n",
        "    y = (net_units - 100) * 5\n",
        "    print('You bill is',y)\n",
        "    \n",
        "else:\n",
        "    z = (net_units - 200)*10 + 500\n",
        "    print('Your bill is',z)"
      ],
      "metadata": {
        "id": "osj6c5WMoDbg",
        "outputId": "183f1654-61dd-4dfc-b593-4f11622b006d",
        "colab": {
          "base_uri": "https://localhost:8080/"
        }
      },
      "execution_count": 113,
      "outputs": [
        {
          "output_type": "stream",
          "name": "stdout",
          "text": [
            "Enter your usage of unit: 350\n",
            "Your bill is 2000.0\n"
          ]
        }
      ]
    },
    {
      "cell_type": "markdown",
      "source": [
        "#Assignment: 1"
      ],
      "metadata": {
        "id": "Do1MutLewfge"
      }
    },
    {
      "cell_type": "markdown",
      "source": [
        "Take value of length and breadth of a rectangle from user input() and check if it is square or not."
      ],
      "metadata": {
        "id": "-EtUBENpwuO5"
      }
    },
    {
      "cell_type": "code",
      "source": [
        "length = float(input('Enter the length of a rectangle: '))\n",
        "breadth = float(input('Enter the breadth of a rectangle: '))\n",
        "\n",
        "if length == breadth:\n",
        "    print('Yes, It is a square')\n",
        "else:\n",
        "    print('It is not a square')"
      ],
      "metadata": {
        "id": "pE8Y5Lb3okSx",
        "outputId": "4c18ba5c-ef30-4dbd-e10b-f50344fc0405",
        "colab": {
          "base_uri": "https://localhost:8080/"
        }
      },
      "execution_count": 114,
      "outputs": [
        {
          "output_type": "stream",
          "name": "stdout",
          "text": [
            "Enter the length of a rectangle: 10\n",
            "Enter the breadth of a rectangle: 20\n",
            "It is not a square\n"
          ]
        }
      ]
    },
    {
      "cell_type": "markdown",
      "source": [
        "#Assignment: 2"
      ],
      "metadata": {
        "id": "S8KguJ7jxbWn"
      }
    },
    {
      "cell_type": "markdown",
      "source": [
        "Take three integer values from user and print greatest amoung them."
      ],
      "metadata": {
        "id": "ec_cPvTcxll-"
      }
    },
    {
      "cell_type": "code",
      "source": [
        "num1 = int(input('Enter 1st Number: '))\n",
        "num2 = int(input('Enter 2nd Number: '))\n",
        "num3 = int(input('Enter 3rd Number: '))\n",
        "\n",
        "if (num1 > num2)  and  (num1 > num3):\n",
        "    print('number1 is the largest')\n",
        "\n",
        "elif (num2 > num1)  and (num2 > num3):\n",
        "    print('number2 is the largest value')\n",
        "    \n",
        "else:\n",
        "    print('number3 is the largest value')"
      ],
      "metadata": {
        "id": "i33x3nbtwiKF",
        "outputId": "dbce0c13-7c57-4b0b-ce54-66faa7d39a18",
        "colab": {
          "base_uri": "https://localhost:8080/"
        }
      },
      "execution_count": 115,
      "outputs": [
        {
          "output_type": "stream",
          "name": "stdout",
          "text": [
            "Enter 1st Number: 10\n",
            "Enter 2nd Number: 30\n",
            "Enter 3rd Number: 20\n",
            "number2 is the largest value\n"
          ]
        }
      ]
    },
    {
      "cell_type": "markdown",
      "source": [
        "#Assignment: 3"
      ],
      "metadata": {
        "id": "uSbAWEZuyx8t"
      }
    },
    {
      "cell_type": "markdown",
      "source": [
        "A student will not be allowed to sit in the exam if his/her attendance is less then 75%."
      ],
      "metadata": {
        "id": "jzFe1iL0y7Dg"
      }
    },
    {
      "cell_type": "code",
      "source": [
        "Total_class = int(input('Number of total class: '))\n",
        "Attended = int(input('Number of his/her attended class: '))\n",
        "\n",
        "percent_of_attendance = (Attended/Total_class) * 100\n",
        "\n",
        "if percent_of_attendance >= 75:\n",
        "    print(' Allowed to sit in exam')\n",
        "    \n",
        "else:\n",
        "    print('Not allowed to sit in exam')"
      ],
      "metadata": {
        "id": "4gwQO3qQyJP5",
        "outputId": "db287256-3301-4ca0-b452-b2420714bd25",
        "colab": {
          "base_uri": "https://localhost:8080/"
        }
      },
      "execution_count": 116,
      "outputs": [
        {
          "output_type": "stream",
          "name": "stdout",
          "text": [
            "Number of total class: 78\n",
            "Number of his/her attended class: 63\n",
            " Allowed to sit in exam\n"
          ]
        }
      ]
    },
    {
      "cell_type": "markdown",
      "source": [
        "#Assignment: 4"
      ],
      "metadata": {
        "id": "yMyQjvhg23Ju"
      }
    },
    {
      "cell_type": "markdown",
      "source": [
        "A school has following rules for grading system:\n",
        "Below 25 – F, 25 to 44 – E, 45 to 49 – D, 50 to 59 – C, 60 to 79 – B, 80 to 89 - A, Above 90 - A+\n",
        "Now, Ask user to enter marks and print the corresponding grade."
      ],
      "metadata": {
        "id": "H2-rPj7g0Leh"
      }
    },
    {
      "cell_type": "code",
      "source": [
        "marks = float(input('Enter your marks: '))\n",
        "\n",
        "if (marks >= 80) and (marks <= 89):\n",
        "    print('Your grade is: A')\n",
        "elif (marks >= 60) and (marks <= 79):\n",
        "    print('Your grade is: B')\n",
        "elif (marks >= 50) and (marks <= 59):\n",
        "    print('Your grade is: C')\n",
        "elif (marks >= 45) and (marks <= 49):\n",
        "    print('Your grade is: D')\n",
        "elif (marks >= 25) and (marks <= 44):\n",
        "    print('Your grade is: E')\n",
        "elif marks < 25:\n",
        "    print('Your grade is: F')\n",
        "\n",
        "else:\n",
        "    print('Your grade is: A+')"
      ],
      "metadata": {
        "id": "PHRCaxg00Qxx",
        "outputId": "6947b315-56fa-4d96-c0c7-4c2c58255178",
        "colab": {
          "base_uri": "https://localhost:8080/"
        }
      },
      "execution_count": 117,
      "outputs": [
        {
          "output_type": "stream",
          "name": "stdout",
          "text": [
            "Enter your marks: 72\n",
            "Your grade is: B\n"
          ]
        }
      ]
    },
    {
      "cell_type": "markdown",
      "source": [
        "#For Loop"
      ],
      "metadata": {
        "id": "_qA-XlbR4-rQ"
      }
    },
    {
      "cell_type": "code",
      "source": [
        "data = 'python'\n",
        "data[0]"
      ],
      "metadata": {
        "id": "scSBKv484_uh",
        "outputId": "9d660e7d-5132-46cf-b466-ede35383e22a",
        "colab": {
          "base_uri": "https://localhost:8080/",
          "height": 35
        }
      },
      "execution_count": 118,
      "outputs": [
        {
          "output_type": "execute_result",
          "data": {
            "text/plain": [
              "'p'"
            ],
            "application/vnd.google.colaboratory.intrinsic+json": {
              "type": "string"
            }
          },
          "metadata": {},
          "execution_count": 118
        }
      ]
    },
    {
      "cell_type": "code",
      "source": [
        "data[-1]"
      ],
      "metadata": {
        "id": "ziodT5GGXBlm",
        "outputId": "824f4919-eb11-4a2d-f301-38d31db11eec",
        "colab": {
          "base_uri": "https://localhost:8080/",
          "height": 35
        }
      },
      "execution_count": 119,
      "outputs": [
        {
          "output_type": "execute_result",
          "data": {
            "text/plain": [
              "'n'"
            ],
            "application/vnd.google.colaboratory.intrinsic+json": {
              "type": "string"
            }
          },
          "metadata": {},
          "execution_count": 119
        }
      ]
    },
    {
      "cell_type": "code",
      "source": [
        "for x in data:\n",
        "    print(x)"
      ],
      "metadata": {
        "id": "9lrqhSx3XC7X",
        "outputId": "31278e7b-7eb7-48fe-9422-c1d24d9030de",
        "colab": {
          "base_uri": "https://localhost:8080/"
        }
      },
      "execution_count": 120,
      "outputs": [
        {
          "output_type": "stream",
          "name": "stdout",
          "text": [
            "p\n",
            "y\n",
            "t\n",
            "h\n",
            "o\n",
            "n\n"
          ]
        }
      ]
    },
    {
      "cell_type": "code",
      "source": [
        "for x in data:\n",
        "    print(x, 'x')"
      ],
      "metadata": {
        "id": "E2Yz6ZNlXHkQ",
        "outputId": "00e5ac34-937b-4cd7-bce5-6cec9ebc045f",
        "colab": {
          "base_uri": "https://localhost:8080/"
        }
      },
      "execution_count": 121,
      "outputs": [
        {
          "output_type": "stream",
          "name": "stdout",
          "text": [
            "p x\n",
            "y x\n",
            "t x\n",
            "h x\n",
            "o x\n",
            "n x\n"
          ]
        }
      ]
    },
    {
      "cell_type": "code",
      "source": [
        "range(10)\n",
        "range(0, 10)"
      ],
      "metadata": {
        "id": "pt-0WGuAXL6v",
        "outputId": "ac969ff7-fcc9-4d14-9fbb-bcd89c43de05",
        "colab": {
          "base_uri": "https://localhost:8080/"
        }
      },
      "execution_count": 122,
      "outputs": [
        {
          "output_type": "execute_result",
          "data": {
            "text/plain": [
              "range(0, 10)"
            ]
          },
          "metadata": {},
          "execution_count": 122
        }
      ]
    },
    {
      "cell_type": "code",
      "source": [
        "len(data)"
      ],
      "metadata": {
        "id": "jkqb-Hagf7wM",
        "outputId": "41d2e7e7-0b82-4a84-ff3a-0a3f9dfb5827",
        "colab": {
          "base_uri": "https://localhost:8080/"
        }
      },
      "execution_count": 123,
      "outputs": [
        {
          "output_type": "execute_result",
          "data": {
            "text/plain": [
              "6"
            ]
          },
          "metadata": {},
          "execution_count": 123
        }
      ]
    },
    {
      "cell_type": "code",
      "source": [
        "for x in range(len(data)): \n",
        "    print(data[x])"
      ],
      "metadata": {
        "id": "d9z80TVPgGVz",
        "outputId": "ef65eed0-cf6f-4a16-db28-ef1cbec1961e",
        "colab": {
          "base_uri": "https://localhost:8080/"
        }
      },
      "execution_count": 124,
      "outputs": [
        {
          "output_type": "stream",
          "name": "stdout",
          "text": [
            "p\n",
            "y\n",
            "t\n",
            "h\n",
            "o\n",
            "n\n"
          ]
        }
      ]
    },
    {
      "cell_type": "code",
      "source": [
        "for x in range(6):\n",
        "    print(data[x])"
      ],
      "metadata": {
        "id": "B7KmFiFxgbp7",
        "outputId": "a85781a0-7225-4f54-841a-030f9c5eae94",
        "colab": {
          "base_uri": "https://localhost:8080/"
        }
      },
      "execution_count": 125,
      "outputs": [
        {
          "output_type": "stream",
          "name": "stdout",
          "text": [
            "p\n",
            "y\n",
            "t\n",
            "h\n",
            "o\n",
            "n\n"
          ]
        }
      ]
    },
    {
      "cell_type": "code",
      "source": [
        "data = 'I love Data science'\n",
        "\n",
        "for x in range(len(data)):\n",
        "    print(data[x])"
      ],
      "metadata": {
        "id": "dnoS7DtMgkOd",
        "outputId": "33e283e4-8aa3-4640-d0af-bdd22ba10a19",
        "colab": {
          "base_uri": "https://localhost:8080/"
        }
      },
      "execution_count": 126,
      "outputs": [
        {
          "output_type": "stream",
          "name": "stdout",
          "text": [
            "I\n",
            " \n",
            "l\n",
            "o\n",
            "v\n",
            "e\n",
            " \n",
            "D\n",
            "a\n",
            "t\n",
            "a\n",
            " \n",
            "s\n",
            "c\n",
            "i\n",
            "e\n",
            "n\n",
            "c\n",
            "e\n"
          ]
        }
      ]
    },
    {
      "cell_type": "code",
      "source": [
        "data = 'I love data science'\n",
        "data = data.split()\n",
        "data"
      ],
      "metadata": {
        "id": "l4LHdgFggpiy",
        "outputId": "8b440184-5f8a-4cee-91f0-600f30578907",
        "colab": {
          "base_uri": "https://localhost:8080/"
        }
      },
      "execution_count": 127,
      "outputs": [
        {
          "output_type": "execute_result",
          "data": {
            "text/plain": [
              "['I', 'love', 'data', 'science']"
            ]
          },
          "metadata": {},
          "execution_count": 127
        }
      ]
    },
    {
      "cell_type": "code",
      "source": [
        "for x in range(len(data)):\n",
        "    print(data[x], x)\n"
      ],
      "metadata": {
        "id": "584MIPi7gupj",
        "outputId": "d48f36fd-34e4-4535-e717-97f9ac0e154d",
        "colab": {
          "base_uri": "https://localhost:8080/"
        }
      },
      "execution_count": 128,
      "outputs": [
        {
          "output_type": "stream",
          "name": "stdout",
          "text": [
            "I 0\n",
            "love 1\n",
            "data 2\n",
            "science 3\n"
          ]
        }
      ]
    },
    {
      "cell_type": "code",
      "source": [
        "for i in range(5):\n",
        "    print('Data Science', i)"
      ],
      "metadata": {
        "id": "m5-g6GSHg2r0",
        "outputId": "fa0e98b2-cf48-4bd3-d145-70745bed9b23",
        "colab": {
          "base_uri": "https://localhost:8080/"
        }
      },
      "execution_count": 129,
      "outputs": [
        {
          "output_type": "stream",
          "name": "stdout",
          "text": [
            "Data Science 0\n",
            "Data Science 1\n",
            "Data Science 2\n",
            "Data Science 3\n",
            "Data Science 4\n"
          ]
        }
      ]
    },
    {
      "cell_type": "code",
      "source": [
        "for i in range(5,15):      #Range will end like(n-1).If you put last limit 10, then it will run till 14.\n",
        "    print('Data Science', i)"
      ],
      "metadata": {
        "id": "Yf3zVxCjg8js",
        "outputId": "1c30998a-8d87-4e10-ce68-f4e7778636ea",
        "colab": {
          "base_uri": "https://localhost:8080/"
        }
      },
      "execution_count": 130,
      "outputs": [
        {
          "output_type": "stream",
          "name": "stdout",
          "text": [
            "Data Science 5\n",
            "Data Science 6\n",
            "Data Science 7\n",
            "Data Science 8\n",
            "Data Science 9\n",
            "Data Science 10\n",
            "Data Science 11\n",
            "Data Science 12\n",
            "Data Science 13\n",
            "Data Science 14\n"
          ]
        }
      ]
    },
    {
      "cell_type": "code",
      "source": [
        "for i in range(5,15,2):\n",
        "    print('data science',i)  "
      ],
      "metadata": {
        "id": "iUiNH90thA1s",
        "outputId": "89c549dc-ee3a-4ef4-9b7e-eb2a7d20a1d3",
        "colab": {
          "base_uri": "https://localhost:8080/"
        }
      },
      "execution_count": 131,
      "outputs": [
        {
          "output_type": "stream",
          "name": "stdout",
          "text": [
            "data science 5\n",
            "data science 7\n",
            "data science 9\n",
            "data science 11\n",
            "data science 13\n"
          ]
        }
      ]
    },
    {
      "cell_type": "code",
      "source": [
        "for i in range(100,50,-10):\n",
        "         print('data science',i)"
      ],
      "metadata": {
        "id": "d-rlRRZMhN1C",
        "outputId": "646b3133-26ab-4e05-f187-be8b9352a721",
        "colab": {
          "base_uri": "https://localhost:8080/"
        }
      },
      "execution_count": 132,
      "outputs": [
        {
          "output_type": "stream",
          "name": "stdout",
          "text": [
            "data science 100\n",
            "data science 90\n",
            "data science 80\n",
            "data science 70\n",
            "data science 60\n"
          ]
        }
      ]
    },
    {
      "cell_type": "code",
      "source": [
        "for i in range(50,0,-2):\n",
        "         print('Data science',i) "
      ],
      "metadata": {
        "id": "QonmeFvbhRJk",
        "outputId": "a878cc27-0ed3-48c0-a6ab-666e7ba0d877",
        "colab": {
          "base_uri": "https://localhost:8080/"
        }
      },
      "execution_count": 133,
      "outputs": [
        {
          "output_type": "stream",
          "name": "stdout",
          "text": [
            "Data science 50\n",
            "Data science 48\n",
            "Data science 46\n",
            "Data science 44\n",
            "Data science 42\n",
            "Data science 40\n",
            "Data science 38\n",
            "Data science 36\n",
            "Data science 34\n",
            "Data science 32\n",
            "Data science 30\n",
            "Data science 28\n",
            "Data science 26\n",
            "Data science 24\n",
            "Data science 22\n",
            "Data science 20\n",
            "Data science 18\n",
            "Data science 16\n",
            "Data science 14\n",
            "Data science 12\n",
            "Data science 10\n",
            "Data science 8\n",
            "Data science 6\n",
            "Data science 4\n",
            "Data science 2\n"
          ]
        }
      ]
    },
    {
      "cell_type": "code",
      "source": [
        "n = [2,3,5,10,20,50,65]\n",
        "sum_1 = 0\n",
        "\n",
        "for i in n:\n",
        "    sum_1 = sum_1 + i\n",
        "    print('The sum is: ', sum_1)\n",
        "    \n",
        "print('Overall total: ', sum_1)"
      ],
      "metadata": {
        "id": "VmLUXZSThYAb",
        "outputId": "ed0a6a11-c581-40f8-e4dc-7d97d8f6a2b2",
        "colab": {
          "base_uri": "https://localhost:8080/"
        }
      },
      "execution_count": 134,
      "outputs": [
        {
          "output_type": "stream",
          "name": "stdout",
          "text": [
            "The sum is:  2\n",
            "The sum is:  5\n",
            "The sum is:  10\n",
            "The sum is:  20\n",
            "The sum is:  40\n",
            "The sum is:  90\n",
            "The sum is:  155\n",
            "Overall total:  155\n"
          ]
        }
      ]
    },
    {
      "cell_type": "markdown",
      "source": [
        "#Exercise 1:"
      ],
      "metadata": {
        "id": "lqtWdzUWiGb7"
      }
    },
    {
      "cell_type": "markdown",
      "source": [
        "Display numbers from -100 to -10 using while loop."
      ],
      "metadata": {
        "id": "ow4YqRT7iJg5"
      }
    },
    {
      "cell_type": "code",
      "source": [
        "for i in range(-100,-9): #print -100 to -10 using for loop.\n",
        "    print(i, end = '  \\n')"
      ],
      "metadata": {
        "id": "d4SIlktyiPbE",
        "outputId": "c5335767-8033-44ac-b6e1-a0eaefa860be",
        "colab": {
          "base_uri": "https://localhost:8080/"
        }
      },
      "execution_count": 135,
      "outputs": [
        {
          "output_type": "stream",
          "name": "stdout",
          "text": [
            "-100  \n",
            "-99  \n",
            "-98  \n",
            "-97  \n",
            "-96  \n",
            "-95  \n",
            "-94  \n",
            "-93  \n",
            "-92  \n",
            "-91  \n",
            "-90  \n",
            "-89  \n",
            "-88  \n",
            "-87  \n",
            "-86  \n",
            "-85  \n",
            "-84  \n",
            "-83  \n",
            "-82  \n",
            "-81  \n",
            "-80  \n",
            "-79  \n",
            "-78  \n",
            "-77  \n",
            "-76  \n",
            "-75  \n",
            "-74  \n",
            "-73  \n",
            "-72  \n",
            "-71  \n",
            "-70  \n",
            "-69  \n",
            "-68  \n",
            "-67  \n",
            "-66  \n",
            "-65  \n",
            "-64  \n",
            "-63  \n",
            "-62  \n",
            "-61  \n",
            "-60  \n",
            "-59  \n",
            "-58  \n",
            "-57  \n",
            "-56  \n",
            "-55  \n",
            "-54  \n",
            "-53  \n",
            "-52  \n",
            "-51  \n",
            "-50  \n",
            "-49  \n",
            "-48  \n",
            "-47  \n",
            "-46  \n",
            "-45  \n",
            "-44  \n",
            "-43  \n",
            "-42  \n",
            "-41  \n",
            "-40  \n",
            "-39  \n",
            "-38  \n",
            "-37  \n",
            "-36  \n",
            "-35  \n",
            "-34  \n",
            "-33  \n",
            "-32  \n",
            "-31  \n",
            "-30  \n",
            "-29  \n",
            "-28  \n",
            "-27  \n",
            "-26  \n",
            "-25  \n",
            "-24  \n",
            "-23  \n",
            "-22  \n",
            "-21  \n",
            "-20  \n",
            "-19  \n",
            "-18  \n",
            "-17  \n",
            "-16  \n",
            "-15  \n",
            "-14  \n",
            "-13  \n",
            "-12  \n",
            "-11  \n",
            "-10  \n"
          ]
        }
      ]
    },
    {
      "cell_type": "markdown",
      "source": [
        "#Exercise 2:"
      ],
      "metadata": {
        "id": "uWqQRLcJitFf"
      }
    },
    {
      "cell_type": "markdown",
      "source": [
        "Write a program to sum all prime numbers within a range 10 to 1000."
      ],
      "metadata": {
        "id": "gzJ01kbDiyHZ"
      }
    },
    {
      "cell_type": "code",
      "source": [
        "start = 10\n",
        "end = 1000\n",
        "sum = 0\n",
        "\n",
        "for i in range(start,end+1):\n",
        "    for j in range(2,i):\n",
        "        if (i % j == 0):\n",
        "            break\n",
        "            \n",
        "    else:\n",
        "        sum = sum + i\n",
        "\n",
        "print('The sum is: ',sum)"
      ],
      "metadata": {
        "id": "UDeDyMzCiulD",
        "outputId": "f574e1a6-d5f5-428e-abfa-03e08f29c6a5",
        "colab": {
          "base_uri": "https://localhost:8080/"
        }
      },
      "execution_count": 136,
      "outputs": [
        {
          "output_type": "stream",
          "name": "stdout",
          "text": [
            "The sum is:  76110\n"
          ]
        }
      ]
    },
    {
      "cell_type": "markdown",
      "source": [
        "#Exercise 3:"
      ],
      "metadata": {
        "id": "G33N3AcFjWKb"
      }
    },
    {
      "cell_type": "markdown",
      "source": [
        "Find the factorial of a n!."
      ],
      "metadata": {
        "id": "OZQ70L0ajacw"
      }
    },
    {
      "cell_type": "code",
      "source": [
        "num = int(input('Enter a number: '))\n",
        "total = 1\n",
        "\n",
        "for i in range(num):\n",
        "    i += 1\n",
        "    total *= i\n",
        "\n",
        "print(total)"
      ],
      "metadata": {
        "id": "ncoBiqgmjXO7",
        "outputId": "24a259bc-dbea-4c23-fd9d-5397c26bea04",
        "colab": {
          "base_uri": "https://localhost:8080/"
        }
      },
      "execution_count": 137,
      "outputs": [
        {
          "output_type": "stream",
          "name": "stdout",
          "text": [
            "Enter a number: 10\n",
            "3628800\n"
          ]
        }
      ]
    },
    {
      "cell_type": "markdown",
      "source": [
        "#Exercise 4:"
      ],
      "metadata": {
        "id": "twBQjzQxkK4t"
      }
    },
    {
      "cell_type": "markdown",
      "source": [
        "Reverse a given integer number 27956240710"
      ],
      "metadata": {
        "id": "1Uu8p-UhkOea"
      }
    },
    {
      "cell_type": "code",
      "source": [
        "num = 27956240710\n",
        "reversed_num = 0\n",
        "\n",
        "while num != 0:\n",
        "    digit = num % 10\n",
        "    reversed_num = reversed_num * 10 + digit\n",
        "    num //= 10\n",
        "\n",
        "print(\"Reversed Number: \" + str(reversed_num))"
      ],
      "metadata": {
        "id": "-IX-cQTGkMpr",
        "outputId": "4ba94ddb-ed5d-4913-b4d2-9be6a5aa7dcd",
        "colab": {
          "base_uri": "https://localhost:8080/"
        }
      },
      "execution_count": 1,
      "outputs": [
        {
          "output_type": "stream",
          "name": "stdout",
          "text": [
            "Reversed Number: 1704265972\n"
          ]
        }
      ]
    },
    {
      "cell_type": "markdown",
      "source": [
        "#While Loop"
      ],
      "metadata": {
        "id": "pIHuwCU4mXGB"
      }
    },
    {
      "cell_type": "code",
      "source": [
        "count = 0 \n",
        "\n",
        "while (count<5):\n",
        "    count = count + 1;\n",
        "    print('Study Mart', count)"
      ],
      "metadata": {
        "id": "C0Dy0xdimZR7",
        "outputId": "4688fd8e-ec11-4a2b-ca55-56fb21b9d23b",
        "colab": {
          "base_uri": "https://localhost:8080/"
        }
      },
      "execution_count": 2,
      "outputs": [
        {
          "output_type": "stream",
          "name": "stdout",
          "text": [
            "Study Mart 1\n",
            "Study Mart 2\n",
            "Study Mart 3\n",
            "Study Mart 4\n",
            "Study Mart 5\n"
          ]
        }
      ]
    },
    {
      "cell_type": "code",
      "source": [
        "count = 0\n",
        "\n",
        "while (count<5):\n",
        "    print('Study Mart', count)\n",
        "    count = count + 1"
      ],
      "metadata": {
        "id": "wqw2mPt57H-M",
        "outputId": "ccee5565-9784-4967-add8-3cad9a39b9d2",
        "colab": {
          "base_uri": "https://localhost:8080/"
        }
      },
      "execution_count": 3,
      "outputs": [
        {
          "output_type": "stream",
          "name": "stdout",
          "text": [
            "Study Mart 0\n",
            "Study Mart 1\n",
            "Study Mart 2\n",
            "Study Mart 3\n",
            "Study Mart 4\n"
          ]
        }
      ]
    },
    {
      "cell_type": "code",
      "source": [
        "i = 0 \n",
        "\n",
        "while i<=10:\n",
        "    print('Study Mart', i)\n",
        "    i += 1"
      ],
      "metadata": {
        "id": "pOdsxx7R7Kd0",
        "outputId": "03f89841-6704-42c5-a3d8-b2770ec227b2",
        "colab": {
          "base_uri": "https://localhost:8080/"
        }
      },
      "execution_count": 4,
      "outputs": [
        {
          "output_type": "stream",
          "name": "stdout",
          "text": [
            "Study Mart 0\n",
            "Study Mart 1\n",
            "Study Mart 2\n",
            "Study Mart 3\n",
            "Study Mart 4\n",
            "Study Mart 5\n",
            "Study Mart 6\n",
            "Study Mart 7\n",
            "Study Mart 8\n",
            "Study Mart 9\n",
            "Study Mart 10\n"
          ]
        }
      ]
    },
    {
      "cell_type": "code",
      "source": [
        "i = 0 \n",
        "\n",
        "while i<=10:\n",
        "    print('Study Mart', i)\n",
        "    i += 2"
      ],
      "metadata": {
        "id": "DrhRdxgd7Mtc",
        "outputId": "07e47c89-ebd5-403a-a7fa-632bb76271c3",
        "colab": {
          "base_uri": "https://localhost:8080/"
        }
      },
      "execution_count": 5,
      "outputs": [
        {
          "output_type": "stream",
          "name": "stdout",
          "text": [
            "Study Mart 0\n",
            "Study Mart 2\n",
            "Study Mart 4\n",
            "Study Mart 6\n",
            "Study Mart 8\n",
            "Study Mart 10\n"
          ]
        }
      ]
    },
    {
      "cell_type": "code",
      "source": [
        "data = 'python'\n",
        "len(data)"
      ],
      "metadata": {
        "id": "Dwg_5-bW7PIE",
        "outputId": "1873087a-d362-4be4-a8c3-00235078b132",
        "colab": {
          "base_uri": "https://localhost:8080/"
        }
      },
      "execution_count": 6,
      "outputs": [
        {
          "output_type": "execute_result",
          "data": {
            "text/plain": [
              "6"
            ]
          },
          "metadata": {},
          "execution_count": 6
        }
      ]
    },
    {
      "cell_type": "code",
      "source": [
        "data = 'python'\n",
        "index = 0\n",
        "\n",
        "while index < len(data):\n",
        "    print(data[index])\n",
        "    index += 1"
      ],
      "metadata": {
        "id": "bG6vHxD17Rxk",
        "outputId": "83d15781-3084-4a04-b38f-5dcfd18556ea",
        "colab": {
          "base_uri": "https://localhost:8080/"
        }
      },
      "execution_count": 7,
      "outputs": [
        {
          "output_type": "stream",
          "name": "stdout",
          "text": [
            "p\n",
            "y\n",
            "t\n",
            "h\n",
            "o\n",
            "n\n"
          ]
        }
      ]
    },
    {
      "cell_type": "code",
      "source": [
        "data = 'I love data science so much'\n",
        "data = data.split()\n",
        "index = 0 \n",
        "\n",
        "while index < len(data):\n",
        "    print(data[index])\n",
        "    index += 1"
      ],
      "metadata": {
        "id": "qM5TGtyA7TqE",
        "outputId": "c4bc2391-aa2b-4fe0-a9d8-481f2879098a",
        "colab": {
          "base_uri": "https://localhost:8080/"
        }
      },
      "execution_count": 8,
      "outputs": [
        {
          "output_type": "stream",
          "name": "stdout",
          "text": [
            "I\n",
            "love\n",
            "data\n",
            "science\n",
            "so\n",
            "much\n"
          ]
        }
      ]
    },
    {
      "cell_type": "code",
      "source": [
        "n = [2,3,5,66,78,120,67]\n",
        "len(n)"
      ],
      "metadata": {
        "id": "BjqBGr2L7VzN",
        "outputId": "16ae97e4-16e1-4780-ce98-815f3d35b71f",
        "colab": {
          "base_uri": "https://localhost:8080/"
        }
      },
      "execution_count": 9,
      "outputs": [
        {
          "output_type": "execute_result",
          "data": {
            "text/plain": [
              "7"
            ]
          },
          "metadata": {},
          "execution_count": 9
        }
      ]
    },
    {
      "cell_type": "code",
      "source": [
        "n = [2,3,5,66,78,120,67]\n",
        "index = 0 \n",
        "sum_1 = 0\n",
        "\n",
        "while index < len(n):\n",
        "    sum_1 = sum_1 + n[index]\n",
        "    index += 1\n",
        "    print('The sum is: ',sum_1)\n",
        "    \n",
        "print('The overall sum is: ',sum_1)"
      ],
      "metadata": {
        "id": "BQLGT4a27ce8",
        "outputId": "a57e675f-4865-48da-8cb2-2d8f5fbdf528",
        "colab": {
          "base_uri": "https://localhost:8080/"
        }
      },
      "execution_count": 10,
      "outputs": [
        {
          "output_type": "stream",
          "name": "stdout",
          "text": [
            "The sum is:  2\n",
            "The sum is:  5\n",
            "The sum is:  10\n",
            "The sum is:  76\n",
            "The sum is:  154\n",
            "The sum is:  274\n",
            "The sum is:  341\n",
            "The overall sum is:  341\n"
          ]
        }
      ]
    },
    {
      "cell_type": "code",
      "source": [],
      "metadata": {
        "id": "0tbUJVgK7dVl"
      },
      "execution_count": null,
      "outputs": []
    },
    {
      "cell_type": "markdown",
      "source": [
        "#Nested Loop"
      ],
      "metadata": {
        "id": "TIy1dIka7igq"
      }
    },
    {
      "cell_type": "code",
      "source": [
        "n = int(input('Enter the number of rows: ')) \n",
        "\n",
        "for i in range(n):\n",
        "    for j in range(i+1):\n",
        "        print('#',end = ' ')\n",
        "    print()"
      ],
      "metadata": {
        "id": "-pQVMOuK7jcT",
        "outputId": "ecbaa074-0910-418c-d238-9e19c6f0be2a",
        "colab": {
          "base_uri": "https://localhost:8080/"
        }
      },
      "execution_count": 11,
      "outputs": [
        {
          "output_type": "stream",
          "name": "stdout",
          "text": [
            "Enter the number of rows: 7\n",
            "# \n",
            "# # \n",
            "# # # \n",
            "# # # # \n",
            "# # # # # \n",
            "# # # # # # \n",
            "# # # # # # # \n"
          ]
        }
      ]
    },
    {
      "cell_type": "code",
      "source": [
        "n = int(input('Enter the number of rows: ')) \n",
        "\n",
        "for i in range(n):\n",
        "    for j in range(n-i):\n",
        "        print('#',end = ' ')\n",
        "    print()"
      ],
      "metadata": {
        "id": "U_otRY0D74im",
        "outputId": "eeff2449-f742-481a-d70c-178620aa07e4",
        "colab": {
          "base_uri": "https://localhost:8080/"
        }
      },
      "execution_count": 12,
      "outputs": [
        {
          "output_type": "stream",
          "name": "stdout",
          "text": [
            "Enter the number of rows: 7\n",
            "# # # # # # # \n",
            "# # # # # # \n",
            "# # # # # \n",
            "# # # # \n",
            "# # # \n",
            "# # \n",
            "# \n"
          ]
        }
      ]
    },
    {
      "cell_type": "code",
      "source": [
        "n = int(input('Enter the number of rows: '))\n",
        "\n",
        "for i in range(n):\n",
        "    for j in range(n-i-1):\n",
        "        print(' ', end = ' ')\n",
        "    for j in range(i+1):\n",
        "        print('*', end = \" \")\n",
        "    print( )"
      ],
      "metadata": {
        "id": "rczDWLHM79hs",
        "outputId": "2c5b6937-81ea-4d31-f559-3a2dfe2c77a4",
        "colab": {
          "base_uri": "https://localhost:8080/"
        }
      },
      "execution_count": 13,
      "outputs": [
        {
          "output_type": "stream",
          "name": "stdout",
          "text": [
            "Enter the number of rows: 5\n",
            "        * \n",
            "      * * \n",
            "    * * * \n",
            "  * * * * \n",
            "* * * * * \n"
          ]
        }
      ]
    },
    {
      "cell_type": "code",
      "source": [
        "n = int(input('Enter the number of rows: '))\n",
        "\n",
        "for i in range(n):\n",
        "    for j in range(n-i-1):\n",
        "        print(' ', end = ' ')\n",
        "    for j in range(2*i+1):\n",
        "        print('*',end = ' ')\n",
        "    print()"
      ],
      "metadata": {
        "id": "M71RT1D-8GI8",
        "outputId": "1ef7ab8e-c799-46a9-87d8-5d78b2cd0ba7",
        "colab": {
          "base_uri": "https://localhost:8080/"
        }
      },
      "execution_count": 14,
      "outputs": [
        {
          "output_type": "stream",
          "name": "stdout",
          "text": [
            "Enter the number of rows: 8\n",
            "              * \n",
            "            * * * \n",
            "          * * * * * \n",
            "        * * * * * * * \n",
            "      * * * * * * * * * \n",
            "    * * * * * * * * * * * \n",
            "  * * * * * * * * * * * * * \n",
            "* * * * * * * * * * * * * * * \n"
          ]
        }
      ]
    },
    {
      "cell_type": "code",
      "source": [
        "n = int(input('Enter the number of rows: '))\n",
        "\n",
        "for i in range(n):\n",
        "    for j in range(n-i-1):\n",
        "        print(' ', end = ' ')\n",
        "    for j in range(i+1):\n",
        "        print('* ',end = '  ')\n",
        "    print()"
      ],
      "metadata": {
        "id": "QlYgbx7W8J8b",
        "outputId": "ccee8a72-509e-474e-ea0d-f5bb24fbaa40",
        "colab": {
          "base_uri": "https://localhost:8080/"
        }
      },
      "execution_count": 15,
      "outputs": [
        {
          "output_type": "stream",
          "name": "stdout",
          "text": [
            "Enter the number of rows: 8\n",
            "              *   \n",
            "            *   *   \n",
            "          *   *   *   \n",
            "        *   *   *   *   \n",
            "      *   *   *   *   *   \n",
            "    *   *   *   *   *   *   \n",
            "  *   *   *   *   *   *   *   \n",
            "*   *   *   *   *   *   *   *   \n"
          ]
        }
      ]
    },
    {
      "cell_type": "code",
      "source": [],
      "metadata": {
        "id": "UHV7gDIO8iTU"
      },
      "execution_count": null,
      "outputs": []
    }
  ]
}