{
  "nbformat": 4,
  "nbformat_minor": 0,
  "metadata": {
    "colab": {
      "provenance": [],
      "authorship_tag": "ABX9TyNSuyR0u5tivYaAF6ktR4cU",
      "include_colab_link": true
    },
    "kernelspec": {
      "name": "python3",
      "display_name": "Python 3"
    },
    "language_info": {
      "name": "python"
    }
  },
  "cells": [
    {
      "cell_type": "markdown",
      "metadata": {
        "id": "view-in-github",
        "colab_type": "text"
      },
      "source": [
        "<a href=\"https://colab.research.google.com/github/MeSamiulIslam/aiQuest/blob/main/Class_3_practice.ipynb\" target=\"_parent\"><img src=\"https://colab.research.google.com/assets/colab-badge.svg\" alt=\"Open In Colab\"/></a>"
      ]
    },
    {
      "cell_type": "markdown",
      "source": [
        "#List"
      ],
      "metadata": {
        "id": "o-UhxWpt30Gd"
      }
    },
    {
      "cell_type": "code",
      "source": [
        "l1 = [1,5,5,6,8,9,8,10]"
      ],
      "metadata": {
        "id": "sNKfMjEd33Yr"
      },
      "execution_count": 1,
      "outputs": []
    },
    {
      "cell_type": "code",
      "source": [
        "l1"
      ],
      "metadata": {
        "colab": {
          "base_uri": "https://localhost:8080/"
        },
        "id": "rQ27dM1v39rh",
        "outputId": "8a3ca98e-de3f-499c-959d-11322faff8a6"
      },
      "execution_count": 3,
      "outputs": [
        {
          "output_type": "execute_result",
          "data": {
            "text/plain": [
              "[1, 5, 5, 6, 8, 9, 8, 10]"
            ]
          },
          "metadata": {},
          "execution_count": 3
        }
      ]
    },
    {
      "cell_type": "code",
      "source": [
        "type(l1)"
      ],
      "metadata": {
        "colab": {
          "base_uri": "https://localhost:8080/"
        },
        "id": "TyzdnJO34EHj",
        "outputId": "0da665aa-9c53-4bda-8f12-ebf590c25307"
      },
      "execution_count": 4,
      "outputs": [
        {
          "output_type": "execute_result",
          "data": {
            "text/plain": [
              "list"
            ]
          },
          "metadata": {},
          "execution_count": 4
        }
      ]
    },
    {
      "cell_type": "code",
      "source": [
        "l1[0] #INDEX"
      ],
      "metadata": {
        "colab": {
          "base_uri": "https://localhost:8080/"
        },
        "id": "PznQX8Qo4IzE",
        "outputId": "fb241411-6ba9-46b9-9353-c75746a51c37"
      },
      "execution_count": 6,
      "outputs": [
        {
          "output_type": "execute_result",
          "data": {
            "text/plain": [
              "1"
            ]
          },
          "metadata": {},
          "execution_count": 6
        }
      ]
    },
    {
      "cell_type": "code",
      "source": [
        "l1[-1]"
      ],
      "metadata": {
        "colab": {
          "base_uri": "https://localhost:8080/"
        },
        "id": "-9MkggEP4QHD",
        "outputId": "71fb3fcc-066f-4c91-e1f7-24188b106c36"
      },
      "execution_count": 8,
      "outputs": [
        {
          "output_type": "execute_result",
          "data": {
            "text/plain": [
              "10"
            ]
          },
          "metadata": {},
          "execution_count": 8
        }
      ]
    },
    {
      "cell_type": "code",
      "source": [
        "l1[0:2]"
      ],
      "metadata": {
        "colab": {
          "base_uri": "https://localhost:8080/"
        },
        "id": "80xIMYKC4Wzb",
        "outputId": "c14e609e-c6d1-4b04-936a-f298f5f101ef"
      },
      "execution_count": 9,
      "outputs": [
        {
          "output_type": "execute_result",
          "data": {
            "text/plain": [
              "[1, 5]"
            ]
          },
          "metadata": {},
          "execution_count": 9
        }
      ]
    },
    {
      "cell_type": "code",
      "source": [
        "l1[0] = 'Data science'"
      ],
      "metadata": {
        "id": "aiVsSgXW4bZj"
      },
      "execution_count": 10,
      "outputs": []
    },
    {
      "cell_type": "code",
      "source": [
        "l1"
      ],
      "metadata": {
        "colab": {
          "base_uri": "https://localhost:8080/"
        },
        "id": "5mcGDRT24rFa",
        "outputId": "8ecc4b48-2767-4c8d-b470-5ae080b4f8cb"
      },
      "execution_count": 11,
      "outputs": [
        {
          "output_type": "execute_result",
          "data": {
            "text/plain": [
              "['Data science', 5, 5, 6, 8, 9, 8, 10]"
            ]
          },
          "metadata": {},
          "execution_count": 11
        }
      ]
    },
    {
      "cell_type": "code",
      "source": [
        "l1.append('AI')"
      ],
      "metadata": {
        "id": "M3kf9DOS4scS"
      },
      "execution_count": 13,
      "outputs": []
    },
    {
      "cell_type": "code",
      "source": [
        "l1"
      ],
      "metadata": {
        "colab": {
          "base_uri": "https://localhost:8080/"
        },
        "id": "YcRT7F2D41bK",
        "outputId": "6d13574d-8522-4031-8c41-0dbf673e50e4"
      },
      "execution_count": 14,
      "outputs": [
        {
          "output_type": "execute_result",
          "data": {
            "text/plain": [
              "['Data science', 5, 5, 6, 8, 9, 8, 10, 'AI']"
            ]
          },
          "metadata": {},
          "execution_count": 14
        }
      ]
    },
    {
      "cell_type": "code",
      "source": [
        "import sys\n",
        "sys.getsizeof(l1)"
      ],
      "metadata": {
        "colab": {
          "base_uri": "https://localhost:8080/"
        },
        "id": "lMf1RiAs47Ia",
        "outputId": "e4af392d-c71d-4d36-bdf5-2eb3254bf230"
      },
      "execution_count": 15,
      "outputs": [
        {
          "output_type": "execute_result",
          "data": {
            "text/plain": [
              "184"
            ]
          },
          "metadata": {},
          "execution_count": 15
        }
      ]
    },
    {
      "cell_type": "code",
      "source": [
        "l1.pop()"
      ],
      "metadata": {
        "colab": {
          "base_uri": "https://localhost:8080/",
          "height": 35
        },
        "id": "hNsb7dEh5KcE",
        "outputId": "64dde686-a093-4279-ae07-ff4cc387b3f5"
      },
      "execution_count": 16,
      "outputs": [
        {
          "output_type": "execute_result",
          "data": {
            "text/plain": [
              "'AI'"
            ],
            "application/vnd.google.colaboratory.intrinsic+json": {
              "type": "string"
            }
          },
          "metadata": {},
          "execution_count": 16
        }
      ]
    },
    {
      "cell_type": "code",
      "source": [
        "l1"
      ],
      "metadata": {
        "colab": {
          "base_uri": "https://localhost:8080/"
        },
        "id": "iqicXmAO57CL",
        "outputId": "65d88c17-8c66-4d32-e27e-2061d2e23f5b"
      },
      "execution_count": 17,
      "outputs": [
        {
          "output_type": "execute_result",
          "data": {
            "text/plain": [
              "['Data science', 5, 5, 6, 8, 9, 8, 10]"
            ]
          },
          "metadata": {},
          "execution_count": 17
        }
      ]
    },
    {
      "cell_type": "code",
      "source": [
        "l1.pop()"
      ],
      "metadata": {
        "colab": {
          "base_uri": "https://localhost:8080/"
        },
        "id": "GRrcc34h584S",
        "outputId": "7b7166fc-2ae3-4a48-ba3b-fc11c21de3b3"
      },
      "execution_count": 18,
      "outputs": [
        {
          "output_type": "execute_result",
          "data": {
            "text/plain": [
              "10"
            ]
          },
          "metadata": {},
          "execution_count": 18
        }
      ]
    },
    {
      "cell_type": "code",
      "source": [
        "l1"
      ],
      "metadata": {
        "colab": {
          "base_uri": "https://localhost:8080/"
        },
        "id": "259tFysf6Hlq",
        "outputId": "eb29e765-1872-4af5-dc82-f0351ff8d67c"
      },
      "execution_count": 19,
      "outputs": [
        {
          "output_type": "execute_result",
          "data": {
            "text/plain": [
              "['Data science', 5, 5, 6, 8, 9, 8]"
            ]
          },
          "metadata": {},
          "execution_count": 19
        }
      ]
    },
    {
      "cell_type": "code",
      "source": [
        "l1.pop(1)"
      ],
      "metadata": {
        "colab": {
          "base_uri": "https://localhost:8080/"
        },
        "id": "jhiDthV_6IgK",
        "outputId": "d2dc3df4-bbcb-403e-c507-c2fb048253a4"
      },
      "execution_count": 20,
      "outputs": [
        {
          "output_type": "execute_result",
          "data": {
            "text/plain": [
              "5"
            ]
          },
          "metadata": {},
          "execution_count": 20
        }
      ]
    },
    {
      "cell_type": "code",
      "source": [
        "l1"
      ],
      "metadata": {
        "colab": {
          "base_uri": "https://localhost:8080/"
        },
        "id": "tybcuwNU6OsK",
        "outputId": "dd771efa-2b35-47cf-cfc5-52490f39053c"
      },
      "execution_count": 21,
      "outputs": [
        {
          "output_type": "execute_result",
          "data": {
            "text/plain": [
              "['Data science', 5, 6, 8, 9, 8]"
            ]
          },
          "metadata": {},
          "execution_count": 21
        }
      ]
    },
    {
      "cell_type": "markdown",
      "source": [
        "creationg list with list constructor"
      ],
      "metadata": {
        "id": "1fmovdX_6YwW"
      }
    },
    {
      "cell_type": "code",
      "source": [
        "l2 = list((1,2,4,6,(7,6,4)))"
      ],
      "metadata": {
        "id": "Kle6jYFT6dPi"
      },
      "execution_count": 22,
      "outputs": []
    },
    {
      "cell_type": "code",
      "source": [
        "l2"
      ],
      "metadata": {
        "colab": {
          "base_uri": "https://localhost:8080/"
        },
        "id": "EaM_B-2n6s8y",
        "outputId": "387a0f31-1a0b-446c-a7d4-0d0724e111ea"
      },
      "execution_count": 23,
      "outputs": [
        {
          "output_type": "execute_result",
          "data": {
            "text/plain": [
              "[1, 2, 4, 6, (7, 6, 4)]"
            ]
          },
          "metadata": {},
          "execution_count": 23
        }
      ]
    },
    {
      "cell_type": "code",
      "source": [
        "type(l2)"
      ],
      "metadata": {
        "colab": {
          "base_uri": "https://localhost:8080/"
        },
        "id": "AYHtpdFP6tnp",
        "outputId": "a87f9259-30ec-4055-98cc-83324480cd5a"
      },
      "execution_count": 24,
      "outputs": [
        {
          "output_type": "execute_result",
          "data": {
            "text/plain": [
              "list"
            ]
          },
          "metadata": {},
          "execution_count": 24
        }
      ]
    },
    {
      "cell_type": "code",
      "source": [
        "l2[2]"
      ],
      "metadata": {
        "colab": {
          "base_uri": "https://localhost:8080/"
        },
        "id": "54ESWHjr6yDq",
        "outputId": "124618ca-e12d-4ec9-9cbb-4a53fd6b370c"
      },
      "execution_count": 25,
      "outputs": [
        {
          "output_type": "execute_result",
          "data": {
            "text/plain": [
              "4"
            ]
          },
          "metadata": {},
          "execution_count": 25
        }
      ]
    },
    {
      "cell_type": "code",
      "source": [
        "l2[4][0]"
      ],
      "metadata": {
        "colab": {
          "base_uri": "https://localhost:8080/"
        },
        "id": "YyKnItVj64Ya",
        "outputId": "9193f88f-55c5-4835-b900-b9a615208aff"
      },
      "execution_count": 27,
      "outputs": [
        {
          "output_type": "execute_result",
          "data": {
            "text/plain": [
              "7"
            ]
          },
          "metadata": {},
          "execution_count": 27
        }
      ]
    },
    {
      "cell_type": "code",
      "source": [],
      "metadata": {
        "id": "GGsxdG8P68by"
      },
      "execution_count": null,
      "outputs": []
    },
    {
      "cell_type": "markdown",
      "source": [
        "Input list form user"
      ],
      "metadata": {
        "id": "nbAJdrB-7Od2"
      }
    },
    {
      "cell_type": "code",
      "source": [
        "l3 = []\n",
        "n = int(input('Enter your index: '))\n",
        "\n",
        "for i in range(n): \n",
        "  new = input()\n",
        "  l3.append(new)\n",
        "  print(l3)"
      ],
      "metadata": {
        "colab": {
          "base_uri": "https://localhost:8080/"
        },
        "id": "Uq4uaBeT7Rbr",
        "outputId": "e3352018-8bfd-41c8-a14c-cf60c94ec916"
      },
      "execution_count": 28,
      "outputs": [
        {
          "output_type": "stream",
          "name": "stdout",
          "text": [
            "Enter your index: 2\n",
            "20\n",
            "['20']\n",
            "10\n",
            "['20', '10']\n"
          ]
        }
      ]
    },
    {
      "cell_type": "code",
      "source": [
        "l3 = []\n",
        "n = int(input('Enter your index: '))\n",
        "\n",
        "for i in range(n): \n",
        "  new = input()\n",
        "  l3.append(new)\n",
        "print(l3)"
      ],
      "metadata": {
        "colab": {
          "base_uri": "https://localhost:8080/"
        },
        "id": "bc4iRBa28J8D",
        "outputId": "4ffa325d-78d6-406c-fef7-6f7ae5eadd6c"
      },
      "execution_count": 29,
      "outputs": [
        {
          "output_type": "stream",
          "name": "stdout",
          "text": [
            "Enter your index: 3\n",
            "10\n",
            "20\n",
            "30\n",
            "['10', '20', '30']\n"
          ]
        }
      ]
    },
    {
      "cell_type": "code",
      "source": [],
      "metadata": {
        "id": "B3-R8FCO8VrL"
      },
      "execution_count": null,
      "outputs": []
    },
    {
      "cell_type": "markdown",
      "source": [
        "#List Method"
      ],
      "metadata": {
        "id": "TBIb2FQe8k19"
      }
    },
    {
      "cell_type": "code",
      "source": [
        "list1 = ['ai','cs','ds', 2,3,4,[8,4,5,True,(1,4)]]"
      ],
      "metadata": {
        "id": "_FidM6nK8ndq"
      },
      "execution_count": 30,
      "outputs": []
    },
    {
      "cell_type": "code",
      "source": [
        "list1"
      ],
      "metadata": {
        "colab": {
          "base_uri": "https://localhost:8080/"
        },
        "id": "ioAFsikb8-Bj",
        "outputId": "e4e716ef-9ed6-4cb4-88d9-b2752aac7474"
      },
      "execution_count": 31,
      "outputs": [
        {
          "output_type": "execute_result",
          "data": {
            "text/plain": [
              "['ai', 'cs', 'ds', 2, 3, 4, [8, 4, 5, True, (1, 4)]]"
            ]
          },
          "metadata": {},
          "execution_count": 31
        }
      ]
    },
    {
      "cell_type": "code",
      "source": [
        "type(list1)"
      ],
      "metadata": {
        "colab": {
          "base_uri": "https://localhost:8080/"
        },
        "id": "8W1QlrAD8_tS",
        "outputId": "8453e0f1-ef4c-4f5a-cda5-54e08f9bc72f"
      },
      "execution_count": 32,
      "outputs": [
        {
          "output_type": "execute_result",
          "data": {
            "text/plain": [
              "list"
            ]
          },
          "metadata": {},
          "execution_count": 32
        }
      ]
    },
    {
      "cell_type": "code",
      "source": [
        "list1[0]"
      ],
      "metadata": {
        "colab": {
          "base_uri": "https://localhost:8080/",
          "height": 35
        },
        "id": "N7WblwJa9CRT",
        "outputId": "65be7581-f676-4be1-9a4d-696e5d345d6d"
      },
      "execution_count": 33,
      "outputs": [
        {
          "output_type": "execute_result",
          "data": {
            "text/plain": [
              "'ai'"
            ],
            "application/vnd.google.colaboratory.intrinsic+json": {
              "type": "string"
            }
          },
          "metadata": {},
          "execution_count": 33
        }
      ]
    },
    {
      "cell_type": "code",
      "source": [
        "list1[-1]"
      ],
      "metadata": {
        "colab": {
          "base_uri": "https://localhost:8080/"
        },
        "id": "PINCQFEk9GyC",
        "outputId": "e6fd5d39-aac5-4d03-f67f-7748c6c7a1e0"
      },
      "execution_count": 35,
      "outputs": [
        {
          "output_type": "execute_result",
          "data": {
            "text/plain": [
              "[8, 4, 5, True, (1, 4)]"
            ]
          },
          "metadata": {},
          "execution_count": 35
        }
      ]
    },
    {
      "cell_type": "code",
      "source": [
        "list1 [-1][-2]"
      ],
      "metadata": {
        "colab": {
          "base_uri": "https://localhost:8080/"
        },
        "id": "74qsanU79JHK",
        "outputId": "e5ed653a-7ce8-4d52-f38f-59dcbcd7912d"
      },
      "execution_count": 36,
      "outputs": [
        {
          "output_type": "execute_result",
          "data": {
            "text/plain": [
              "True"
            ]
          },
          "metadata": {},
          "execution_count": 36
        }
      ]
    },
    {
      "cell_type": "markdown",
      "source": [
        "#Copy"
      ],
      "metadata": {
        "id": "7og1ZX2S9Yud"
      }
    },
    {
      "cell_type": "code",
      "source": [
        "list2 = list1"
      ],
      "metadata": {
        "id": "yWi7eZo49aL6"
      },
      "execution_count": 37,
      "outputs": []
    },
    {
      "cell_type": "code",
      "source": [
        "list2"
      ],
      "metadata": {
        "colab": {
          "base_uri": "https://localhost:8080/"
        },
        "id": "XfITVnXiGhLi",
        "outputId": "b33107af-339b-4bdf-9079-2c026a543a86"
      },
      "execution_count": 38,
      "outputs": [
        {
          "output_type": "execute_result",
          "data": {
            "text/plain": [
              "['ai', 'cs', 'ds', 2, 3, 4, [8, 4, 5, True, (1, 4)]]"
            ]
          },
          "metadata": {},
          "execution_count": 38
        }
      ]
    },
    {
      "cell_type": "code",
      "source": [
        "list1"
      ],
      "metadata": {
        "colab": {
          "base_uri": "https://localhost:8080/"
        },
        "id": "FZlM6LNeGi4a",
        "outputId": "afb1317c-1ce7-4edc-8731-40dbaafa9624"
      },
      "execution_count": 39,
      "outputs": [
        {
          "output_type": "execute_result",
          "data": {
            "text/plain": [
              "['ai', 'cs', 'ds', 2, 3, 4, [8, 4, 5, True, (1, 4)]]"
            ]
          },
          "metadata": {},
          "execution_count": 39
        }
      ]
    },
    {
      "cell_type": "code",
      "source": [
        "list3 = list1.copy()"
      ],
      "metadata": {
        "id": "-YUdm6CPGlBi"
      },
      "execution_count": 40,
      "outputs": []
    },
    {
      "cell_type": "code",
      "source": [
        "list3"
      ],
      "metadata": {
        "colab": {
          "base_uri": "https://localhost:8080/"
        },
        "id": "1pbOIiqwGqQS",
        "outputId": "7c3ef2bb-1dd2-4f20-f178-465f8e1ec276"
      },
      "execution_count": 41,
      "outputs": [
        {
          "output_type": "execute_result",
          "data": {
            "text/plain": [
              "['ai', 'cs', 'ds', 2, 3, 4, [8, 4, 5, True, (1, 4)]]"
            ]
          },
          "metadata": {},
          "execution_count": 41
        }
      ]
    },
    {
      "cell_type": "code",
      "source": [
        "list1[0] = '1000'"
      ],
      "metadata": {
        "id": "M2S_RFOHGsVy"
      },
      "execution_count": 42,
      "outputs": []
    },
    {
      "cell_type": "code",
      "source": [
        "list1"
      ],
      "metadata": {
        "colab": {
          "base_uri": "https://localhost:8080/"
        },
        "id": "5SoPNqphG3fL",
        "outputId": "adbfbce9-58f1-4cb5-879b-443604f295fc"
      },
      "execution_count": 43,
      "outputs": [
        {
          "output_type": "execute_result",
          "data": {
            "text/plain": [
              "['1000', 'cs', 'ds', 2, 3, 4, [8, 4, 5, True, (1, 4)]]"
            ]
          },
          "metadata": {},
          "execution_count": 43
        }
      ]
    },
    {
      "cell_type": "code",
      "source": [
        "list2"
      ],
      "metadata": {
        "colab": {
          "base_uri": "https://localhost:8080/"
        },
        "id": "s_uybKAYG4g7",
        "outputId": "4361c411-2d84-4e22-a98e-fb3e5cf158d7"
      },
      "execution_count": 44,
      "outputs": [
        {
          "output_type": "execute_result",
          "data": {
            "text/plain": [
              "['1000', 'cs', 'ds', 2, 3, 4, [8, 4, 5, True, (1, 4)]]"
            ]
          },
          "metadata": {},
          "execution_count": 44
        }
      ]
    },
    {
      "cell_type": "code",
      "source": [
        "list3"
      ],
      "metadata": {
        "colab": {
          "base_uri": "https://localhost:8080/"
        },
        "id": "XQ2VAMvZHMmK",
        "outputId": "925b8e8f-e6b2-4474-c7e5-fc8fd2d0cf52"
      },
      "execution_count": 45,
      "outputs": [
        {
          "output_type": "execute_result",
          "data": {
            "text/plain": [
              "['ai', 'cs', 'ds', 2, 3, 4, [8, 4, 5, True, (1, 4)]]"
            ]
          },
          "metadata": {},
          "execution_count": 45
        }
      ]
    },
    {
      "cell_type": "code",
      "source": [
        "list3[0] = 'Data'"
      ],
      "metadata": {
        "id": "Jsd4jzmFHO_C"
      },
      "execution_count": 46,
      "outputs": []
    },
    {
      "cell_type": "code",
      "source": [
        "list3"
      ],
      "metadata": {
        "colab": {
          "base_uri": "https://localhost:8080/"
        },
        "id": "5PQdQ1ACHYEK",
        "outputId": "b291cd0d-c45a-4c60-868f-5040fe8f340a"
      },
      "execution_count": 47,
      "outputs": [
        {
          "output_type": "execute_result",
          "data": {
            "text/plain": [
              "['Data', 'cs', 'ds', 2, 3, 4, [8, 4, 5, True, (1, 4)]]"
            ]
          },
          "metadata": {},
          "execution_count": 47
        }
      ]
    },
    {
      "cell_type": "code",
      "source": [
        "list1"
      ],
      "metadata": {
        "colab": {
          "base_uri": "https://localhost:8080/"
        },
        "id": "aiWI_GIJHacq",
        "outputId": "b7f9fd08-0aaa-4e75-b946-0cbe0bb94d55"
      },
      "execution_count": 48,
      "outputs": [
        {
          "output_type": "execute_result",
          "data": {
            "text/plain": [
              "['1000', 'cs', 'ds', 2, 3, 4, [8, 4, 5, True, (1, 4)]]"
            ]
          },
          "metadata": {},
          "execution_count": 48
        }
      ]
    },
    {
      "cell_type": "markdown",
      "source": [
        "#Appent ()"
      ],
      "metadata": {
        "id": "ZSvhAUH6HjWH"
      }
    },
    {
      "cell_type": "code",
      "source": [
        "list1.append(20)"
      ],
      "metadata": {
        "id": "biY0i--XHmMb"
      },
      "execution_count": 49,
      "outputs": []
    },
    {
      "cell_type": "code",
      "source": [
        "list1"
      ],
      "metadata": {
        "colab": {
          "base_uri": "https://localhost:8080/"
        },
        "id": "MpFqYh0wHtE7",
        "outputId": "2eaabbc1-39db-487b-f784-684310576e8c"
      },
      "execution_count": 50,
      "outputs": [
        {
          "output_type": "execute_result",
          "data": {
            "text/plain": [
              "['1000', 'cs', 'ds', 2, 3, 4, [8, 4, 5, True, (1, 4)], 20]"
            ]
          },
          "metadata": {},
          "execution_count": 50
        }
      ]
    },
    {
      "cell_type": "code",
      "source": [
        "l1 = [10,100,30]"
      ],
      "metadata": {
        "id": "z0zO6BLrHuci"
      },
      "execution_count": 51,
      "outputs": []
    },
    {
      "cell_type": "code",
      "source": [
        "l1"
      ],
      "metadata": {
        "colab": {
          "base_uri": "https://localhost:8080/"
        },
        "id": "w_qdjka5H1-r",
        "outputId": "ab21777b-7e98-49f1-cfbb-75526d3ceca4"
      },
      "execution_count": 52,
      "outputs": [
        {
          "output_type": "execute_result",
          "data": {
            "text/plain": [
              "[10, 100, 30]"
            ]
          },
          "metadata": {},
          "execution_count": 52
        }
      ]
    },
    {
      "cell_type": "code",
      "source": [
        "list1.append(l1)"
      ],
      "metadata": {
        "id": "3-XuAFkgH2m6"
      },
      "execution_count": 53,
      "outputs": []
    },
    {
      "cell_type": "code",
      "source": [
        "list1"
      ],
      "metadata": {
        "colab": {
          "base_uri": "https://localhost:8080/"
        },
        "id": "hXliN7oVH-HC",
        "outputId": "4d75957a-6130-4e22-e9ec-fbf32320fb0b"
      },
      "execution_count": 54,
      "outputs": [
        {
          "output_type": "execute_result",
          "data": {
            "text/plain": [
              "['1000', 'cs', 'ds', 2, 3, 4, [8, 4, 5, True, (1, 4)], 20, [10, 100, 30]]"
            ]
          },
          "metadata": {},
          "execution_count": 54
        }
      ]
    },
    {
      "cell_type": "code",
      "source": [
        "list1[-1]"
      ],
      "metadata": {
        "colab": {
          "base_uri": "https://localhost:8080/"
        },
        "id": "5pjy8xKCH_Uy",
        "outputId": "2d05bcb8-e530-4fc9-bdf5-9fa8bfad9ced"
      },
      "execution_count": 55,
      "outputs": [
        {
          "output_type": "execute_result",
          "data": {
            "text/plain": [
              "[10, 100, 30]"
            ]
          },
          "metadata": {},
          "execution_count": 55
        }
      ]
    },
    {
      "cell_type": "code",
      "source": [
        "list1.append({1,4,6})"
      ],
      "metadata": {
        "id": "_St0RwF-IFzz"
      },
      "execution_count": 57,
      "outputs": []
    },
    {
      "cell_type": "code",
      "source": [
        "list1"
      ],
      "metadata": {
        "colab": {
          "base_uri": "https://localhost:8080/"
        },
        "id": "4wI-2UFGIODi",
        "outputId": "6e8c47c5-2f15-4c87-a687-2033730f3346"
      },
      "execution_count": 58,
      "outputs": [
        {
          "output_type": "execute_result",
          "data": {
            "text/plain": [
              "['1000',\n",
              " 'cs',\n",
              " 'ds',\n",
              " 2,\n",
              " 3,\n",
              " 4,\n",
              " [8, 4, 5, True, (1, 4)],\n",
              " 20,\n",
              " [10, 100, 30],\n",
              " {1, 4, 6}]"
            ]
          },
          "metadata": {},
          "execution_count": 58
        }
      ]
    },
    {
      "cell_type": "code",
      "source": [
        "list1[-1]"
      ],
      "metadata": {
        "colab": {
          "base_uri": "https://localhost:8080/"
        },
        "id": "1WtkMh6bITKS",
        "outputId": "5b192017-8674-4fc1-9966-ca1f0abe2192"
      },
      "execution_count": 60,
      "outputs": [
        {
          "output_type": "execute_result",
          "data": {
            "text/plain": [
              "{1, 4, 6}"
            ]
          },
          "metadata": {},
          "execution_count": 60
        }
      ]
    },
    {
      "cell_type": "markdown",
      "source": [
        "#Extend()"
      ],
      "metadata": {
        "id": "7Z61zAgzIhgW"
      }
    },
    {
      "cell_type": "code",
      "source": [
        "list1.extend(l1)"
      ],
      "metadata": {
        "id": "CzLQdGyHIkE6"
      },
      "execution_count": 61,
      "outputs": []
    },
    {
      "cell_type": "code",
      "source": [
        "list1"
      ],
      "metadata": {
        "colab": {
          "base_uri": "https://localhost:8080/"
        },
        "id": "DCjqkxhTIrKy",
        "outputId": "c42badbf-e5e3-498e-fe93-1ef335be2590"
      },
      "execution_count": 62,
      "outputs": [
        {
          "output_type": "execute_result",
          "data": {
            "text/plain": [
              "['1000',\n",
              " 'cs',\n",
              " 'ds',\n",
              " 2,\n",
              " 3,\n",
              " 4,\n",
              " [8, 4, 5, True, (1, 4)],\n",
              " 20,\n",
              " [10, 100, 30],\n",
              " {1, 4, 6},\n",
              " 10,\n",
              " 100,\n",
              " 30]"
            ]
          },
          "metadata": {},
          "execution_count": 62
        }
      ]
    },
    {
      "cell_type": "markdown",
      "source": [
        "#insert()"
      ],
      "metadata": {
        "id": "td6f_7qQI06D"
      }
    },
    {
      "cell_type": "code",
      "source": [
        "list1.insert(0,'sata')"
      ],
      "metadata": {
        "id": "dIMgPh7UI2rC"
      },
      "execution_count": 63,
      "outputs": []
    },
    {
      "cell_type": "code",
      "source": [
        "list1"
      ],
      "metadata": {
        "colab": {
          "base_uri": "https://localhost:8080/"
        },
        "id": "TjUa-6wYJDEb",
        "outputId": "3de6631a-83ee-44f6-89c1-bd9e541c0b68"
      },
      "execution_count": 64,
      "outputs": [
        {
          "output_type": "execute_result",
          "data": {
            "text/plain": [
              "['sata',\n",
              " '1000',\n",
              " 'cs',\n",
              " 'ds',\n",
              " 2,\n",
              " 3,\n",
              " 4,\n",
              " [8, 4, 5, True, (1, 4)],\n",
              " 20,\n",
              " [10, 100, 30],\n",
              " {1, 4, 6},\n",
              " 10,\n",
              " 100,\n",
              " 30]"
            ]
          },
          "metadata": {},
          "execution_count": 64
        }
      ]
    },
    {
      "cell_type": "code",
      "source": [
        "list1[0] = 'DIU'"
      ],
      "metadata": {
        "id": "Bo4Srz6WJDyK"
      },
      "execution_count": 65,
      "outputs": []
    },
    {
      "cell_type": "code",
      "source": [
        "list1"
      ],
      "metadata": {
        "colab": {
          "base_uri": "https://localhost:8080/"
        },
        "id": "EW2K-KWrJM3D",
        "outputId": "4f722727-4cf7-4ac4-8b23-a293b3d1e148"
      },
      "execution_count": 66,
      "outputs": [
        {
          "output_type": "execute_result",
          "data": {
            "text/plain": [
              "['DIU',\n",
              " '1000',\n",
              " 'cs',\n",
              " 'ds',\n",
              " 2,\n",
              " 3,\n",
              " 4,\n",
              " [8, 4, 5, True, (1, 4)],\n",
              " 20,\n",
              " [10, 100, 30],\n",
              " {1, 4, 6},\n",
              " 10,\n",
              " 100,\n",
              " 30]"
            ]
          },
          "metadata": {},
          "execution_count": 66
        }
      ]
    },
    {
      "cell_type": "markdown",
      "source": [
        "#index()"
      ],
      "metadata": {
        "id": "sPkd6eaZJYLb"
      }
    },
    {
      "cell_type": "code",
      "source": [
        "list1.index(2)"
      ],
      "metadata": {
        "colab": {
          "base_uri": "https://localhost:8080/"
        },
        "id": "WZhtO3ueJZq6",
        "outputId": "a5d22a79-6269-4633-d1c6-3720eb139dc6"
      },
      "execution_count": 68,
      "outputs": [
        {
          "output_type": "execute_result",
          "data": {
            "text/plain": [
              "4"
            ]
          },
          "metadata": {},
          "execution_count": 68
        }
      ]
    },
    {
      "cell_type": "code",
      "source": [
        "list1.index([10, 100, 30])"
      ],
      "metadata": {
        "colab": {
          "base_uri": "https://localhost:8080/"
        },
        "id": "fVfQWQCbJglC",
        "outputId": "4896b568-6dfd-408a-be99-2491377db466"
      },
      "execution_count": 69,
      "outputs": [
        {
          "output_type": "execute_result",
          "data": {
            "text/plain": [
              "9"
            ]
          },
          "metadata": {},
          "execution_count": 69
        }
      ]
    },
    {
      "cell_type": "markdown",
      "source": [
        "#count()"
      ],
      "metadata": {
        "id": "bk5pAA7xJ3nQ"
      }
    },
    {
      "cell_type": "code",
      "source": [
        "list1.count([10, 100, 30])"
      ],
      "metadata": {
        "colab": {
          "base_uri": "https://localhost:8080/"
        },
        "id": "UW07CMpxJ40w",
        "outputId": "ed2ebaff-514d-45e1-af86-f416dabdade0"
      },
      "execution_count": 70,
      "outputs": [
        {
          "output_type": "execute_result",
          "data": {
            "text/plain": [
              "1"
            ]
          },
          "metadata": {},
          "execution_count": 70
        }
      ]
    },
    {
      "cell_type": "code",
      "source": [
        "list1.count(2)"
      ],
      "metadata": {
        "colab": {
          "base_uri": "https://localhost:8080/"
        },
        "id": "nhiygSXLJ9bS",
        "outputId": "307f8c76-df06-4fc8-9798-29ab5c288006"
      },
      "execution_count": 71,
      "outputs": [
        {
          "output_type": "execute_result",
          "data": {
            "text/plain": [
              "1"
            ]
          },
          "metadata": {},
          "execution_count": 71
        }
      ]
    },
    {
      "cell_type": "code",
      "source": [
        "ls2 = [10,30,20]"
      ],
      "metadata": {
        "id": "smtZQ9SeKA0T"
      },
      "execution_count": 75,
      "outputs": []
    },
    {
      "cell_type": "code",
      "source": [
        "ls2.sort()"
      ],
      "metadata": {
        "id": "t707vVoxKWgS"
      },
      "execution_count": 76,
      "outputs": []
    },
    {
      "cell_type": "code",
      "source": [
        "ls2"
      ],
      "metadata": {
        "colab": {
          "base_uri": "https://localhost:8080/"
        },
        "id": "OXTL3uTsKYOS",
        "outputId": "b713c2b3-3b38-4864-bf0a-3aea371b0335"
      },
      "execution_count": 77,
      "outputs": [
        {
          "output_type": "execute_result",
          "data": {
            "text/plain": [
              "[10, 20, 30]"
            ]
          },
          "metadata": {},
          "execution_count": 77
        }
      ]
    },
    {
      "cell_type": "markdown",
      "source": [
        "#reverse()"
      ],
      "metadata": {
        "id": "I94sJMKfKiHW"
      }
    },
    {
      "cell_type": "code",
      "source": [
        "ls2.reverse()"
      ],
      "metadata": {
        "id": "RS2ARLqaKlYS"
      },
      "execution_count": 78,
      "outputs": []
    },
    {
      "cell_type": "code",
      "source": [
        "ls2"
      ],
      "metadata": {
        "colab": {
          "base_uri": "https://localhost:8080/"
        },
        "id": "N_WwJnNcKpfT",
        "outputId": "81d16d2a-0973-4082-db6e-01567fe58259"
      },
      "execution_count": 79,
      "outputs": [
        {
          "output_type": "execute_result",
          "data": {
            "text/plain": [
              "[30, 20, 10]"
            ]
          },
          "metadata": {},
          "execution_count": 79
        }
      ]
    },
    {
      "cell_type": "markdown",
      "source": [
        "#remove()"
      ],
      "metadata": {
        "id": "ePBewA0OKtAv"
      }
    },
    {
      "cell_type": "code",
      "source": [
        "ls2.remove(10)"
      ],
      "metadata": {
        "id": "frfPemsEKuiq"
      },
      "execution_count": 80,
      "outputs": []
    },
    {
      "cell_type": "code",
      "source": [
        "ls2"
      ],
      "metadata": {
        "colab": {
          "base_uri": "https://localhost:8080/"
        },
        "id": "VvCKUub0K0_i",
        "outputId": "18a3f455-4b3d-44da-856a-96079d332d1f"
      },
      "execution_count": 81,
      "outputs": [
        {
          "output_type": "execute_result",
          "data": {
            "text/plain": [
              "[30, 20]"
            ]
          },
          "metadata": {},
          "execution_count": 81
        }
      ]
    },
    {
      "cell_type": "markdown",
      "source": [
        "#pop()"
      ],
      "metadata": {
        "id": "Ol7GY019K4H-"
      }
    },
    {
      "cell_type": "code",
      "source": [
        "ls2.pop(-1)"
      ],
      "metadata": {
        "colab": {
          "base_uri": "https://localhost:8080/"
        },
        "id": "ao3TB6i_K5e6",
        "outputId": "3743e2d7-36c0-4f23-e1c2-cd639b4b474c"
      },
      "execution_count": 82,
      "outputs": [
        {
          "output_type": "execute_result",
          "data": {
            "text/plain": [
              "20"
            ]
          },
          "metadata": {},
          "execution_count": 82
        }
      ]
    },
    {
      "cell_type": "code",
      "source": [
        "ls2"
      ],
      "metadata": {
        "colab": {
          "base_uri": "https://localhost:8080/"
        },
        "id": "50UPIseMK_-b",
        "outputId": "dba8cf68-1e49-452d-c9ab-460e0201b43c"
      },
      "execution_count": 83,
      "outputs": [
        {
          "output_type": "execute_result",
          "data": {
            "text/plain": [
              "[30]"
            ]
          },
          "metadata": {},
          "execution_count": 83
        }
      ]
    },
    {
      "cell_type": "code",
      "source": [
        "del ls2[0]"
      ],
      "metadata": {
        "id": "vkLrj_ebLDZy"
      },
      "execution_count": 85,
      "outputs": []
    },
    {
      "cell_type": "code",
      "source": [
        "ls2"
      ],
      "metadata": {
        "colab": {
          "base_uri": "https://localhost:8080/"
        },
        "id": "IEDTVn2gLa1h",
        "outputId": "34fbff91-7665-44ef-d983-66cf44a5c766"
      },
      "execution_count": 88,
      "outputs": [
        {
          "output_type": "execute_result",
          "data": {
            "text/plain": [
              "[]"
            ]
          },
          "metadata": {},
          "execution_count": 88
        }
      ]
    },
    {
      "cell_type": "code",
      "source": [
        "l1"
      ],
      "metadata": {
        "colab": {
          "base_uri": "https://localhost:8080/"
        },
        "id": "M6AAgRpULQd6",
        "outputId": "6c9933f4-b408-4d50-b222-70fb691a104d"
      },
      "execution_count": 89,
      "outputs": [
        {
          "output_type": "execute_result",
          "data": {
            "text/plain": [
              "[10, 100, 30]"
            ]
          },
          "metadata": {},
          "execution_count": 89
        }
      ]
    },
    {
      "cell_type": "code",
      "source": [
        "l1.clear()"
      ],
      "metadata": {
        "id": "g0V2zETALW-c"
      },
      "execution_count": 90,
      "outputs": []
    },
    {
      "cell_type": "code",
      "source": [
        "l1"
      ],
      "metadata": {
        "colab": {
          "base_uri": "https://localhost:8080/"
        },
        "id": "1zqT3U61LgIC",
        "outputId": "5d7ebf10-c2f3-4c78-8d59-3bb622e6db3d"
      },
      "execution_count": 91,
      "outputs": [
        {
          "output_type": "execute_result",
          "data": {
            "text/plain": [
              "[]"
            ]
          },
          "metadata": {},
          "execution_count": 91
        }
      ]
    },
    {
      "cell_type": "code",
      "source": [
        "type(l1)"
      ],
      "metadata": {
        "colab": {
          "base_uri": "https://localhost:8080/"
        },
        "id": "skd0bhpQLgrL",
        "outputId": "5f277bec-f704-47c4-a57d-05a6e82eb970"
      },
      "execution_count": 92,
      "outputs": [
        {
          "output_type": "execute_result",
          "data": {
            "text/plain": [
              "list"
            ]
          },
          "metadata": {},
          "execution_count": 92
        }
      ]
    },
    {
      "cell_type": "code",
      "source": [
        "type(ls2)"
      ],
      "metadata": {
        "colab": {
          "base_uri": "https://localhost:8080/"
        },
        "id": "2kbTh7kcLoPr",
        "outputId": "a13167bf-4b43-4b46-d702-14960facd80e"
      },
      "execution_count": 93,
      "outputs": [
        {
          "output_type": "execute_result",
          "data": {
            "text/plain": [
              "list"
            ]
          },
          "metadata": {},
          "execution_count": 93
        }
      ]
    },
    {
      "cell_type": "code",
      "source": [],
      "metadata": {
        "id": "mfkpqPixLqGC"
      },
      "execution_count": null,
      "outputs": []
    }
  ]
}